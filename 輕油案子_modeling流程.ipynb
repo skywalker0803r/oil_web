{
  "nbformat": 4,
  "nbformat_minor": 0,
  "metadata": {
    "colab": {
      "name": "輕油案子_交叉驗證_選模.ipynb",
      "provenance": [],
      "collapsed_sections": [],
      "include_colab_link": true
    },
    "kernelspec": {
      "name": "python3",
      "display_name": "Python 3"
    },
    "accelerator": "GPU"
  },
  "cells": [
    {
      "cell_type": "markdown",
      "metadata": {
        "id": "view-in-github",
        "colab_type": "text"
      },
      "source": [
        "<a href=\"https://colab.research.google.com/github/skywalker0803r/oil_web/blob/master/%E8%BC%95%E6%B2%B9%E6%A1%88%E5%AD%90_modeling%E6%B5%81%E7%A8%8B.ipynb\" target=\"_parent\"><img src=\"https://colab.research.google.com/assets/colab-badge.svg\" alt=\"Open In Colab\"/></a>"
      ]
    },
    {
      "cell_type": "code",
      "metadata": {
        "id": "nHozv94dryCb",
        "colab_type": "code",
        "outputId": "c43c274f-8b15-4f42-bd0b-fd340c5463c1",
        "colab": {
          "base_uri": "https://localhost:8080/",
          "height": 36
        }
      },
      "source": [
        "#!pip install catboost\n",
        "from google.colab import drive\n",
        "drive.mount('/content/drive')\n",
        "from sklearn.multioutput import MultiOutputRegressor\n",
        "import pandas as pd\n",
        "from sklearn.model_selection import train_test_split\n",
        "import numpy as np\n",
        "import warnings;warnings.simplefilter('ignore')\n",
        "from sklearn.ensemble import RandomForestRegressor\n",
        "from sklearn.svm import SVR\n",
        "from sklearn.neural_network import MLPRegressor\n",
        "from sklearn.model_selection import cross_validate\n",
        "from sklearn.linear_model import BayesianRidge, LinearRegression,Lasso,Ridge\n",
        "from xgboost import XGBRegressor\n",
        "from catboost import CatBoostRegressor\n",
        "from lightgbm import LGBMRegressor\n",
        "from sklearn.preprocessing import StandardScaler\n",
        "from sklearn.metrics import r2_score,mean_squared_error,mean_absolute_error,max_error,make_scorer\n",
        "from math import sqrt\n",
        "from sklearn.manifold import isomap\n",
        "from numpy import sqrt\n",
        "import plotly.express as px\n",
        "import plotly\n",
        "import matplotlib.pyplot as plt\n",
        "import seaborn as sns\n",
        "from mlxtend.regressor import StackingCVRegressor\n",
        "from sklearn.linear_model import Lasso\n",
        "from sklearn.feature_selection import SelectFromModel\n",
        "from sklearn.pipeline import Pipeline"
      ],
      "execution_count": 41,
      "outputs": [
        {
          "output_type": "stream",
          "text": [
            "Drive already mounted at /content/drive; to attempt to forcibly remount, call drive.mount(\"/content/drive\", force_remount=True).\n"
          ],
          "name": "stdout"
        }
      ]
    },
    {
      "cell_type": "markdown",
      "metadata": {
        "id": "b3Hu0GOruzAy",
        "colab_type": "text"
      },
      "source": [
        "# some function"
      ]
    },
    {
      "cell_type": "code",
      "metadata": {
        "id": "4zGiVpXYtnP4",
        "colab_type": "code",
        "colab": {}
      },
      "source": [
        "def mape(a, b):\n",
        "    a = np.array(a)\n",
        "    b = np.array(b)\n",
        "    mask = a != 0\n",
        "    return (np.fabs(a-b)/a)[mask].mean()\n",
        "\n",
        "def metric(y_t,y_p,name):\n",
        "  res = {'R2' : max(r2_score(y_t,y_p), 0),\n",
        "         'RMSE': sqrt(mean_squared_error(y_t,y_p)),\n",
        "         'MAPE': mape(y_t,y_p)}\n",
        "  return pd.DataFrame(res,index=[name])"
      ],
      "execution_count": 0,
      "outputs": []
    },
    {
      "cell_type": "markdown",
      "metadata": {
        "id": "OMYvLpGxtxts",
        "colab_type": "text"
      },
      "source": [
        "# load data"
      ]
    },
    {
      "cell_type": "code",
      "metadata": {
        "id": "yL-N58Lkr6VK",
        "colab_type": "code",
        "outputId": "e0162a4b-bae7-4d1a-fb5c-67b31a6877eb",
        "colab": {
          "base_uri": "https://localhost:8080/",
          "height": 55
        }
      },
      "source": [
        "data = pd.read_csv('/content/drive/My Drive/台塑輕油案子/data/test_250.csv',index_col=0)\n",
        "train = data.loc[data.index %5 != 0]\n",
        "test = data.loc[data.index %5 == 0]\n",
        "test = test.drop(95,axis=0)\n",
        "print(train.shape)\n",
        "print(test.shape)"
      ],
      "execution_count": 43,
      "outputs": [
        {
          "output_type": "stream",
          "text": [
            "(200, 31)\n",
            "(49, 31)\n"
          ],
          "name": "stdout"
        }
      ]
    },
    {
      "cell_type": "markdown",
      "metadata": {
        "id": "9aaTV87PYJlt",
        "colab_type": "text"
      },
      "source": [
        "# N+A >= 36"
      ]
    },
    {
      "cell_type": "code",
      "metadata": {
        "id": "2G6fKoJXYJvd",
        "colab_type": "code",
        "outputId": "3f3df3d8-c6c6-496c-ac70-5746909ae851",
        "colab": {
          "base_uri": "https://localhost:8080/",
          "height": 55
        }
      },
      "source": [
        "def select_NaddA(df):\n",
        "  condition=(df['N+A']>=36)\n",
        "  return df.loc[condition]\n",
        "test = select_NaddA(test)\n",
        "print(train.shape)\n",
        "print(test.shape)"
      ],
      "execution_count": 44,
      "outputs": [
        {
          "output_type": "stream",
          "text": [
            "(200, 31)\n",
            "(43, 31)\n"
          ],
          "name": "stdout"
        }
      ]
    },
    {
      "cell_type": "markdown",
      "metadata": {
        "id": "94ezigrtt0o7",
        "colab_type": "text"
      },
      "source": [
        "# 定義欄位"
      ]
    },
    {
      "cell_type": "code",
      "metadata": {
        "id": "3hEEUCvFPNWv",
        "colab_type": "code",
        "colab": {
          "base_uri": "https://localhost:8080/",
          "height": 56
        },
        "outputId": "77a54e2b-8c55-4e2f-93bc-b15f6a67a2b8"
      },
      "source": [
        "cols = train.columns.tolist()\n",
        "print(cols)"
      ],
      "execution_count": 45,
      "outputs": [
        {
          "output_type": "stream",
          "text": [
            "['DATE', 'N+A', 'T10', 'T50', 'T90', 'C5NP', 'C5IP', 'C5N', 'C6NP', 'C6IP', 'C6N', 'C6A', 'C7NP', 'C7IP', 'C7N', 'C7A', 'C8NP', 'C8IP', 'C8N', 'C8A', 'C9NP', 'C9IP', 'C9N', 'C9A', 'C10NP', 'C10IP', 'C10N', 'C10A', 'SUM', 'IBP', 'EBP']\n"
          ],
          "name": "stdout"
        }
      ]
    },
    {
      "cell_type": "code",
      "metadata": {
        "id": "5x5ipClaslus",
        "colab_type": "code",
        "colab": {}
      },
      "source": [
        "features = ['IBP','T10','T50','T90','N+A','EBP']\n",
        "y_columns = ['C5NP', 'C5IP', 'C5N', \n",
        "             'C6NP', 'C6IP', 'C6N', 'C6A', \n",
        "             'C7NP', 'C7IP', 'C7N', 'C7A', \n",
        "             'C8NP', 'C8IP', 'C8N', 'C8A', \n",
        "             'C9NP', 'C9IP', 'C9N', 'C9A', \n",
        "             'C10NP', 'C10IP', 'C10N', 'C10A']"
      ],
      "execution_count": 0,
      "outputs": []
    },
    {
      "cell_type": "markdown",
      "metadata": {
        "id": "VSIAqhjUSmpa",
        "colab_type": "text"
      },
      "source": [
        "# 定義x,y"
      ]
    },
    {
      "cell_type": "code",
      "metadata": {
        "id": "6SGE09AzSmyN",
        "colab_type": "code",
        "colab": {}
      },
      "source": [
        "X_train = train[features]\n",
        "X_test = test[features]\n",
        "y_train = train[y_columns]\n",
        "y_test = test[y_columns]"
      ],
      "execution_count": 0,
      "outputs": []
    },
    {
      "cell_type": "markdown",
      "metadata": {
        "id": "8yCOYyDkRknM",
        "colab_type": "text"
      },
      "source": [
        "# 產生溫差特徵"
      ]
    },
    {
      "cell_type": "code",
      "metadata": {
        "id": "5fb5oIQGRku4",
        "colab_type": "code",
        "colab": {}
      },
      "source": [
        "for df in [X_train,X_test]:\n",
        "  df['T10-EBP'] = df['T10']-df['IBP']\n",
        "  df['T50-T10'] = df['T50']-df['T10']\n",
        "  df['T90-T50'] = df['T90']-df['T50']\n",
        "  df['EBP-T90'] = df['EBP']-df['T90']"
      ],
      "execution_count": 0,
      "outputs": []
    },
    {
      "cell_type": "markdown",
      "metadata": {
        "id": "ht2BjY0FTK9M",
        "colab_type": "text"
      },
      "source": [
        "# 產生交互作用項"
      ]
    },
    {
      "cell_type": "code",
      "metadata": {
        "id": "T7jg1HYGTLK-",
        "colab_type": "code",
        "colab": {}
      },
      "source": [
        "from sklearn.preprocessing import PolynomialFeatures\n",
        "interaction = PolynomialFeatures(2, interaction_only=True, include_bias=False)\n",
        "X_train = interaction.fit_transform(X_train)\n",
        "X_train = pd.DataFrame(X_train,columns=interaction.get_feature_names())\n",
        "X_test = interaction.transform(X_test)\n",
        "X_test = pd.DataFrame(X_test,columns=interaction.get_feature_names())"
      ],
      "execution_count": 0,
      "outputs": []
    },
    {
      "cell_type": "markdown",
      "metadata": {
        "id": "65YRKP6TU0iW",
        "colab_type": "text"
      },
      "source": [
        "# 平方"
      ]
    },
    {
      "cell_type": "code",
      "metadata": {
        "id": "wixGRVswT35x",
        "colab_type": "code",
        "colab": {}
      },
      "source": [
        "X_train = X_train**2\n",
        "X_test = X_test**2"
      ],
      "execution_count": 0,
      "outputs": []
    },
    {
      "cell_type": "markdown",
      "metadata": {
        "id": "b324SqyLt4G9",
        "colab_type": "text"
      },
      "source": [
        "# StandardScaler"
      ]
    },
    {
      "cell_type": "code",
      "metadata": {
        "id": "Jd-V-DaMs_6P",
        "colab_type": "code",
        "colab": {}
      },
      "source": [
        "scaler_x = StandardScaler()\n",
        "X_train[:] = scaler_x.fit_transform(X_train[:])\n",
        "X_test[:] = scaler_x.transform(X_test[:])"
      ],
      "execution_count": 0,
      "outputs": []
    },
    {
      "cell_type": "markdown",
      "metadata": {
        "id": "ZGDHX0KUeIFo",
        "colab_type": "text"
      },
      "source": [
        "# sort index"
      ]
    },
    {
      "cell_type": "code",
      "metadata": {
        "id": "lDYuzT5KaWy_",
        "colab_type": "code",
        "colab": {}
      },
      "source": [
        "X_train = X_train.sort_index()\n",
        "X_test = X_test.sort_index()\n",
        "y_train = y_train.sort_index()\n",
        "y_test = y_test.sort_index()"
      ],
      "execution_count": 0,
      "outputs": []
    },
    {
      "cell_type": "code",
      "metadata": {
        "id": "vOPJPefubuwB",
        "colab_type": "code",
        "colab": {
          "base_uri": "https://localhost:8080/",
          "height": 55
        },
        "outputId": "652ff005-5929-4ec3-ad79-31ba9af92238"
      },
      "source": [
        "print(X_train.shape,y_train.shape)\n",
        "print(X_test.shape,y_test.shape)"
      ],
      "execution_count": 53,
      "outputs": [
        {
          "output_type": "stream",
          "text": [
            "(200, 55) (200, 23)\n",
            "(43, 55) (43, 23)\n"
          ],
          "name": "stdout"
        }
      ]
    },
    {
      "cell_type": "code",
      "metadata": {
        "id": "3t28VwFXmADX",
        "colab_type": "code",
        "colab": {}
      },
      "source": [
        "svr = SVR()\n",
        "cgb = CatBoostRegressor(n_estimators=100, learning_rate=0.1, verbose=0, objective='RMSE')\n",
        "lasso = Lasso(0.1)"
      ],
      "execution_count": 0,
      "outputs": []
    },
    {
      "cell_type": "markdown",
      "metadata": {
        "id": "_CxZjurydlgd",
        "colab_type": "text"
      },
      "source": [
        "# model"
      ]
    },
    {
      "cell_type": "code",
      "metadata": {
        "id": "S3LEnUc1ntZJ",
        "colab_type": "code",
        "colab": {}
      },
      "source": [
        "model = Pipeline([('feature_selection',SelectFromModel(lasso)),('regressor',cgb)])"
      ],
      "execution_count": 0,
      "outputs": []
    },
    {
      "cell_type": "code",
      "metadata": {
        "id": "zC6n5SRSU8xE",
        "colab_type": "code",
        "colab": {}
      },
      "source": [
        "#model = StackingCVRegressor(regressors = (cgb,svr),\n",
        "#                            meta_regressor = lasso,\n",
        "#                            use_features_in_secondary = True) "
      ],
      "execution_count": 0,
      "outputs": []
    },
    {
      "cell_type": "markdown",
      "metadata": {
        "id": "udMDC9i-t5U7",
        "colab_type": "text"
      },
      "source": [
        "# 測試49筆"
      ]
    },
    {
      "cell_type": "code",
      "metadata": {
        "id": "OFVRwStJkQZ_",
        "colab_type": "code",
        "colab": {}
      },
      "source": [
        "序列預測 = True"
      ],
      "execution_count": 0,
      "outputs": []
    },
    {
      "cell_type": "code",
      "metadata": {
        "id": "R0l-FrhkU-pB",
        "colab_type": "code",
        "colab": {}
      },
      "source": [
        "y_train_pred = pd.DataFrame(index = y_train.index,columns = y_columns)\n",
        "y_pred = pd.DataFrame(index = y_test.index,columns = y_columns)\n",
        "for y_name in y_columns:\n",
        "  # fit\n",
        "  model.fit(X_train.values,y_train[y_name].values)\n",
        "  # predict \n",
        "  y_train_pred[y_name] = model.predict(X_train.values)\n",
        "  y_pred[y_name] = model.predict(X_test.values)\n",
        "  # 加入y當作特徵\n",
        "  if 序列預測 == True:\n",
        "    X_train[y_name] = y_train_pred[y_name].values\n",
        "    X_test[y_name] = y_pred[y_name].values"
      ],
      "execution_count": 0,
      "outputs": []
    },
    {
      "cell_type": "code",
      "metadata": {
        "id": "_KY_YVXYi5NQ",
        "colab_type": "code",
        "colab": {
          "base_uri": "https://localhost:8080/",
          "height": 218
        },
        "outputId": "76e24f61-8fd1-492a-a5b7-e3d8f29e9d08"
      },
      "source": [
        "y_pred.head()"
      ],
      "execution_count": 59,
      "outputs": [
        {
          "output_type": "execute_result",
          "data": {
            "text/html": [
              "<div>\n",
              "<style scoped>\n",
              "    .dataframe tbody tr th:only-of-type {\n",
              "        vertical-align: middle;\n",
              "    }\n",
              "\n",
              "    .dataframe tbody tr th {\n",
              "        vertical-align: top;\n",
              "    }\n",
              "\n",
              "    .dataframe thead th {\n",
              "        text-align: right;\n",
              "    }\n",
              "</style>\n",
              "<table border=\"1\" class=\"dataframe\">\n",
              "  <thead>\n",
              "    <tr style=\"text-align: right;\">\n",
              "      <th></th>\n",
              "      <th>C5NP</th>\n",
              "      <th>C5IP</th>\n",
              "      <th>C5N</th>\n",
              "      <th>C6NP</th>\n",
              "      <th>C6IP</th>\n",
              "      <th>C6N</th>\n",
              "      <th>C6A</th>\n",
              "      <th>C7NP</th>\n",
              "      <th>C7IP</th>\n",
              "      <th>C7N</th>\n",
              "      <th>C7A</th>\n",
              "      <th>C8NP</th>\n",
              "      <th>C8IP</th>\n",
              "      <th>C8N</th>\n",
              "      <th>C8A</th>\n",
              "      <th>C9NP</th>\n",
              "      <th>C9IP</th>\n",
              "      <th>C9N</th>\n",
              "      <th>C9A</th>\n",
              "      <th>C10NP</th>\n",
              "      <th>C10IP</th>\n",
              "      <th>C10N</th>\n",
              "      <th>C10A</th>\n",
              "    </tr>\n",
              "  </thead>\n",
              "  <tbody>\n",
              "    <tr>\n",
              "      <th>0</th>\n",
              "      <td>5.919927</td>\n",
              "      <td>3.987157</td>\n",
              "      <td>0.696128</td>\n",
              "      <td>6.296456</td>\n",
              "      <td>6.108262</td>\n",
              "      <td>6.836046</td>\n",
              "      <td>1.563035</td>\n",
              "      <td>5.827593</td>\n",
              "      <td>6.396171</td>\n",
              "      <td>11.358390</td>\n",
              "      <td>3.668949</td>\n",
              "      <td>5.257793</td>\n",
              "      <td>8.663310</td>\n",
              "      <td>6.638664</td>\n",
              "      <td>3.897867</td>\n",
              "      <td>2.281084</td>\n",
              "      <td>5.556560</td>\n",
              "      <td>2.588210</td>\n",
              "      <td>0.711589</td>\n",
              "      <td>0.164601</td>\n",
              "      <td>0.700225</td>\n",
              "      <td>0.057054</td>\n",
              "      <td>0.065710</td>\n",
              "    </tr>\n",
              "    <tr>\n",
              "      <th>5</th>\n",
              "      <td>1.342189</td>\n",
              "      <td>0.937474</td>\n",
              "      <td>0.253490</td>\n",
              "      <td>6.252515</td>\n",
              "      <td>6.140787</td>\n",
              "      <td>6.803021</td>\n",
              "      <td>1.121747</td>\n",
              "      <td>7.933716</td>\n",
              "      <td>8.482112</td>\n",
              "      <td>13.007328</td>\n",
              "      <td>3.487356</td>\n",
              "      <td>7.459801</td>\n",
              "      <td>10.055625</td>\n",
              "      <td>6.874109</td>\n",
              "      <td>4.771795</td>\n",
              "      <td>2.579454</td>\n",
              "      <td>6.725121</td>\n",
              "      <td>3.078236</td>\n",
              "      <td>0.662193</td>\n",
              "      <td>0.157002</td>\n",
              "      <td>0.739588</td>\n",
              "      <td>0.069168</td>\n",
              "      <td>0.192935</td>\n",
              "    </tr>\n",
              "    <tr>\n",
              "      <th>10</th>\n",
              "      <td>0.463002</td>\n",
              "      <td>0.221767</td>\n",
              "      <td>0.087788</td>\n",
              "      <td>0.128415</td>\n",
              "      <td>0.300723</td>\n",
              "      <td>4.738234</td>\n",
              "      <td>0.152213</td>\n",
              "      <td>6.251223</td>\n",
              "      <td>8.196795</td>\n",
              "      <td>23.079189</td>\n",
              "      <td>5.492862</td>\n",
              "      <td>4.579019</td>\n",
              "      <td>8.051154</td>\n",
              "      <td>10.176765</td>\n",
              "      <td>4.968220</td>\n",
              "      <td>1.992276</td>\n",
              "      <td>5.799814</td>\n",
              "      <td>4.587780</td>\n",
              "      <td>2.292070</td>\n",
              "      <td>0.552597</td>\n",
              "      <td>2.444955</td>\n",
              "      <td>0.496865</td>\n",
              "      <td>0.943782</td>\n",
              "    </tr>\n",
              "    <tr>\n",
              "      <th>15</th>\n",
              "      <td>10.881630</td>\n",
              "      <td>7.582083</td>\n",
              "      <td>0.916814</td>\n",
              "      <td>6.706104</td>\n",
              "      <td>8.269445</td>\n",
              "      <td>9.284042</td>\n",
              "      <td>3.405365</td>\n",
              "      <td>4.860251</td>\n",
              "      <td>4.531412</td>\n",
              "      <td>11.427076</td>\n",
              "      <td>4.431903</td>\n",
              "      <td>3.781002</td>\n",
              "      <td>4.182850</td>\n",
              "      <td>4.396491</td>\n",
              "      <td>3.666162</td>\n",
              "      <td>1.899691</td>\n",
              "      <td>3.167633</td>\n",
              "      <td>1.440774</td>\n",
              "      <td>0.995009</td>\n",
              "      <td>0.338082</td>\n",
              "      <td>0.864552</td>\n",
              "      <td>0.079539</td>\n",
              "      <td>0.146550</td>\n",
              "    </tr>\n",
              "    <tr>\n",
              "      <th>25</th>\n",
              "      <td>11.328733</td>\n",
              "      <td>7.551732</td>\n",
              "      <td>0.949307</td>\n",
              "      <td>6.910363</td>\n",
              "      <td>8.300608</td>\n",
              "      <td>9.453520</td>\n",
              "      <td>3.742827</td>\n",
              "      <td>4.857630</td>\n",
              "      <td>4.251774</td>\n",
              "      <td>12.199546</td>\n",
              "      <td>4.407693</td>\n",
              "      <td>3.708874</td>\n",
              "      <td>4.348478</td>\n",
              "      <td>4.326838</td>\n",
              "      <td>3.560688</td>\n",
              "      <td>1.813337</td>\n",
              "      <td>2.990620</td>\n",
              "      <td>1.398820</td>\n",
              "      <td>0.873076</td>\n",
              "      <td>0.467486</td>\n",
              "      <td>1.053292</td>\n",
              "      <td>0.121791</td>\n",
              "      <td>0.251681</td>\n",
              "    </tr>\n",
              "  </tbody>\n",
              "</table>\n",
              "</div>"
            ],
            "text/plain": [
              "         C5NP      C5IP       C5N  ...     C10IP      C10N      C10A\n",
              "0    5.919927  3.987157  0.696128  ...  0.700225  0.057054  0.065710\n",
              "5    1.342189  0.937474  0.253490  ...  0.739588  0.069168  0.192935\n",
              "10   0.463002  0.221767  0.087788  ...  2.444955  0.496865  0.943782\n",
              "15  10.881630  7.582083  0.916814  ...  0.864552  0.079539  0.146550\n",
              "25  11.328733  7.551732  0.949307  ...  1.053292  0.121791  0.251681\n",
              "\n",
              "[5 rows x 23 columns]"
            ]
          },
          "metadata": {
            "tags": []
          },
          "execution_count": 59
        }
      ]
    },
    {
      "cell_type": "code",
      "metadata": {
        "id": "_IOXUwtFY-dn",
        "colab_type": "code",
        "colab": {
          "base_uri": "https://localhost:8080/",
          "height": 542
        },
        "outputId": "24e6e5ec-b683-459d-c044-f426f115b3ca"
      },
      "source": [
        "res = pd.DataFrame()\n",
        "for y_name in y_columns:\n",
        "  res = res.append(metric(y_train[y_name],y_train_pred[y_name],y_name))\n",
        "res.loc['AVG'] = res.mean()\n",
        "res.style.background_gradient()"
      ],
      "execution_count": 60,
      "outputs": [
        {
          "output_type": "execute_result",
          "data": {
            "text/html": [
              "<style  type=\"text/css\" >\n",
              "    #T_638af104_25f1_11ea_920a_0242ac1c0002row0_col0 {\n",
              "            background-color:  #023858;\n",
              "            color:  #f1f1f1;\n",
              "        }    #T_638af104_25f1_11ea_920a_0242ac1c0002row0_col1 {\n",
              "            background-color:  #96b6d7;\n",
              "            color:  #000000;\n",
              "        }    #T_638af104_25f1_11ea_920a_0242ac1c0002row0_col2 {\n",
              "            background-color:  #023858;\n",
              "            color:  #f1f1f1;\n",
              "        }    #T_638af104_25f1_11ea_920a_0242ac1c0002row1_col0 {\n",
              "            background-color:  #034d79;\n",
              "            color:  #f1f1f1;\n",
              "        }    #T_638af104_25f1_11ea_920a_0242ac1c0002row1_col1 {\n",
              "            background-color:  #8cb3d5;\n",
              "            color:  #000000;\n",
              "        }    #T_638af104_25f1_11ea_920a_0242ac1c0002row1_col2 {\n",
              "            background-color:  #1379b5;\n",
              "            color:  #f1f1f1;\n",
              "        }    #T_638af104_25f1_11ea_920a_0242ac1c0002row2_col0 {\n",
              "            background-color:  #3f93c2;\n",
              "            color:  #000000;\n",
              "        }    #T_638af104_25f1_11ea_920a_0242ac1c0002row2_col1 {\n",
              "            background-color:  #fff7fb;\n",
              "            color:  #000000;\n",
              "        }    #T_638af104_25f1_11ea_920a_0242ac1c0002row2_col2 {\n",
              "            background-color:  #9fbad9;\n",
              "            color:  #000000;\n",
              "        }    #T_638af104_25f1_11ea_920a_0242ac1c0002row3_col0 {\n",
              "            background-color:  #056caa;\n",
              "            color:  #f1f1f1;\n",
              "        }    #T_638af104_25f1_11ea_920a_0242ac1c0002row3_col1 {\n",
              "            background-color:  #88b1d4;\n",
              "            color:  #000000;\n",
              "        }    #T_638af104_25f1_11ea_920a_0242ac1c0002row3_col2 {\n",
              "            background-color:  #c8cde4;\n",
              "            color:  #000000;\n",
              "        }    #T_638af104_25f1_11ea_920a_0242ac1c0002row4_col0 {\n",
              "            background-color:  #045b8f;\n",
              "            color:  #f1f1f1;\n",
              "        }    #T_638af104_25f1_11ea_920a_0242ac1c0002row4_col1 {\n",
              "            background-color:  #7dacd1;\n",
              "            color:  #000000;\n",
              "        }    #T_638af104_25f1_11ea_920a_0242ac1c0002row4_col2 {\n",
              "            background-color:  #5a9ec9;\n",
              "            color:  #000000;\n",
              "        }    #T_638af104_25f1_11ea_920a_0242ac1c0002row5_col0 {\n",
              "            background-color:  #79abd0;\n",
              "            color:  #000000;\n",
              "        }    #T_638af104_25f1_11ea_920a_0242ac1c0002row5_col1 {\n",
              "            background-color:  #4e9ac6;\n",
              "            color:  #000000;\n",
              "        }    #T_638af104_25f1_11ea_920a_0242ac1c0002row5_col2 {\n",
              "            background-color:  #fcf4fa;\n",
              "            color:  #000000;\n",
              "        }    #T_638af104_25f1_11ea_920a_0242ac1c0002row6_col0 {\n",
              "            background-color:  #81aed2;\n",
              "            color:  #000000;\n",
              "        }    #T_638af104_25f1_11ea_920a_0242ac1c0002row6_col1 {\n",
              "            background-color:  #b1c2de;\n",
              "            color:  #000000;\n",
              "        }    #T_638af104_25f1_11ea_920a_0242ac1c0002row6_col2 {\n",
              "            background-color:  #b9c6e0;\n",
              "            color:  #000000;\n",
              "        }    #T_638af104_25f1_11ea_920a_0242ac1c0002row7_col0 {\n",
              "            background-color:  #fff7fb;\n",
              "            color:  #000000;\n",
              "        }    #T_638af104_25f1_11ea_920a_0242ac1c0002row7_col1 {\n",
              "            background-color:  #97b7d7;\n",
              "            color:  #000000;\n",
              "        }    #T_638af104_25f1_11ea_920a_0242ac1c0002row7_col2 {\n",
              "            background-color:  #fef6fb;\n",
              "            color:  #000000;\n",
              "        }    #T_638af104_25f1_11ea_920a_0242ac1c0002row8_col0 {\n",
              "            background-color:  #3b92c1;\n",
              "            color:  #000000;\n",
              "        }    #T_638af104_25f1_11ea_920a_0242ac1c0002row8_col1 {\n",
              "            background-color:  #a4bcda;\n",
              "            color:  #000000;\n",
              "        }    #T_638af104_25f1_11ea_920a_0242ac1c0002row8_col2 {\n",
              "            background-color:  #fff7fb;\n",
              "            color:  #000000;\n",
              "        }    #T_638af104_25f1_11ea_920a_0242ac1c0002row9_col0 {\n",
              "            background-color:  #045483;\n",
              "            color:  #f1f1f1;\n",
              "        }    #T_638af104_25f1_11ea_920a_0242ac1c0002row9_col1 {\n",
              "            background-color:  #023858;\n",
              "            color:  #f1f1f1;\n",
              "        }    #T_638af104_25f1_11ea_920a_0242ac1c0002row9_col2 {\n",
              "            background-color:  #fff7fb;\n",
              "            color:  #000000;\n",
              "        }    #T_638af104_25f1_11ea_920a_0242ac1c0002row10_col0 {\n",
              "            background-color:  #80aed2;\n",
              "            color:  #000000;\n",
              "        }    #T_638af104_25f1_11ea_920a_0242ac1c0002row10_col1 {\n",
              "            background-color:  #99b8d8;\n",
              "            color:  #000000;\n",
              "        }    #T_638af104_25f1_11ea_920a_0242ac1c0002row10_col2 {\n",
              "            background-color:  #fcf4fa;\n",
              "            color:  #000000;\n",
              "        }    #T_638af104_25f1_11ea_920a_0242ac1c0002row11_col0 {\n",
              "            background-color:  #197db7;\n",
              "            color:  #000000;\n",
              "        }    #T_638af104_25f1_11ea_920a_0242ac1c0002row11_col1 {\n",
              "            background-color:  #b3c3de;\n",
              "            color:  #000000;\n",
              "        }    #T_638af104_25f1_11ea_920a_0242ac1c0002row11_col2 {\n",
              "            background-color:  #fff7fb;\n",
              "            color:  #000000;\n",
              "        }    #T_638af104_25f1_11ea_920a_0242ac1c0002row12_col0 {\n",
              "            background-color:  #b0c2de;\n",
              "            color:  #000000;\n",
              "        }    #T_638af104_25f1_11ea_920a_0242ac1c0002row12_col1 {\n",
              "            background-color:  #045788;\n",
              "            color:  #f1f1f1;\n",
              "        }    #T_638af104_25f1_11ea_920a_0242ac1c0002row12_col2 {\n",
              "            background-color:  #f8f1f8;\n",
              "            color:  #000000;\n",
              "        }    #T_638af104_25f1_11ea_920a_0242ac1c0002row13_col0 {\n",
              "            background-color:  #0568a3;\n",
              "            color:  #f1f1f1;\n",
              "        }    #T_638af104_25f1_11ea_920a_0242ac1c0002row13_col1 {\n",
              "            background-color:  #0f76b3;\n",
              "            color:  #f1f1f1;\n",
              "        }    #T_638af104_25f1_11ea_920a_0242ac1c0002row13_col2 {\n",
              "            background-color:  #fef6fa;\n",
              "            color:  #000000;\n",
              "        }    #T_638af104_25f1_11ea_920a_0242ac1c0002row14_col0 {\n",
              "            background-color:  #0569a4;\n",
              "            color:  #f1f1f1;\n",
              "        }    #T_638af104_25f1_11ea_920a_0242ac1c0002row14_col1 {\n",
              "            background-color:  #c1cae2;\n",
              "            color:  #000000;\n",
              "        }    #T_638af104_25f1_11ea_920a_0242ac1c0002row14_col2 {\n",
              "            background-color:  #fff7fb;\n",
              "            color:  #000000;\n",
              "        }    #T_638af104_25f1_11ea_920a_0242ac1c0002row15_col0 {\n",
              "            background-color:  #3991c1;\n",
              "            color:  #000000;\n",
              "        }    #T_638af104_25f1_11ea_920a_0242ac1c0002row15_col1 {\n",
              "            background-color:  #b1c2de;\n",
              "            color:  #000000;\n",
              "        }    #T_638af104_25f1_11ea_920a_0242ac1c0002row15_col2 {\n",
              "            background-color:  #9cb9d9;\n",
              "            color:  #000000;\n",
              "        }    #T_638af104_25f1_11ea_920a_0242ac1c0002row16_col0 {\n",
              "            background-color:  #99b8d8;\n",
              "            color:  #000000;\n",
              "        }    #T_638af104_25f1_11ea_920a_0242ac1c0002row16_col1 {\n",
              "            background-color:  #2d8abd;\n",
              "            color:  #000000;\n",
              "        }    #T_638af104_25f1_11ea_920a_0242ac1c0002row16_col2 {\n",
              "            background-color:  #fdf5fa;\n",
              "            color:  #000000;\n",
              "        }    #T_638af104_25f1_11ea_920a_0242ac1c0002row17_col0 {\n",
              "            background-color:  #4897c4;\n",
              "            color:  #000000;\n",
              "        }    #T_638af104_25f1_11ea_920a_0242ac1c0002row17_col1 {\n",
              "            background-color:  #a9bfdc;\n",
              "            color:  #000000;\n",
              "        }    #T_638af104_25f1_11ea_920a_0242ac1c0002row17_col2 {\n",
              "            background-color:  #fcf4fa;\n",
              "            color:  #000000;\n",
              "        }    #T_638af104_25f1_11ea_920a_0242ac1c0002row18_col0 {\n",
              "            background-color:  #358fc0;\n",
              "            color:  #000000;\n",
              "        }    #T_638af104_25f1_11ea_920a_0242ac1c0002row18_col1 {\n",
              "            background-color:  #dddbec;\n",
              "            color:  #000000;\n",
              "        }    #T_638af104_25f1_11ea_920a_0242ac1c0002row18_col2 {\n",
              "            background-color:  #f8f1f8;\n",
              "            color:  #000000;\n",
              "        }    #T_638af104_25f1_11ea_920a_0242ac1c0002row19_col0 {\n",
              "            background-color:  #046299;\n",
              "            color:  #f1f1f1;\n",
              "        }    #T_638af104_25f1_11ea_920a_0242ac1c0002row19_col1 {\n",
              "            background-color:  #eee9f3;\n",
              "            color:  #000000;\n",
              "        }    #T_638af104_25f1_11ea_920a_0242ac1c0002row19_col2 {\n",
              "            background-color:  #b3c3de;\n",
              "            color:  #000000;\n",
              "        }    #T_638af104_25f1_11ea_920a_0242ac1c0002row20_col0 {\n",
              "            background-color:  #056ead;\n",
              "            color:  #f1f1f1;\n",
              "        }    #T_638af104_25f1_11ea_920a_0242ac1c0002row20_col1 {\n",
              "            background-color:  #c2cbe2;\n",
              "            color:  #000000;\n",
              "        }    #T_638af104_25f1_11ea_920a_0242ac1c0002row20_col2 {\n",
              "            background-color:  #f6eff7;\n",
              "            color:  #000000;\n",
              "        }    #T_638af104_25f1_11ea_920a_0242ac1c0002row21_col0 {\n",
              "            background-color:  #c9cee4;\n",
              "            color:  #000000;\n",
              "        }    #T_638af104_25f1_11ea_920a_0242ac1c0002row21_col1 {\n",
              "            background-color:  #fcf4fa;\n",
              "            color:  #000000;\n",
              "        }    #T_638af104_25f1_11ea_920a_0242ac1c0002row21_col2 {\n",
              "            background-color:  #afc1dd;\n",
              "            color:  #000000;\n",
              "        }    #T_638af104_25f1_11ea_920a_0242ac1c0002row22_col0 {\n",
              "            background-color:  #034f7d;\n",
              "            color:  #f1f1f1;\n",
              "        }    #T_638af104_25f1_11ea_920a_0242ac1c0002row22_col1 {\n",
              "            background-color:  #f4edf6;\n",
              "            color:  #000000;\n",
              "        }    #T_638af104_25f1_11ea_920a_0242ac1c0002row22_col2 {\n",
              "            background-color:  #0568a3;\n",
              "            color:  #f1f1f1;\n",
              "        }    #T_638af104_25f1_11ea_920a_0242ac1c0002row23_col0 {\n",
              "            background-color:  #2f8bbe;\n",
              "            color:  #000000;\n",
              "        }    #T_638af104_25f1_11ea_920a_0242ac1c0002row23_col1 {\n",
              "            background-color:  #9cb9d9;\n",
              "            color:  #000000;\n",
              "        }    #T_638af104_25f1_11ea_920a_0242ac1c0002row23_col2 {\n",
              "            background-color:  #d4d4e8;\n",
              "            color:  #000000;\n",
              "        }</style><table id=\"T_638af104_25f1_11ea_920a_0242ac1c0002\" ><thead>    <tr>        <th class=\"blank level0\" ></th>        <th class=\"col_heading level0 col0\" >R2</th>        <th class=\"col_heading level0 col1\" >RMSE</th>        <th class=\"col_heading level0 col2\" >MAPE</th>    </tr></thead><tbody>\n",
              "                <tr>\n",
              "                        <th id=\"T_638af104_25f1_11ea_920a_0242ac1c0002level0_row0\" class=\"row_heading level0 row0\" >C5NP</th>\n",
              "                        <td id=\"T_638af104_25f1_11ea_920a_0242ac1c0002row0_col0\" class=\"data row0 col0\" >0.994481</td>\n",
              "                        <td id=\"T_638af104_25f1_11ea_920a_0242ac1c0002row0_col1\" class=\"data row0 col1\" >0.309955</td>\n",
              "                        <td id=\"T_638af104_25f1_11ea_920a_0242ac1c0002row0_col2\" class=\"data row0 col2\" >1.07933</td>\n",
              "            </tr>\n",
              "            <tr>\n",
              "                        <th id=\"T_638af104_25f1_11ea_920a_0242ac1c0002level0_row1\" class=\"row_heading level0 row1\" >C5IP</th>\n",
              "                        <td id=\"T_638af104_25f1_11ea_920a_0242ac1c0002row1_col0\" class=\"data row1 col0\" >0.988308</td>\n",
              "                        <td id=\"T_638af104_25f1_11ea_920a_0242ac1c0002row1_col1\" class=\"data row1 col1\" >0.324459</td>\n",
              "                        <td id=\"T_638af104_25f1_11ea_920a_0242ac1c0002row1_col2\" class=\"data row1 col2\" >0.78057</td>\n",
              "            </tr>\n",
              "            <tr>\n",
              "                        <th id=\"T_638af104_25f1_11ea_920a_0242ac1c0002level0_row2\" class=\"row_heading level0 row2\" >C5N</th>\n",
              "                        <td id=\"T_638af104_25f1_11ea_920a_0242ac1c0002row2_col0\" class=\"data row2 col0\" >0.96414</td>\n",
              "                        <td id=\"T_638af104_25f1_11ea_920a_0242ac1c0002row2_col1\" class=\"data row2 col1\" >0.0635665</td>\n",
              "                        <td id=\"T_638af104_25f1_11ea_920a_0242ac1c0002row2_col2\" class=\"data row2 col2\" >0.448814</td>\n",
              "            </tr>\n",
              "            <tr>\n",
              "                        <th id=\"T_638af104_25f1_11ea_920a_0242ac1c0002level0_row3\" class=\"row_heading level0 row3\" >C6NP</th>\n",
              "                        <td id=\"T_638af104_25f1_11ea_920a_0242ac1c0002row3_col0\" class=\"data row3 col0\" >0.976955</td>\n",
              "                        <td id=\"T_638af104_25f1_11ea_920a_0242ac1c0002row3_col1\" class=\"data row3 col1\" >0.330658</td>\n",
              "                        <td id=\"T_638af104_25f1_11ea_920a_0242ac1c0002row3_col2\" class=\"data row3 col2\" >0.325602</td>\n",
              "            </tr>\n",
              "            <tr>\n",
              "                        <th id=\"T_638af104_25f1_11ea_920a_0242ac1c0002level0_row4\" class=\"row_heading level0 row4\" >C6IP</th>\n",
              "                        <td id=\"T_638af104_25f1_11ea_920a_0242ac1c0002row4_col0\" class=\"data row4 col0\" >0.984113</td>\n",
              "                        <td id=\"T_638af104_25f1_11ea_920a_0242ac1c0002row4_col1\" class=\"data row4 col1\" >0.34656</td>\n",
              "                        <td id=\"T_638af104_25f1_11ea_920a_0242ac1c0002row4_col2\" class=\"data row4 col2\" >0.613895</td>\n",
              "            </tr>\n",
              "            <tr>\n",
              "                        <th id=\"T_638af104_25f1_11ea_920a_0242ac1c0002level0_row5\" class=\"row_heading level0 row5\" >C6N</th>\n",
              "                        <td id=\"T_638af104_25f1_11ea_920a_0242ac1c0002row5_col0\" class=\"data row5 col0\" >0.954745</td>\n",
              "                        <td id=\"T_638af104_25f1_11ea_920a_0242ac1c0002row5_col1\" class=\"data row5 col1\" >0.40556</td>\n",
              "                        <td id=\"T_638af104_25f1_11ea_920a_0242ac1c0002row5_col2\" class=\"data row5 col2\" >0.0632005</td>\n",
              "            </tr>\n",
              "            <tr>\n",
              "                        <th id=\"T_638af104_25f1_11ea_920a_0242ac1c0002level0_row6\" class=\"row_heading level0 row6\" >C6A</th>\n",
              "                        <td id=\"T_638af104_25f1_11ea_920a_0242ac1c0002row6_col0\" class=\"data row6 col0\" >0.953212</td>\n",
              "                        <td id=\"T_638af104_25f1_11ea_920a_0242ac1c0002row6_col1\" class=\"data row6 col1\" >0.266249</td>\n",
              "                        <td id=\"T_638af104_25f1_11ea_920a_0242ac1c0002row6_col2\" class=\"data row6 col2\" >0.369202</td>\n",
              "            </tr>\n",
              "            <tr>\n",
              "                        <th id=\"T_638af104_25f1_11ea_920a_0242ac1c0002level0_row7\" class=\"row_heading level0 row7\" >C7NP</th>\n",
              "                        <td id=\"T_638af104_25f1_11ea_920a_0242ac1c0002row7_col0\" class=\"data row7 col0\" >0.917344</td>\n",
              "                        <td id=\"T_638af104_25f1_11ea_920a_0242ac1c0002row7_col1\" class=\"data row7 col1\" >0.308133</td>\n",
              "                        <td id=\"T_638af104_25f1_11ea_920a_0242ac1c0002row7_col2\" class=\"data row7 col2\" >0.0445441</td>\n",
              "            </tr>\n",
              "            <tr>\n",
              "                        <th id=\"T_638af104_25f1_11ea_920a_0242ac1c0002level0_row8\" class=\"row_heading level0 row8\" >C7IP</th>\n",
              "                        <td id=\"T_638af104_25f1_11ea_920a_0242ac1c0002row8_col0\" class=\"data row8 col0\" >0.964657</td>\n",
              "                        <td id=\"T_638af104_25f1_11ea_920a_0242ac1c0002row8_col1\" class=\"data row8 col1\" >0.289086</td>\n",
              "                        <td id=\"T_638af104_25f1_11ea_920a_0242ac1c0002row8_col2\" class=\"data row8 col2\" >0.0399381</td>\n",
              "            </tr>\n",
              "            <tr>\n",
              "                        <th id=\"T_638af104_25f1_11ea_920a_0242ac1c0002level0_row9\" class=\"row_heading level0 row9\" >C7N</th>\n",
              "                        <td id=\"T_638af104_25f1_11ea_920a_0242ac1c0002row9_col0\" class=\"data row9 col0\" >0.986492</td>\n",
              "                        <td id=\"T_638af104_25f1_11ea_920a_0242ac1c0002row9_col1\" class=\"data row9 col1\" >0.656817</td>\n",
              "                        <td id=\"T_638af104_25f1_11ea_920a_0242ac1c0002row9_col2\" class=\"data row9 col2\" >0.0392305</td>\n",
              "            </tr>\n",
              "            <tr>\n",
              "                        <th id=\"T_638af104_25f1_11ea_920a_0242ac1c0002level0_row10\" class=\"row_heading level0 row10\" >C7A</th>\n",
              "                        <td id=\"T_638af104_25f1_11ea_920a_0242ac1c0002row10_col0\" class=\"data row10 col0\" >0.95362</td>\n",
              "                        <td id=\"T_638af104_25f1_11ea_920a_0242ac1c0002row10_col1\" class=\"data row10 col1\" >0.306126</td>\n",
              "                        <td id=\"T_638af104_25f1_11ea_920a_0242ac1c0002row10_col2\" class=\"data row10 col2\" >0.0621343</td>\n",
              "            </tr>\n",
              "            <tr>\n",
              "                        <th id=\"T_638af104_25f1_11ea_920a_0242ac1c0002level0_row11\" class=\"row_heading level0 row11\" >C8NP</th>\n",
              "                        <td id=\"T_638af104_25f1_11ea_920a_0242ac1c0002row11_col0\" class=\"data row11 col0\" >0.971236</td>\n",
              "                        <td id=\"T_638af104_25f1_11ea_920a_0242ac1c0002row11_col1\" class=\"data row11 col1\" >0.264496</td>\n",
              "                        <td id=\"T_638af104_25f1_11ea_920a_0242ac1c0002row11_col2\" class=\"data row11 col2\" >0.0402524</td>\n",
              "            </tr>\n",
              "            <tr>\n",
              "                        <th id=\"T_638af104_25f1_11ea_920a_0242ac1c0002level0_row12\" class=\"row_heading level0 row12\" >C8IP</th>\n",
              "                        <td id=\"T_638af104_25f1_11ea_920a_0242ac1c0002row12_col0\" class=\"data row12 col0\" >0.944004</td>\n",
              "                        <td id=\"T_638af104_25f1_11ea_920a_0242ac1c0002row12_col1\" class=\"data row12 col1\" >0.587432</td>\n",
              "                        <td id=\"T_638af104_25f1_11ea_920a_0242ac1c0002row12_col2\" class=\"data row12 col2\" >0.0841712</td>\n",
              "            </tr>\n",
              "            <tr>\n",
              "                        <th id=\"T_638af104_25f1_11ea_920a_0242ac1c0002level0_row13\" class=\"row_heading level0 row13\" >C8N</th>\n",
              "                        <td id=\"T_638af104_25f1_11ea_920a_0242ac1c0002row13_col0\" class=\"data row13 col0\" >0.978811</td>\n",
              "                        <td id=\"T_638af104_25f1_11ea_920a_0242ac1c0002row13_col1\" class=\"data row13 col1\" >0.493502</td>\n",
              "                        <td id=\"T_638af104_25f1_11ea_920a_0242ac1c0002row13_col2\" class=\"data row13 col2\" >0.049213</td>\n",
              "            </tr>\n",
              "            <tr>\n",
              "                        <th id=\"T_638af104_25f1_11ea_920a_0242ac1c0002level0_row14\" class=\"row_heading level0 row14\" >C8A</th>\n",
              "                        <td id=\"T_638af104_25f1_11ea_920a_0242ac1c0002row14_col0\" class=\"data row14 col0\" >0.978294</td>\n",
              "                        <td id=\"T_638af104_25f1_11ea_920a_0242ac1c0002row14_col1\" class=\"data row14 col1\" >0.238176</td>\n",
              "                        <td id=\"T_638af104_25f1_11ea_920a_0242ac1c0002row14_col2\" class=\"data row14 col2\" >0.0396421</td>\n",
              "            </tr>\n",
              "            <tr>\n",
              "                        <th id=\"T_638af104_25f1_11ea_920a_0242ac1c0002level0_row15\" class=\"row_heading level0 row15\" >C9NP</th>\n",
              "                        <td id=\"T_638af104_25f1_11ea_920a_0242ac1c0002row15_col0\" class=\"data row15 col0\" >0.96507</td>\n",
              "                        <td id=\"T_638af104_25f1_11ea_920a_0242ac1c0002row15_col1\" class=\"data row15 col1\" >0.265823</td>\n",
              "                        <td id=\"T_638af104_25f1_11ea_920a_0242ac1c0002row15_col2\" class=\"data row15 col2\" >0.45508</td>\n",
              "            </tr>\n",
              "            <tr>\n",
              "                        <th id=\"T_638af104_25f1_11ea_920a_0242ac1c0002level0_row16\" class=\"row_heading level0 row16\" >C9IP</th>\n",
              "                        <td id=\"T_638af104_25f1_11ea_920a_0242ac1c0002row16_col0\" class=\"data row16 col0\" >0.948858</td>\n",
              "                        <td id=\"T_638af104_25f1_11ea_920a_0242ac1c0002row16_col1\" class=\"data row16 col1\" >0.448176</td>\n",
              "                        <td id=\"T_638af104_25f1_11ea_920a_0242ac1c0002row16_col2\" class=\"data row16 col2\" >0.0585116</td>\n",
              "            </tr>\n",
              "            <tr>\n",
              "                        <th id=\"T_638af104_25f1_11ea_920a_0242ac1c0002level0_row17\" class=\"row_heading level0 row17\" >C9N</th>\n",
              "                        <td id=\"T_638af104_25f1_11ea_920a_0242ac1c0002row17_col0\" class=\"data row17 col0\" >0.962772</td>\n",
              "                        <td id=\"T_638af104_25f1_11ea_920a_0242ac1c0002row17_col1\" class=\"data row17 col1\" >0.281161</td>\n",
              "                        <td id=\"T_638af104_25f1_11ea_920a_0242ac1c0002row17_col2\" class=\"data row17 col2\" >0.0605926</td>\n",
              "            </tr>\n",
              "            <tr>\n",
              "                        <th id=\"T_638af104_25f1_11ea_920a_0242ac1c0002level0_row18\" class=\"row_heading level0 row18\" >C9A</th>\n",
              "                        <td id=\"T_638af104_25f1_11ea_920a_0242ac1c0002row18_col0\" class=\"data row18 col0\" >0.965682</td>\n",
              "                        <td id=\"T_638af104_25f1_11ea_920a_0242ac1c0002row18_col1\" class=\"data row18 col1\" >0.177927</td>\n",
              "                        <td id=\"T_638af104_25f1_11ea_920a_0242ac1c0002row18_col2\" class=\"data row18 col2\" >0.0905387</td>\n",
              "            </tr>\n",
              "            <tr>\n",
              "                        <th id=\"T_638af104_25f1_11ea_920a_0242ac1c0002level0_row19\" class=\"row_heading level0 row19\" >C10NP</th>\n",
              "                        <td id=\"T_638af104_25f1_11ea_920a_0242ac1c0002row19_col0\" class=\"data row19 col0\" >0.98137</td>\n",
              "                        <td id=\"T_638af104_25f1_11ea_920a_0242ac1c0002row19_col1\" class=\"data row19 col1\" >0.129411</td>\n",
              "                        <td id=\"T_638af104_25f1_11ea_920a_0242ac1c0002row19_col2\" class=\"data row19 col2\" >0.38915</td>\n",
              "            </tr>\n",
              "            <tr>\n",
              "                        <th id=\"T_638af104_25f1_11ea_920a_0242ac1c0002level0_row20\" class=\"row_heading level0 row20\" >C10IP</th>\n",
              "                        <td id=\"T_638af104_25f1_11ea_920a_0242ac1c0002row20_col0\" class=\"data row20 col0\" >0.975903</td>\n",
              "                        <td id=\"T_638af104_25f1_11ea_920a_0242ac1c0002row20_col1\" class=\"data row20 col1\" >0.236533</td>\n",
              "                        <td id=\"T_638af104_25f1_11ea_920a_0242ac1c0002row20_col2\" class=\"data row20 col2\" >0.100888</td>\n",
              "            </tr>\n",
              "            <tr>\n",
              "                        <th id=\"T_638af104_25f1_11ea_920a_0242ac1c0002level0_row21\" class=\"row_heading level0 row21\" >C10N</th>\n",
              "                        <td id=\"T_638af104_25f1_11ea_920a_0242ac1c0002row21_col0\" class=\"data row21 col0\" >0.938208</td>\n",
              "                        <td id=\"T_638af104_25f1_11ea_920a_0242ac1c0002row21_col1\" class=\"data row21 col1\" >0.0757267</td>\n",
              "                        <td id=\"T_638af104_25f1_11ea_920a_0242ac1c0002row21_col2\" class=\"data row21 col2\" >0.403595</td>\n",
              "            </tr>\n",
              "            <tr>\n",
              "                        <th id=\"T_638af104_25f1_11ea_920a_0242ac1c0002level0_row22\" class=\"row_heading level0 row22\" >C10A</th>\n",
              "                        <td id=\"T_638af104_25f1_11ea_920a_0242ac1c0002row22_col0\" class=\"data row22 col0\" >0.987846</td>\n",
              "                        <td id=\"T_638af104_25f1_11ea_920a_0242ac1c0002row22_col1\" class=\"data row22 col1\" >0.10913</td>\n",
              "                        <td id=\"T_638af104_25f1_11ea_920a_0242ac1c0002row22_col2\" class=\"data row22 col2\" >0.866604</td>\n",
              "            </tr>\n",
              "            <tr>\n",
              "                        <th id=\"T_638af104_25f1_11ea_920a_0242ac1c0002level0_row23\" class=\"row_heading level0 row23\" >AVG</th>\n",
              "                        <td id=\"T_638af104_25f1_11ea_920a_0242ac1c0002row23_col0\" class=\"data row23 col0\" >0.966788</td>\n",
              "                        <td id=\"T_638af104_25f1_11ea_920a_0242ac1c0002row23_col1\" class=\"data row23 col1\" >0.300638</td>\n",
              "                        <td id=\"T_638af104_25f1_11ea_920a_0242ac1c0002row23_col2\" class=\"data row23 col2\" >0.282813</td>\n",
              "            </tr>\n",
              "    </tbody></table>"
            ],
            "text/plain": [
              "<pandas.io.formats.style.Styler at 0x7f9716e651d0>"
            ]
          },
          "metadata": {
            "tags": []
          },
          "execution_count": 60
        }
      ]
    },
    {
      "cell_type": "code",
      "metadata": {
        "id": "VuP8us67U18q",
        "colab_type": "code",
        "outputId": "65203c95-2303-42ae-f218-b78de3721c9c",
        "colab": {
          "base_uri": "https://localhost:8080/",
          "height": 542
        }
      },
      "source": [
        "res = pd.DataFrame()\n",
        "for y_name in y_columns:\n",
        "  res = res.append(metric(y_test[y_name],y_pred[y_name],y_name))\n",
        "res.loc['AVG'] = res.mean()\n",
        "res.style.background_gradient()"
      ],
      "execution_count": 61,
      "outputs": [
        {
          "output_type": "execute_result",
          "data": {
            "text/html": [
              "<style  type=\"text/css\" >\n",
              "    #T_65e085ea_25f1_11ea_920a_0242ac1c0002row0_col0 {\n",
              "            background-color:  #023858;\n",
              "            color:  #f1f1f1;\n",
              "        }    #T_65e085ea_25f1_11ea_920a_0242ac1c0002row0_col1 {\n",
              "            background-color:  #cacee5;\n",
              "            color:  #000000;\n",
              "        }    #T_65e085ea_25f1_11ea_920a_0242ac1c0002row0_col2 {\n",
              "            background-color:  #f2ecf5;\n",
              "            color:  #000000;\n",
              "        }    #T_65e085ea_25f1_11ea_920a_0242ac1c0002row1_col0 {\n",
              "            background-color:  #034973;\n",
              "            color:  #f1f1f1;\n",
              "        }    #T_65e085ea_25f1_11ea_920a_0242ac1c0002row1_col1 {\n",
              "            background-color:  #b3c3de;\n",
              "            color:  #000000;\n",
              "        }    #T_65e085ea_25f1_11ea_920a_0242ac1c0002row1_col2 {\n",
              "            background-color:  #dedcec;\n",
              "            color:  #000000;\n",
              "        }    #T_65e085ea_25f1_11ea_920a_0242ac1c0002row2_col0 {\n",
              "            background-color:  #045280;\n",
              "            color:  #f1f1f1;\n",
              "        }    #T_65e085ea_25f1_11ea_920a_0242ac1c0002row2_col1 {\n",
              "            background-color:  #fff7fb;\n",
              "            color:  #000000;\n",
              "        }    #T_65e085ea_25f1_11ea_920a_0242ac1c0002row2_col2 {\n",
              "            background-color:  #e0deed;\n",
              "            color:  #000000;\n",
              "        }    #T_65e085ea_25f1_11ea_920a_0242ac1c0002row3_col0 {\n",
              "            background-color:  #034871;\n",
              "            color:  #f1f1f1;\n",
              "        }    #T_65e085ea_25f1_11ea_920a_0242ac1c0002row3_col1 {\n",
              "            background-color:  #d3d4e7;\n",
              "            color:  #000000;\n",
              "        }    #T_65e085ea_25f1_11ea_920a_0242ac1c0002row3_col2 {\n",
              "            background-color:  #f1ebf5;\n",
              "            color:  #000000;\n",
              "        }    #T_65e085ea_25f1_11ea_920a_0242ac1c0002row4_col0 {\n",
              "            background-color:  #034c78;\n",
              "            color:  #f1f1f1;\n",
              "        }    #T_65e085ea_25f1_11ea_920a_0242ac1c0002row4_col1 {\n",
              "            background-color:  #b5c4df;\n",
              "            color:  #000000;\n",
              "        }    #T_65e085ea_25f1_11ea_920a_0242ac1c0002row4_col2 {\n",
              "            background-color:  #efe9f3;\n",
              "            color:  #000000;\n",
              "        }    #T_65e085ea_25f1_11ea_920a_0242ac1c0002row5_col0 {\n",
              "            background-color:  #79abd0;\n",
              "            color:  #000000;\n",
              "        }    #T_65e085ea_25f1_11ea_920a_0242ac1c0002row5_col1 {\n",
              "            background-color:  #046096;\n",
              "            color:  #f1f1f1;\n",
              "        }    #T_65e085ea_25f1_11ea_920a_0242ac1c0002row5_col2 {\n",
              "            background-color:  #e4e1ef;\n",
              "            color:  #000000;\n",
              "        }    #T_65e085ea_25f1_11ea_920a_0242ac1c0002row6_col0 {\n",
              "            background-color:  #056ba9;\n",
              "            color:  #f1f1f1;\n",
              "        }    #T_65e085ea_25f1_11ea_920a_0242ac1c0002row6_col1 {\n",
              "            background-color:  #dfddec;\n",
              "            color:  #000000;\n",
              "        }    #T_65e085ea_25f1_11ea_920a_0242ac1c0002row6_col2 {\n",
              "            background-color:  #9fbad9;\n",
              "            color:  #000000;\n",
              "        }    #T_65e085ea_25f1_11ea_920a_0242ac1c0002row7_col0 {\n",
              "            background-color:  #2484ba;\n",
              "            color:  #000000;\n",
              "        }    #T_65e085ea_25f1_11ea_920a_0242ac1c0002row7_col1 {\n",
              "            background-color:  #dbdaeb;\n",
              "            color:  #000000;\n",
              "        }    #T_65e085ea_25f1_11ea_920a_0242ac1c0002row7_col2 {\n",
              "            background-color:  #fff7fb;\n",
              "            color:  #000000;\n",
              "        }    #T_65e085ea_25f1_11ea_920a_0242ac1c0002row8_col0 {\n",
              "            background-color:  #62a2cb;\n",
              "            color:  #000000;\n",
              "        }    #T_65e085ea_25f1_11ea_920a_0242ac1c0002row8_col1 {\n",
              "            background-color:  #80aed2;\n",
              "            color:  #000000;\n",
              "        }    #T_65e085ea_25f1_11ea_920a_0242ac1c0002row8_col2 {\n",
              "            background-color:  #fbf4f9;\n",
              "            color:  #000000;\n",
              "        }    #T_65e085ea_25f1_11ea_920a_0242ac1c0002row9_col0 {\n",
              "            background-color:  #045687;\n",
              "            color:  #f1f1f1;\n",
              "        }    #T_65e085ea_25f1_11ea_920a_0242ac1c0002row9_col1 {\n",
              "            background-color:  #023a5b;\n",
              "            color:  #f1f1f1;\n",
              "        }    #T_65e085ea_25f1_11ea_920a_0242ac1c0002row9_col2 {\n",
              "            background-color:  #fef6fb;\n",
              "            color:  #000000;\n",
              "        }    #T_65e085ea_25f1_11ea_920a_0242ac1c0002row10_col0 {\n",
              "            background-color:  #5ea0ca;\n",
              "            color:  #000000;\n",
              "        }    #T_65e085ea_25f1_11ea_920a_0242ac1c0002row10_col1 {\n",
              "            background-color:  #b4c4df;\n",
              "            color:  #000000;\n",
              "        }    #T_65e085ea_25f1_11ea_920a_0242ac1c0002row10_col2 {\n",
              "            background-color:  #f9f2f8;\n",
              "            color:  #000000;\n",
              "        }    #T_65e085ea_25f1_11ea_920a_0242ac1c0002row11_col0 {\n",
              "            background-color:  #0d75b3;\n",
              "            color:  #f1f1f1;\n",
              "        }    #T_65e085ea_25f1_11ea_920a_0242ac1c0002row11_col1 {\n",
              "            background-color:  #afc1dd;\n",
              "            color:  #000000;\n",
              "        }    #T_65e085ea_25f1_11ea_920a_0242ac1c0002row11_col2 {\n",
              "            background-color:  #fcf4fa;\n",
              "            color:  #000000;\n",
              "        }    #T_65e085ea_25f1_11ea_920a_0242ac1c0002row12_col0 {\n",
              "            background-color:  #197db7;\n",
              "            color:  #000000;\n",
              "        }    #T_65e085ea_25f1_11ea_920a_0242ac1c0002row12_col1 {\n",
              "            background-color:  #2182b9;\n",
              "            color:  #000000;\n",
              "        }    #T_65e085ea_25f1_11ea_920a_0242ac1c0002row12_col2 {\n",
              "            background-color:  #f4edf6;\n",
              "            color:  #000000;\n",
              "        }    #T_65e085ea_25f1_11ea_920a_0242ac1c0002row13_col0 {\n",
              "            background-color:  #79abd0;\n",
              "            color:  #000000;\n",
              "        }    #T_65e085ea_25f1_11ea_920a_0242ac1c0002row13_col1 {\n",
              "            background-color:  #023858;\n",
              "            color:  #f1f1f1;\n",
              "        }    #T_65e085ea_25f1_11ea_920a_0242ac1c0002row13_col2 {\n",
              "            background-color:  #f9f2f8;\n",
              "            color:  #000000;\n",
              "        }    #T_65e085ea_25f1_11ea_920a_0242ac1c0002row14_col0 {\n",
              "            background-color:  #0566a0;\n",
              "            color:  #f1f1f1;\n",
              "        }    #T_65e085ea_25f1_11ea_920a_0242ac1c0002row14_col1 {\n",
              "            background-color:  #b8c6e0;\n",
              "            color:  #000000;\n",
              "        }    #T_65e085ea_25f1_11ea_920a_0242ac1c0002row14_col2 {\n",
              "            background-color:  #fbf3f9;\n",
              "            color:  #000000;\n",
              "        }    #T_65e085ea_25f1_11ea_920a_0242ac1c0002row15_col0 {\n",
              "            background-color:  #84b0d3;\n",
              "            color:  #000000;\n",
              "        }    #T_65e085ea_25f1_11ea_920a_0242ac1c0002row15_col1 {\n",
              "            background-color:  #88b1d4;\n",
              "            color:  #000000;\n",
              "        }    #T_65e085ea_25f1_11ea_920a_0242ac1c0002row15_col2 {\n",
              "            background-color:  #023858;\n",
              "            color:  #f1f1f1;\n",
              "        }    #T_65e085ea_25f1_11ea_920a_0242ac1c0002row16_col0 {\n",
              "            background-color:  #2383ba;\n",
              "            color:  #000000;\n",
              "        }    #T_65e085ea_25f1_11ea_920a_0242ac1c0002row16_col1 {\n",
              "            background-color:  #5ea0ca;\n",
              "            color:  #000000;\n",
              "        }    #T_65e085ea_25f1_11ea_920a_0242ac1c0002row16_col2 {\n",
              "            background-color:  #faf3f9;\n",
              "            color:  #000000;\n",
              "        }    #T_65e085ea_25f1_11ea_920a_0242ac1c0002row17_col0 {\n",
              "            background-color:  #a5bddb;\n",
              "            color:  #000000;\n",
              "        }    #T_65e085ea_25f1_11ea_920a_0242ac1c0002row17_col1 {\n",
              "            background-color:  #91b5d6;\n",
              "            color:  #000000;\n",
              "        }    #T_65e085ea_25f1_11ea_920a_0242ac1c0002row17_col2 {\n",
              "            background-color:  #f4eef6;\n",
              "            color:  #000000;\n",
              "        }    #T_65e085ea_25f1_11ea_920a_0242ac1c0002row18_col0 {\n",
              "            background-color:  #2786bb;\n",
              "            color:  #000000;\n",
              "        }    #T_65e085ea_25f1_11ea_920a_0242ac1c0002row18_col1 {\n",
              "            background-color:  #d9d8ea;\n",
              "            color:  #000000;\n",
              "        }    #T_65e085ea_25f1_11ea_920a_0242ac1c0002row18_col2 {\n",
              "            background-color:  #f2ecf5;\n",
              "            color:  #000000;\n",
              "        }    #T_65e085ea_25f1_11ea_920a_0242ac1c0002row19_col0 {\n",
              "            background-color:  #a8bedc;\n",
              "            color:  #000000;\n",
              "        }    #T_65e085ea_25f1_11ea_920a_0242ac1c0002row19_col1 {\n",
              "            background-color:  #d7d6e9;\n",
              "            color:  #000000;\n",
              "        }    #T_65e085ea_25f1_11ea_920a_0242ac1c0002row19_col2 {\n",
              "            background-color:  #c5cce3;\n",
              "            color:  #000000;\n",
              "        }    #T_65e085ea_25f1_11ea_920a_0242ac1c0002row20_col0 {\n",
              "            background-color:  #f7f0f7;\n",
              "            color:  #000000;\n",
              "        }    #T_65e085ea_25f1_11ea_920a_0242ac1c0002row20_col1 {\n",
              "            background-color:  #7eadd1;\n",
              "            color:  #000000;\n",
              "        }    #T_65e085ea_25f1_11ea_920a_0242ac1c0002row20_col2 {\n",
              "            background-color:  #ede7f2;\n",
              "            color:  #000000;\n",
              "        }    #T_65e085ea_25f1_11ea_920a_0242ac1c0002row21_col0 {\n",
              "            background-color:  #fff7fb;\n",
              "            color:  #000000;\n",
              "        }    #T_65e085ea_25f1_11ea_920a_0242ac1c0002row21_col1 {\n",
              "            background-color:  #f7f0f7;\n",
              "            color:  #000000;\n",
              "        }    #T_65e085ea_25f1_11ea_920a_0242ac1c0002row21_col2 {\n",
              "            background-color:  #c9cee4;\n",
              "            color:  #000000;\n",
              "        }    #T_65e085ea_25f1_11ea_920a_0242ac1c0002row22_col0 {\n",
              "            background-color:  #76aad0;\n",
              "            color:  #000000;\n",
              "        }    #T_65e085ea_25f1_11ea_920a_0242ac1c0002row22_col1 {\n",
              "            background-color:  #e2dfee;\n",
              "            color:  #000000;\n",
              "        }    #T_65e085ea_25f1_11ea_920a_0242ac1c0002row22_col2 {\n",
              "            background-color:  #cacee5;\n",
              "            color:  #000000;\n",
              "        }    #T_65e085ea_25f1_11ea_920a_0242ac1c0002row23_col0 {\n",
              "            background-color:  #358fc0;\n",
              "            color:  #000000;\n",
              "        }    #T_65e085ea_25f1_11ea_920a_0242ac1c0002row23_col1 {\n",
              "            background-color:  #9ebad9;\n",
              "            color:  #000000;\n",
              "        }    #T_65e085ea_25f1_11ea_920a_0242ac1c0002row23_col2 {\n",
              "            background-color:  #e6e2ef;\n",
              "            color:  #000000;\n",
              "        }</style><table id=\"T_65e085ea_25f1_11ea_920a_0242ac1c0002\" ><thead>    <tr>        <th class=\"blank level0\" ></th>        <th class=\"col_heading level0 col0\" >R2</th>        <th class=\"col_heading level0 col1\" >RMSE</th>        <th class=\"col_heading level0 col2\" >MAPE</th>    </tr></thead><tbody>\n",
              "                <tr>\n",
              "                        <th id=\"T_65e085ea_25f1_11ea_920a_0242ac1c0002level0_row0\" class=\"row_heading level0 row0\" >C5NP</th>\n",
              "                        <td id=\"T_65e085ea_25f1_11ea_920a_0242ac1c0002row0_col0\" class=\"data row0 col0\" >0.974562</td>\n",
              "                        <td id=\"T_65e085ea_25f1_11ea_920a_0242ac1c0002row0_col1\" class=\"data row0 col1\" >0.568848</td>\n",
              "                        <td id=\"T_65e085ea_25f1_11ea_920a_0242ac1c0002row0_col2\" class=\"data row0 col2\" >0.221444</td>\n",
              "            </tr>\n",
              "            <tr>\n",
              "                        <th id=\"T_65e085ea_25f1_11ea_920a_0242ac1c0002level0_row1\" class=\"row_heading level0 row1\" >C5IP</th>\n",
              "                        <td id=\"T_65e085ea_25f1_11ea_920a_0242ac1c0002row1_col0\" class=\"data row1 col0\" >0.932611</td>\n",
              "                        <td id=\"T_65e085ea_25f1_11ea_920a_0242ac1c0002row1_col1\" class=\"data row1 col1\" >0.691791</td>\n",
              "                        <td id=\"T_65e085ea_25f1_11ea_920a_0242ac1c0002row1_col2\" class=\"data row1 col2\" >0.396872</td>\n",
              "            </tr>\n",
              "            <tr>\n",
              "                        <th id=\"T_65e085ea_25f1_11ea_920a_0242ac1c0002level0_row2\" class=\"row_heading level0 row2\" >C5N</th>\n",
              "                        <td id=\"T_65e085ea_25f1_11ea_920a_0242ac1c0002row2_col0\" class=\"data row2 col0\" >0.910924</td>\n",
              "                        <td id=\"T_65e085ea_25f1_11ea_920a_0242ac1c0002row2_col1\" class=\"data row2 col1\" >0.0900488</td>\n",
              "                        <td id=\"T_65e085ea_25f1_11ea_920a_0242ac1c0002row2_col2\" class=\"data row2 col2\" >0.374414</td>\n",
              "            </tr>\n",
              "            <tr>\n",
              "                        <th id=\"T_65e085ea_25f1_11ea_920a_0242ac1c0002level0_row3\" class=\"row_heading level0 row3\" >C6NP</th>\n",
              "                        <td id=\"T_65e085ea_25f1_11ea_920a_0242ac1c0002row3_col0\" class=\"data row3 col0\" >0.933765</td>\n",
              "                        <td id=\"T_65e085ea_25f1_11ea_920a_0242ac1c0002row3_col1\" class=\"data row3 col1\" >0.508322</td>\n",
              "                        <td id=\"T_65e085ea_25f1_11ea_920a_0242ac1c0002row3_col2\" class=\"data row3 col2\" >0.225641</td>\n",
              "            </tr>\n",
              "            <tr>\n",
              "                        <th id=\"T_65e085ea_25f1_11ea_920a_0242ac1c0002level0_row4\" class=\"row_heading level0 row4\" >C6IP</th>\n",
              "                        <td id=\"T_65e085ea_25f1_11ea_920a_0242ac1c0002row4_col0\" class=\"data row4 col0\" >0.924151</td>\n",
              "                        <td id=\"T_65e085ea_25f1_11ea_920a_0242ac1c0002row4_col1\" class=\"data row4 col1\" >0.677159</td>\n",
              "                        <td id=\"T_65e085ea_25f1_11ea_920a_0242ac1c0002row4_col2\" class=\"data row4 col2\" >0.249919</td>\n",
              "            </tr>\n",
              "            <tr>\n",
              "                        <th id=\"T_65e085ea_25f1_11ea_920a_0242ac1c0002level0_row5\" class=\"row_heading level0 row5\" >C6N</th>\n",
              "                        <td id=\"T_65e085ea_25f1_11ea_920a_0242ac1c0002row5_col0\" class=\"data row5 col0\" >0.632827</td>\n",
              "                        <td id=\"T_65e085ea_25f1_11ea_920a_0242ac1c0002row5_col1\" class=\"data row5 col1\" >1.5893</td>\n",
              "                        <td id=\"T_65e085ea_25f1_11ea_920a_0242ac1c0002row5_col2\" class=\"data row5 col2\" >0.349847</td>\n",
              "            </tr>\n",
              "            <tr>\n",
              "                        <th id=\"T_65e085ea_25f1_11ea_920a_0242ac1c0002level0_row6\" class=\"row_heading level0 row6\" >C6A</th>\n",
              "                        <td id=\"T_65e085ea_25f1_11ea_920a_0242ac1c0002row6_col0\" class=\"data row6 col0\" >0.823662</td>\n",
              "                        <td id=\"T_65e085ea_25f1_11ea_920a_0242ac1c0002row6_col1\" class=\"data row6 col1\" >0.419324</td>\n",
              "                        <td id=\"T_65e085ea_25f1_11ea_920a_0242ac1c0002row6_col2\" class=\"data row6 col2\" >0.745693</td>\n",
              "            </tr>\n",
              "            <tr>\n",
              "                        <th id=\"T_65e085ea_25f1_11ea_920a_0242ac1c0002level0_row7\" class=\"row_heading level0 row7\" >C7NP</th>\n",
              "                        <td id=\"T_65e085ea_25f1_11ea_920a_0242ac1c0002row7_col0\" class=\"data row7 col0\" >0.75523</td>\n",
              "                        <td id=\"T_65e085ea_25f1_11ea_920a_0242ac1c0002row7_col1\" class=\"data row7 col1\" >0.4498</td>\n",
              "                        <td id=\"T_65e085ea_25f1_11ea_920a_0242ac1c0002row7_col2\" class=\"data row7 col2\" >0.066813</td>\n",
              "            </tr>\n",
              "            <tr>\n",
              "                        <th id=\"T_65e085ea_25f1_11ea_920a_0242ac1c0002level0_row8\" class=\"row_heading level0 row8\" >C7IP</th>\n",
              "                        <td id=\"T_65e085ea_25f1_11ea_920a_0242ac1c0002row8_col0\" class=\"data row8 col0\" >0.666261</td>\n",
              "                        <td id=\"T_65e085ea_25f1_11ea_920a_0242ac1c0002row8_col1\" class=\"data row8 col1\" >0.923805</td>\n",
              "                        <td id=\"T_65e085ea_25f1_11ea_920a_0242ac1c0002row8_col2\" class=\"data row8 col2\" >0.112769</td>\n",
              "            </tr>\n",
              "            <tr>\n",
              "                        <th id=\"T_65e085ea_25f1_11ea_920a_0242ac1c0002level0_row9\" class=\"row_heading level0 row9\" >C7N</th>\n",
              "                        <td id=\"T_65e085ea_25f1_11ea_920a_0242ac1c0002row9_col0\" class=\"data row9 col0\" >0.900795</td>\n",
              "                        <td id=\"T_65e085ea_25f1_11ea_920a_0242ac1c0002row9_col1\" class=\"data row9 col1\" >1.85014</td>\n",
              "                        <td id=\"T_65e085ea_25f1_11ea_920a_0242ac1c0002row9_col2\" class=\"data row9 col2\" >0.0766509</td>\n",
              "            </tr>\n",
              "            <tr>\n",
              "                        <th id=\"T_65e085ea_25f1_11ea_920a_0242ac1c0002level0_row10\" class=\"row_heading level0 row10\" >C7A</th>\n",
              "                        <td id=\"T_65e085ea_25f1_11ea_920a_0242ac1c0002row10_col0\" class=\"data row10 col0\" >0.67114</td>\n",
              "                        <td id=\"T_65e085ea_25f1_11ea_920a_0242ac1c0002row10_col1\" class=\"data row10 col1\" >0.683658</td>\n",
              "                        <td id=\"T_65e085ea_25f1_11ea_920a_0242ac1c0002row10_col2\" class=\"data row10 col2\" >0.136288</td>\n",
              "            </tr>\n",
              "            <tr>\n",
              "                        <th id=\"T_65e085ea_25f1_11ea_920a_0242ac1c0002level0_row11\" class=\"row_heading level0 row11\" >C8NP</th>\n",
              "                        <td id=\"T_65e085ea_25f1_11ea_920a_0242ac1c0002row11_col0\" class=\"data row11 col0\" >0.793551</td>\n",
              "                        <td id=\"T_65e085ea_25f1_11ea_920a_0242ac1c0002row11_col1\" class=\"data row11 col1\" >0.710375</td>\n",
              "                        <td id=\"T_65e085ea_25f1_11ea_920a_0242ac1c0002row11_col2\" class=\"data row11 col2\" >0.105201</td>\n",
              "            </tr>\n",
              "            <tr>\n",
              "                        <th id=\"T_65e085ea_25f1_11ea_920a_0242ac1c0002level0_row12\" class=\"row_heading level0 row12\" >C8IP</th>\n",
              "                        <td id=\"T_65e085ea_25f1_11ea_920a_0242ac1c0002row12_col0\" class=\"data row12 col0\" >0.77188</td>\n",
              "                        <td id=\"T_65e085ea_25f1_11ea_920a_0242ac1c0002row12_col1\" class=\"data row12 col1\" >1.29686</td>\n",
              "                        <td id=\"T_65e085ea_25f1_11ea_920a_0242ac1c0002row12_col2\" class=\"data row12 col2\" >0.195153</td>\n",
              "            </tr>\n",
              "            <tr>\n",
              "                        <th id=\"T_65e085ea_25f1_11ea_920a_0242ac1c0002level0_row13\" class=\"row_heading level0 row13\" >C8N</th>\n",
              "                        <td id=\"T_65e085ea_25f1_11ea_920a_0242ac1c0002row13_col0\" class=\"data row13 col0\" >0.632082</td>\n",
              "                        <td id=\"T_65e085ea_25f1_11ea_920a_0242ac1c0002row13_col1\" class=\"data row13 col1\" >1.86848</td>\n",
              "                        <td id=\"T_65e085ea_25f1_11ea_920a_0242ac1c0002row13_col2\" class=\"data row13 col2\" >0.13766</td>\n",
              "            </tr>\n",
              "            <tr>\n",
              "                        <th id=\"T_65e085ea_25f1_11ea_920a_0242ac1c0002level0_row14\" class=\"row_heading level0 row14\" >C8A</th>\n",
              "                        <td id=\"T_65e085ea_25f1_11ea_920a_0242ac1c0002row14_col0\" class=\"data row14 col0\" >0.845213</td>\n",
              "                        <td id=\"T_65e085ea_25f1_11ea_920a_0242ac1c0002row14_col1\" class=\"data row14 col1\" >0.664753</td>\n",
              "                        <td id=\"T_65e085ea_25f1_11ea_920a_0242ac1c0002row14_col2\" class=\"data row14 col2\" >0.11588</td>\n",
              "            </tr>\n",
              "            <tr>\n",
              "                        <th id=\"T_65e085ea_25f1_11ea_920a_0242ac1c0002level0_row15\" class=\"row_heading level0 row15\" >C9NP</th>\n",
              "                        <td id=\"T_65e085ea_25f1_11ea_920a_0242ac1c0002row15_col0\" class=\"data row15 col0\" >0.613778</td>\n",
              "                        <td id=\"T_65e085ea_25f1_11ea_920a_0242ac1c0002row15_col1\" class=\"data row15 col1\" >0.894161</td>\n",
              "                        <td id=\"T_65e085ea_25f1_11ea_920a_0242ac1c0002row15_col2\" class=\"data row15 col2\" >1.79218</td>\n",
              "            </tr>\n",
              "            <tr>\n",
              "                        <th id=\"T_65e085ea_25f1_11ea_920a_0242ac1c0002level0_row16\" class=\"row_heading level0 row16\" >C9IP</th>\n",
              "                        <td id=\"T_65e085ea_25f1_11ea_920a_0242ac1c0002row16_col0\" class=\"data row16 col0\" >0.756047</td>\n",
              "                        <td id=\"T_65e085ea_25f1_11ea_920a_0242ac1c0002row16_col1\" class=\"data row16 col1\" >1.06223</td>\n",
              "                        <td id=\"T_65e085ea_25f1_11ea_920a_0242ac1c0002row16_col2\" class=\"data row16 col2\" >0.125952</td>\n",
              "            </tr>\n",
              "            <tr>\n",
              "                        <th id=\"T_65e085ea_25f1_11ea_920a_0242ac1c0002level0_row17\" class=\"row_heading level0 row17\" >C9N</th>\n",
              "                        <td id=\"T_65e085ea_25f1_11ea_920a_0242ac1c0002row17_col0\" class=\"data row17 col0\" >0.55865</td>\n",
              "                        <td id=\"T_65e085ea_25f1_11ea_920a_0242ac1c0002row17_col1\" class=\"data row17 col1\" >0.851816</td>\n",
              "                        <td id=\"T_65e085ea_25f1_11ea_920a_0242ac1c0002row17_col2\" class=\"data row17 col2\" >0.193235</td>\n",
              "            </tr>\n",
              "            <tr>\n",
              "                        <th id=\"T_65e085ea_25f1_11ea_920a_0242ac1c0002level0_row18\" class=\"row_heading level0 row18\" >C9A</th>\n",
              "                        <td id=\"T_65e085ea_25f1_11ea_920a_0242ac1c0002row18_col0\" class=\"data row18 col0\" >0.749138</td>\n",
              "                        <td id=\"T_65e085ea_25f1_11ea_920a_0242ac1c0002row18_col1\" class=\"data row18 col1\" >0.471531</td>\n",
              "                        <td id=\"T_65e085ea_25f1_11ea_920a_0242ac1c0002row18_col2\" class=\"data row18 col2\" >0.21074</td>\n",
              "            </tr>\n",
              "            <tr>\n",
              "                        <th id=\"T_65e085ea_25f1_11ea_920a_0242ac1c0002level0_row19\" class=\"row_heading level0 row19\" >C10NP</th>\n",
              "                        <td id=\"T_65e085ea_25f1_11ea_920a_0242ac1c0002row19_col0\" class=\"data row19 col0\" >0.55302</td>\n",
              "                        <td id=\"T_65e085ea_25f1_11ea_920a_0242ac1c0002row19_col1\" class=\"data row19 col1\" >0.482343</td>\n",
              "                        <td id=\"T_65e085ea_25f1_11ea_920a_0242ac1c0002row19_col2\" class=\"data row19 col2\" >0.552722</td>\n",
              "            </tr>\n",
              "            <tr>\n",
              "                        <th id=\"T_65e085ea_25f1_11ea_920a_0242ac1c0002level0_row20\" class=\"row_heading level0 row20\" >C10IP</th>\n",
              "                        <td id=\"T_65e085ea_25f1_11ea_920a_0242ac1c0002row20_col0\" class=\"data row20 col0\" >0.342221</td>\n",
              "                        <td id=\"T_65e085ea_25f1_11ea_920a_0242ac1c0002row20_col1\" class=\"data row20 col1\" >0.935158</td>\n",
              "                        <td id=\"T_65e085ea_25f1_11ea_920a_0242ac1c0002row20_col2\" class=\"data row20 col2\" >0.2789</td>\n",
              "            </tr>\n",
              "            <tr>\n",
              "                        <th id=\"T_65e085ea_25f1_11ea_920a_0242ac1c0002level0_row21\" class=\"row_heading level0 row21\" >C10N</th>\n",
              "                        <td id=\"T_65e085ea_25f1_11ea_920a_0242ac1c0002row21_col0\" class=\"data row21 col0\" >0.307135</td>\n",
              "                        <td id=\"T_65e085ea_25f1_11ea_920a_0242ac1c0002row21_col1\" class=\"data row21 col1\" >0.189744</td>\n",
              "                        <td id=\"T_65e085ea_25f1_11ea_920a_0242ac1c0002row21_col2\" class=\"data row21 col2\" >0.536655</td>\n",
              "            </tr>\n",
              "            <tr>\n",
              "                        <th id=\"T_65e085ea_25f1_11ea_920a_0242ac1c0002level0_row22\" class=\"row_heading level0 row22\" >C10A</th>\n",
              "                        <td id=\"T_65e085ea_25f1_11ea_920a_0242ac1c0002row22_col0\" class=\"data row22 col0\" >0.636133</td>\n",
              "                        <td id=\"T_65e085ea_25f1_11ea_920a_0242ac1c0002row22_col1\" class=\"data row22 col1\" >0.390921</td>\n",
              "                        <td id=\"T_65e085ea_25f1_11ea_920a_0242ac1c0002row22_col2\" class=\"data row22 col2\" >0.527704</td>\n",
              "            </tr>\n",
              "            <tr>\n",
              "                        <th id=\"T_65e085ea_25f1_11ea_920a_0242ac1c0002level0_row23\" class=\"row_heading level0 row23\" >AVG</th>\n",
              "                        <td id=\"T_65e085ea_25f1_11ea_920a_0242ac1c0002row23_col0\" class=\"data row23 col0\" >0.725425</td>\n",
              "                        <td id=\"T_65e085ea_25f1_11ea_920a_0242ac1c0002row23_col1\" class=\"data row23 col1\" >0.794373</td>\n",
              "                        <td id=\"T_65e085ea_25f1_11ea_920a_0242ac1c0002row23_col2\" class=\"data row23 col2\" >0.336014</td>\n",
              "            </tr>\n",
              "    </tbody></table>"
            ],
            "text/plain": [
              "<pandas.io.formats.style.Styler at 0x7f97128614e0>"
            ]
          },
          "metadata": {
            "tags": []
          },
          "execution_count": 61
        }
      ]
    },
    {
      "cell_type": "markdown",
      "metadata": {
        "id": "6-gLrUdpVURE",
        "colab_type": "text"
      },
      "source": [
        "# loss analysis"
      ]
    },
    {
      "cell_type": "code",
      "metadata": {
        "id": "3XEXeYFnXC9C",
        "colab_type": "code",
        "colab": {}
      },
      "source": [
        "y_name = 'C7N'"
      ],
      "execution_count": 0,
      "outputs": []
    },
    {
      "cell_type": "code",
      "metadata": {
        "id": "WcyZ75UulQCb",
        "colab_type": "code",
        "outputId": "d9b1c611-2786-4d18-c9df-214943981f67",
        "colab": {
          "base_uri": "https://localhost:8080/",
          "height": 198
        }
      },
      "source": [
        "square_error = (y_pred[y_name]-y_test[y_name])**2\n",
        "plot_data = pd.DataFrame()\n",
        "plot_data[y_name] = y_test[y_name]\n",
        "plot_data[y_name+'_pred'] = y_pred[y_name]\n",
        "plot_data['loss'] = square_error\n",
        "plot_data.sort_values(by='loss',ascending=False).head()"
      ],
      "execution_count": 63,
      "outputs": [
        {
          "output_type": "execute_result",
          "data": {
            "text/html": [
              "<div>\n",
              "<style scoped>\n",
              "    .dataframe tbody tr th:only-of-type {\n",
              "        vertical-align: middle;\n",
              "    }\n",
              "\n",
              "    .dataframe tbody tr th {\n",
              "        vertical-align: top;\n",
              "    }\n",
              "\n",
              "    .dataframe thead th {\n",
              "        text-align: right;\n",
              "    }\n",
              "</style>\n",
              "<table border=\"1\" class=\"dataframe\">\n",
              "  <thead>\n",
              "    <tr style=\"text-align: right;\">\n",
              "      <th></th>\n",
              "      <th>C7N</th>\n",
              "      <th>C7N_pred</th>\n",
              "      <th>loss</th>\n",
              "    </tr>\n",
              "  </thead>\n",
              "  <tbody>\n",
              "    <tr>\n",
              "      <th>10</th>\n",
              "      <td>29.654895</td>\n",
              "      <td>23.079189</td>\n",
              "      <td>43.239901</td>\n",
              "    </tr>\n",
              "    <tr>\n",
              "      <th>135</th>\n",
              "      <td>18.577741</td>\n",
              "      <td>13.475429</td>\n",
              "      <td>26.033592</td>\n",
              "    </tr>\n",
              "    <tr>\n",
              "      <th>145</th>\n",
              "      <td>17.906555</td>\n",
              "      <td>13.040204</td>\n",
              "      <td>23.681376</td>\n",
              "    </tr>\n",
              "    <tr>\n",
              "      <th>50</th>\n",
              "      <td>13.361280</td>\n",
              "      <td>10.870088</td>\n",
              "      <td>6.206038</td>\n",
              "    </tr>\n",
              "    <tr>\n",
              "      <th>35</th>\n",
              "      <td>8.729265</td>\n",
              "      <td>11.114974</td>\n",
              "      <td>5.691606</td>\n",
              "    </tr>\n",
              "  </tbody>\n",
              "</table>\n",
              "</div>"
            ],
            "text/plain": [
              "           C7N   C7N_pred       loss\n",
              "10   29.654895  23.079189  43.239901\n",
              "135  18.577741  13.475429  26.033592\n",
              "145  17.906555  13.040204  23.681376\n",
              "50   13.361280  10.870088   6.206038\n",
              "35    8.729265  11.114974   5.691606"
            ]
          },
          "metadata": {
            "tags": []
          },
          "execution_count": 63
        }
      ]
    },
    {
      "cell_type": "code",
      "metadata": {
        "id": "tradnTaRcAZk",
        "colab_type": "code",
        "colab": {
          "base_uri": "https://localhost:8080/",
          "height": 280
        },
        "outputId": "0d46828a-ca2b-4ad6-c639-e23762124399"
      },
      "source": [
        "sns.distplot(square_error)\n",
        "plt.xlabel(y_name+'_loss')\n",
        "plt.ylabel('density')\n",
        "plt.show()"
      ],
      "execution_count": 64,
      "outputs": [
        {
          "output_type": "display_data",
          "data": {
            "image/png": "[encoded data removed]",
            "text/plain": [
              "<Figure size 432x288 with 1 Axes>"
            ]
          },
          "metadata": {
            "tags": []
          }
        }
      ]
    },
    {
      "cell_type": "code",
      "metadata": {
        "id": "EbnhYjXeZmzS",
        "colab_type": "code",
        "colab": {
          "base_uri": "https://localhost:8080/",
          "height": 298
        },
        "outputId": "35782cea-bf03-4d53-b209-51eeddf79438"
      },
      "source": [
        "plt.plot(plot_data.index,[0 for i in range(len(plot_data))])\n",
        "plt.scatter(plot_data.index,plot_data.loss,color='black')\n",
        "plt.xlabel('index')\n",
        "plt.ylabel('square_error')"
      ],
      "execution_count": 65,
      "outputs": [
        {
          "output_type": "execute_result",
          "data": {
            "text/plain": [
              "Text(0, 0.5, 'square_error')"
            ]
          },
          "metadata": {
            "tags": []
          },
          "execution_count": 65
        },
        {
          "output_type": "display_data",
          "data": {
            "image/png": "[encoded data removed]",
            "text/plain": [
              "<Figure size 432x288 with 1 Axes>"
            ]
          },
          "metadata": {
            "tags": []
          }
        }
      ]
    },
    {
      "cell_type": "code",
      "metadata": {
        "id": "8vomEmllXfzq",
        "colab_type": "code",
        "colab": {
          "base_uri": "https://localhost:8080/",
          "height": 279
        },
        "outputId": "b4a3464a-7ea6-40dd-f45b-5200a415fb7f"
      },
      "source": [
        "plt.plot(plot_data.index,plot_data[y_name],label = y_name)\n",
        "plt.scatter(plot_data.index,plot_data[y_name+'_pred'],color='black',label = y_name+'_pred')\n",
        "plt.xlabel('index')\n",
        "plt.legend()\n",
        "plt.show()"
      ],
      "execution_count": 66,
      "outputs": [
        {
          "output_type": "display_data",
          "data": {
            "image/png": "[encoded data removed]",
            "text/plain": [
              "<Figure size 432x288 with 1 Axes>"
            ]
          },
          "metadata": {
            "tags": []
          }
        }
      ]
    },
    {
      "cell_type": "code",
      "metadata": {
        "id": "XYy2D_7Kg2VU",
        "colab_type": "code",
        "colab": {}
      },
      "source": [
        ""
      ],
      "execution_count": 0,
      "outputs": []
    }
  ]
}
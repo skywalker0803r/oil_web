{
  "nbformat": 4,
  "nbformat_minor": 0,
  "metadata": {
    "colab": {
      "name": "第四版模組開發_SVR_序列預測.ipynb",
      "provenance": [],
      "collapsed_sections": [],
      "authorship_tag": "ABX9TyMW1xZr6VtWxsgF35DUBuQf",
      "include_colab_link": true
    },
    "kernelspec": {
      "name": "python3",
      "display_name": "Python 3"
    },
    "widgets": {
      "application/vnd.jupyter.widget-state+json": {
        "6267a066c93b46fb8f894a841eb18d84": {
          "model_module": "@jupyter-widgets/controls",
          "model_name": "HBoxModel",
          "state": {
            "_view_name": "HBoxView",
            "_dom_classes": [],
            "_model_name": "HBoxModel",
            "_view_module": "@jupyter-widgets/controls",
            "_model_module_version": "1.5.0",
            "_view_count": null,
            "_view_module_version": "1.5.0",
            "box_style": "",
            "layout": "IPY_MODEL_0828975e23554670873628942c62117f",
            "_model_module": "@jupyter-widgets/controls",
            "children": [
              "IPY_MODEL_27845f10f22348a7a24d0830606f67dd",
              "IPY_MODEL_97cc946ef13642019ea9c7868b9c457c"
            ]
          }
        },
        "0828975e23554670873628942c62117f": {
          "model_module": "@jupyter-widgets/base",
          "model_name": "LayoutModel",
          "state": {
            "_view_name": "LayoutView",
            "grid_template_rows": null,
            "right": null,
            "justify_content": null,
            "_view_module": "@jupyter-widgets/base",
            "overflow": null,
            "_model_module_version": "1.2.0",
            "_view_count": null,
            "flex_flow": null,
            "width": null,
            "min_width": null,
            "border": null,
            "align_items": null,
            "bottom": null,
            "_model_module": "@jupyter-widgets/base",
            "top": null,
            "grid_column": null,
            "overflow_y": null,
            "overflow_x": null,
            "grid_auto_flow": null,
            "grid_area": null,
            "grid_template_columns": null,
            "flex": null,
            "_model_name": "LayoutModel",
            "justify_items": null,
            "grid_row": null,
            "max_height": null,
            "align_content": null,
            "visibility": null,
            "align_self": null,
            "height": null,
            "min_height": null,
            "padding": null,
            "grid_auto_rows": null,
            "grid_gap": null,
            "max_width": null,
            "order": null,
            "_view_module_version": "1.2.0",
            "grid_template_areas": null,
            "object_position": null,
            "object_fit": null,
            "grid_auto_columns": null,
            "margin": null,
            "display": null,
            "left": null
          }
        },
        "27845f10f22348a7a24d0830606f67dd": {
          "model_module": "@jupyter-widgets/controls",
          "model_name": "IntProgressModel",
          "state": {
            "_view_name": "ProgressView",
            "style": "IPY_MODEL_8e186c997f704512a7a1c5bb08f940fe",
            "_dom_classes": [],
            "description": "",
            "_model_name": "IntProgressModel",
            "bar_style": "success",
            "max": 23,
            "_view_module": "@jupyter-widgets/controls",
            "_model_module_version": "1.5.0",
            "value": 23,
            "_view_count": null,
            "_view_module_version": "1.5.0",
            "orientation": "horizontal",
            "min": 0,
            "description_tooltip": null,
            "_model_module": "@jupyter-widgets/controls",
            "layout": "IPY_MODEL_a7e36c0500b0499baf836f1f54c2d332"
          }
        },
        "97cc946ef13642019ea9c7868b9c457c": {
          "model_module": "@jupyter-widgets/controls",
          "model_name": "HTMLModel",
          "state": {
            "_view_name": "HTMLView",
            "style": "IPY_MODEL_32f4af90857940afb1e0a2dc09f5bcec",
            "_dom_classes": [],
            "description": "",
            "_model_name": "HTMLModel",
            "placeholder": "​",
            "_view_module": "@jupyter-widgets/controls",
            "_model_module_version": "1.5.0",
            "value": "100% 23/23 [00:38&lt;00:00,  1.93s/it]",
            "_view_count": null,
            "_view_module_version": "1.5.0",
            "description_tooltip": null,
            "_model_module": "@jupyter-widgets/controls",
            "layout": "IPY_MODEL_8e6a4ae1f696422a9b8616262330be2f"
          }
        },
        "8e186c997f704512a7a1c5bb08f940fe": {
          "model_module": "@jupyter-widgets/controls",
          "model_name": "ProgressStyleModel",
          "state": {
            "_view_name": "StyleView",
            "_model_name": "ProgressStyleModel",
            "description_width": "",
            "_view_module": "@jupyter-widgets/base",
            "_model_module_version": "1.5.0",
            "_view_count": null,
            "_view_module_version": "1.2.0",
            "bar_color": null,
            "_model_module": "@jupyter-widgets/controls"
          }
        },
        "a7e36c0500b0499baf836f1f54c2d332": {
          "model_module": "@jupyter-widgets/base",
          "model_name": "LayoutModel",
          "state": {
            "_view_name": "LayoutView",
            "grid_template_rows": null,
            "right": null,
            "justify_content": null,
            "_view_module": "@jupyter-widgets/base",
            "overflow": null,
            "_model_module_version": "1.2.0",
            "_view_count": null,
            "flex_flow": null,
            "width": null,
            "min_width": null,
            "border": null,
            "align_items": null,
            "bottom": null,
            "_model_module": "@jupyter-widgets/base",
            "top": null,
            "grid_column": null,
            "overflow_y": null,
            "overflow_x": null,
            "grid_auto_flow": null,
            "grid_area": null,
            "grid_template_columns": null,
            "flex": null,
            "_model_name": "LayoutModel",
            "justify_items": null,
            "grid_row": null,
            "max_height": null,
            "align_content": null,
            "visibility": null,
            "align_self": null,
            "height": null,
            "min_height": null,
            "padding": null,
            "grid_auto_rows": null,
            "grid_gap": null,
            "max_width": null,
            "order": null,
            "_view_module_version": "1.2.0",
            "grid_template_areas": null,
            "object_position": null,
            "object_fit": null,
            "grid_auto_columns": null,
            "margin": null,
            "display": null,
            "left": null
          }
        },
        "32f4af90857940afb1e0a2dc09f5bcec": {
          "model_module": "@jupyter-widgets/controls",
          "model_name": "DescriptionStyleModel",
          "state": {
            "_view_name": "StyleView",
            "_model_name": "DescriptionStyleModel",
            "description_width": "",
            "_view_module": "@jupyter-widgets/base",
            "_model_module_version": "1.5.0",
            "_view_count": null,
            "_view_module_version": "1.2.0",
            "_model_module": "@jupyter-widgets/controls"
          }
        },
        "8e6a4ae1f696422a9b8616262330be2f": {
          "model_module": "@jupyter-widgets/base",
          "model_name": "LayoutModel",
          "state": {
            "_view_name": "LayoutView",
            "grid_template_rows": null,
            "right": null,
            "justify_content": null,
            "_view_module": "@jupyter-widgets/base",
            "overflow": null,
            "_model_module_version": "1.2.0",
            "_view_count": null,
            "flex_flow": null,
            "width": null,
            "min_width": null,
            "border": null,
            "align_items": null,
            "bottom": null,
            "_model_module": "@jupyter-widgets/base",
            "top": null,
            "grid_column": null,
            "overflow_y": null,
            "overflow_x": null,
            "grid_auto_flow": null,
            "grid_area": null,
            "grid_template_columns": null,
            "flex": null,
            "_model_name": "LayoutModel",
            "justify_items": null,
            "grid_row": null,
            "max_height": null,
            "align_content": null,
            "visibility": null,
            "align_self": null,
            "height": null,
            "min_height": null,
            "padding": null,
            "grid_auto_rows": null,
            "grid_gap": null,
            "max_width": null,
            "order": null,
            "_view_module_version": "1.2.0",
            "grid_template_areas": null,
            "object_position": null,
            "object_fit": null,
            "grid_auto_columns": null,
            "margin": null,
            "display": null,
            "left": null
          }
        }
      }
    }
  },
  "cells": [
    {
      "cell_type": "markdown",
      "metadata": {
        "id": "view-in-github",
        "colab_type": "text"
      },
      "source": [
        "<a href=\"https://colab.research.google.com/github/skywalker0803r/oil_web/blob/master/%E7%AC%AC%E5%9B%9B%E7%89%88%E6%A8%A1%E7%B5%84%E9%96%8B%E7%99%BC_SVR_%E5%BA%8F%E5%88%97%E9%A0%90%E6%B8%AC.ipynb\" target=\"_parent\"><img src=\"https://colab.research.google.com/assets/colab-badge.svg\" alt=\"Open In Colab\"/></a>"
      ]
    },
    {
      "cell_type": "code",
      "metadata": {
        "id": "oA37i__RNpOQ",
        "colab_type": "code",
        "outputId": "a7491563-a03d-42e1-fe9b-5cb4803ae04b",
        "colab": {
          "base_uri": "https://localhost:8080/",
          "height": 34
        }
      },
      "source": [
        "from google.colab import drive\n",
        "import pandas as pd\n",
        "from sklearn.svm import SVR\n",
        "from tqdm import tqdm_notebook as tqdm\n",
        "import numpy as np\n",
        "from sklearn.metrics import r2_score,mean_squared_error\n",
        "from math import sqrt\n",
        "from sklearn.preprocessing import StandardScaler\n",
        "import warnings;warnings.simplefilter('ignore')\n",
        "from sklearn.pipeline import Pipeline\n",
        "import joblib\n",
        "import pickle\n",
        "drive.mount('/content/drive')"
      ],
      "execution_count": 1,
      "outputs": [
        {
          "output_type": "stream",
          "text": [
            "Drive already mounted at /content/drive; to attempt to forcibly remount, call drive.mount(\"/content/drive\", force_remount=True).\n"
          ],
          "name": "stdout"
        }
      ]
    },
    {
      "cell_type": "markdown",
      "metadata": {
        "id": "Vy9W3LNNOdsS",
        "colab_type": "text"
      },
      "source": [
        "# load raw data"
      ]
    },
    {
      "cell_type": "code",
      "metadata": {
        "id": "nR6Eu_9aNqRD",
        "colab_type": "code",
        "colab": {}
      },
      "source": [
        "train = pd.read_csv('/content/drive/My Drive/台塑輕油案子/data/train_4565.csv',index_col=0)\n",
        "test = pd.read_csv('/content/drive/My Drive/台塑輕油案子/data/test_170.csv',index_col=0)"
      ],
      "execution_count": 0,
      "outputs": []
    },
    {
      "cell_type": "markdown",
      "metadata": {
        "id": "oyf3xPpIOwFF",
        "colab_type": "text"
      },
      "source": [
        "# data for modeling"
      ]
    },
    {
      "cell_type": "code",
      "metadata": {
        "id": "kdNOeS3_Owrt",
        "colab_type": "code",
        "outputId": "e9e2f1c4-9696-4350-c96f-d88e46248a4a",
        "colab": {
          "base_uri": "https://localhost:8080/",
          "height": 87
        }
      },
      "source": [
        "cols = train.columns.tolist()\n",
        "x_cols = ['T10','T50','T90','N+A']\n",
        "y_cols = ['C5NP','C5IP','C5N','C6NP','C6IP','C6N','C6A','C7NP','C7IP','C7N','C7A',\n",
        "'C8NP','C8IP','C8N','C8A','C9NP','C9IP','C9N','C9A','C10NP','C10IP','C10N','C10A']\n",
        "X_train = train[x_cols]\n",
        "X_test = test[x_cols]\n",
        "y_train = train[y_cols]\n",
        "y_test = test[y_cols]\n",
        "print(X_train.shape)\n",
        "print(y_train.shape)\n",
        "print(X_test.shape)\n",
        "print(y_test.shape)"
      ],
      "execution_count": 3,
      "outputs": [
        {
          "output_type": "stream",
          "text": [
            "(4565, 4)\n",
            "(4565, 23)\n",
            "(170, 4)\n",
            "(170, 23)\n"
          ],
          "name": "stdout"
        }
      ]
    },
    {
      "cell_type": "markdown",
      "metadata": {
        "id": "T6S2pZgHO-4T",
        "colab_type": "text"
      },
      "source": [
        "# define model"
      ]
    },
    {
      "cell_type": "code",
      "metadata": {
        "id": "FUrCcpgFOIz6",
        "colab_type": "code",
        "colab": {}
      },
      "source": [
        "class custom_model(object):\n",
        "  def __init__(self):\n",
        "    self.x_cols = ['T10','T50','T90','N+A']\n",
        "    self.y_cols = ['C5NP','C5IP','C5N','C6NP','C6IP','C6N','C6A','C7NP','C7IP','C7N','C7A',\n",
        "                   'C8NP','C8IP','C8N','C8A','C9NP','C9IP','C9N','C9A','C10NP','C10IP','C10N','C10A']\n",
        "    self.model_23 = {}\n",
        "    for y_name in y_cols:\n",
        "      self.model_23[y_name] = Pipeline([('scaler',StandardScaler()),('reg',SVR(C=0.3))])\n",
        "  \n",
        "  def feature_engineering(self,X):\n",
        "    X = pd.DataFrame(X,columns=self.x_cols)\n",
        "    #X['f1'] = X['T90']-X['T50']\n",
        "    #X['f2'] = X['T50']-X['T10']\n",
        "    return X\n",
        "  \n",
        "  def fit(self,X,y):\n",
        "    X = self.feature_engineering(X)\n",
        "    for y_name in tqdm(self.y_cols):\n",
        "      self.model_23[y_name].fit(X,y[y_name])\n",
        "      y_pred = self.model_23[y_name].predict(X)\n",
        "      # 序列預測把y_pred併入X \n",
        "      X.loc[:,y_name] = y_pred\n",
        "    X = X[self.x_cols]\n",
        "  \n",
        "  def predict(self,X):\n",
        "    results = pd.DataFrame(index=[*range(len(X))],columns=self.y_cols)\n",
        "    X = self.feature_engineering(X)\n",
        "    for y_name in self.y_cols:\n",
        "      y_pred = self.model_23[y_name].predict(X)\n",
        "      results.loc[:,y_name] = y_pred\n",
        "      # 序列預測把y_pred併入X\n",
        "      X.loc[:,y_name] = y_pred\n",
        "    X = X[self.x_cols]\n",
        "    return results.values"
      ],
      "execution_count": 0,
      "outputs": []
    },
    {
      "cell_type": "markdown",
      "metadata": {
        "id": "Xe9xwmNmRVV1",
        "colab_type": "text"
      },
      "source": [
        "# fit model"
      ]
    },
    {
      "cell_type": "code",
      "metadata": {
        "id": "okMMyTZNQ3gN",
        "colab_type": "code",
        "outputId": "3eb5ed10-ba19-43cb-c6b0-7d6264001ac3",
        "colab": {
          "base_uri": "https://localhost:8080/",
          "height": 66,
          "referenced_widgets": [
            "6267a066c93b46fb8f894a841eb18d84",
            "0828975e23554670873628942c62117f",
            "27845f10f22348a7a24d0830606f67dd",
            "97cc946ef13642019ea9c7868b9c457c",
            "8e186c997f704512a7a1c5bb08f940fe",
            "a7e36c0500b0499baf836f1f54c2d332",
            "32f4af90857940afb1e0a2dc09f5bcec",
            "8e6a4ae1f696422a9b8616262330be2f"
          ]
        }
      },
      "source": [
        "model = custom_model()\n",
        "model.fit(X_train,y_train)"
      ],
      "execution_count": 5,
      "outputs": [
        {
          "output_type": "display_data",
          "data": {
            "application/vnd.jupyter.widget-view+json": {
              "model_id": "6267a066c93b46fb8f894a841eb18d84",
              "version_minor": 0,
              "version_major": 2
            },
            "text/plain": [
              "HBox(children=(IntProgress(value=0, max=23), HTML(value='')))"
            ]
          },
          "metadata": {
            "tags": []
          }
        },
        {
          "output_type": "stream",
          "text": [
            "\n"
          ],
          "name": "stdout"
        }
      ]
    },
    {
      "cell_type": "markdown",
      "metadata": {
        "id": "5cccaef4fqCy",
        "colab_type": "text"
      },
      "source": [
        "# model predict"
      ]
    },
    {
      "cell_type": "code",
      "metadata": {
        "id": "jiRBGkAxRIi6",
        "colab_type": "code",
        "outputId": "c0f41266-0c19-48f8-a84d-3a652c415c45",
        "colab": {
          "base_uri": "https://localhost:8080/",
          "height": 34
        }
      },
      "source": [
        "y_pred = model.predict(X_test)\n",
        "y_pred.shape"
      ],
      "execution_count": 6,
      "outputs": [
        {
          "output_type": "execute_result",
          "data": {
            "text/plain": [
              "(170, 23)"
            ]
          },
          "metadata": {
            "tags": []
          },
          "execution_count": 6
        }
      ]
    },
    {
      "cell_type": "markdown",
      "metadata": {
        "id": "avvs9LEbfsyy",
        "colab_type": "text"
      },
      "source": [
        "# metric"
      ]
    },
    {
      "cell_type": "code",
      "metadata": {
        "id": "GP7yVnWgfgJG",
        "colab_type": "code",
        "outputId": "fcaaa2f2-5311-48d6-d8e2-5215e32176c8",
        "colab": {
          "base_uri": "https://localhost:8080/",
          "height": 217
        }
      },
      "source": [
        "y_pred = pd.DataFrame(y_pred,index=[*range(len(X_test))],columns=y_cols)\n",
        "y_pred.to_excel('test_170_y_pred.xlsx')\n",
        "y_pred.head()"
      ],
      "execution_count": 7,
      "outputs": [
        {
          "output_type": "execute_result",
          "data": {
            "text/html": [
              "<div>\n",
              "<style scoped>\n",
              "    .dataframe tbody tr th:only-of-type {\n",
              "        vertical-align: middle;\n",
              "    }\n",
              "\n",
              "    .dataframe tbody tr th {\n",
              "        vertical-align: top;\n",
              "    }\n",
              "\n",
              "    .dataframe thead th {\n",
              "        text-align: right;\n",
              "    }\n",
              "</style>\n",
              "<table border=\"1\" class=\"dataframe\">\n",
              "  <thead>\n",
              "    <tr style=\"text-align: right;\">\n",
              "      <th></th>\n",
              "      <th>C5NP</th>\n",
              "      <th>C5IP</th>\n",
              "      <th>C5N</th>\n",
              "      <th>C6NP</th>\n",
              "      <th>C6IP</th>\n",
              "      <th>C6N</th>\n",
              "      <th>C6A</th>\n",
              "      <th>C7NP</th>\n",
              "      <th>C7IP</th>\n",
              "      <th>C7N</th>\n",
              "      <th>C7A</th>\n",
              "      <th>C8NP</th>\n",
              "      <th>C8IP</th>\n",
              "      <th>C8N</th>\n",
              "      <th>C8A</th>\n",
              "      <th>C9NP</th>\n",
              "      <th>C9IP</th>\n",
              "      <th>C9N</th>\n",
              "      <th>C9A</th>\n",
              "      <th>C10NP</th>\n",
              "      <th>C10IP</th>\n",
              "      <th>C10N</th>\n",
              "      <th>C10A</th>\n",
              "    </tr>\n",
              "  </thead>\n",
              "  <tbody>\n",
              "    <tr>\n",
              "      <th>0</th>\n",
              "      <td>1.190894</td>\n",
              "      <td>0.807816</td>\n",
              "      <td>0.160609</td>\n",
              "      <td>3.573410</td>\n",
              "      <td>2.227260</td>\n",
              "      <td>3.516232</td>\n",
              "      <td>0.654154</td>\n",
              "      <td>7.918605</td>\n",
              "      <td>6.272781</td>\n",
              "      <td>9.455625</td>\n",
              "      <td>3.257780</td>\n",
              "      <td>7.923163</td>\n",
              "      <td>8.302073</td>\n",
              "      <td>6.966316</td>\n",
              "      <td>5.818806</td>\n",
              "      <td>5.146293</td>\n",
              "      <td>9.245465</td>\n",
              "      <td>4.937084</td>\n",
              "      <td>3.466927</td>\n",
              "      <td>1.127751</td>\n",
              "      <td>5.198255</td>\n",
              "      <td>0.668779</td>\n",
              "      <td>0.687152</td>\n",
              "    </tr>\n",
              "    <tr>\n",
              "      <th>1</th>\n",
              "      <td>0.137756</td>\n",
              "      <td>0.116131</td>\n",
              "      <td>0.102770</td>\n",
              "      <td>3.273672</td>\n",
              "      <td>1.100118</td>\n",
              "      <td>2.163449</td>\n",
              "      <td>0.398651</td>\n",
              "      <td>10.462490</td>\n",
              "      <td>7.612349</td>\n",
              "      <td>6.337935</td>\n",
              "      <td>2.885223</td>\n",
              "      <td>9.681833</td>\n",
              "      <td>10.256803</td>\n",
              "      <td>4.981778</td>\n",
              "      <td>5.586067</td>\n",
              "      <td>6.757531</td>\n",
              "      <td>10.725721</td>\n",
              "      <td>4.448437</td>\n",
              "      <td>3.891992</td>\n",
              "      <td>1.188590</td>\n",
              "      <td>6.041288</td>\n",
              "      <td>0.597686</td>\n",
              "      <td>0.706335</td>\n",
              "    </tr>\n",
              "    <tr>\n",
              "      <th>2</th>\n",
              "      <td>0.129679</td>\n",
              "      <td>0.107544</td>\n",
              "      <td>0.105217</td>\n",
              "      <td>3.252565</td>\n",
              "      <td>1.090545</td>\n",
              "      <td>2.095699</td>\n",
              "      <td>0.370173</td>\n",
              "      <td>10.462874</td>\n",
              "      <td>7.574888</td>\n",
              "      <td>6.133792</td>\n",
              "      <td>2.822014</td>\n",
              "      <td>9.715474</td>\n",
              "      <td>10.298116</td>\n",
              "      <td>4.816792</td>\n",
              "      <td>5.483437</td>\n",
              "      <td>6.841115</td>\n",
              "      <td>10.733315</td>\n",
              "      <td>4.356014</td>\n",
              "      <td>3.957389</td>\n",
              "      <td>1.313952</td>\n",
              "      <td>6.230529</td>\n",
              "      <td>0.602698</td>\n",
              "      <td>0.854748</td>\n",
              "    </tr>\n",
              "    <tr>\n",
              "      <th>3</th>\n",
              "      <td>0.116662</td>\n",
              "      <td>0.105996</td>\n",
              "      <td>0.103472</td>\n",
              "      <td>3.401498</td>\n",
              "      <td>1.171461</td>\n",
              "      <td>2.103547</td>\n",
              "      <td>0.412287</td>\n",
              "      <td>10.469417</td>\n",
              "      <td>7.474605</td>\n",
              "      <td>6.069143</td>\n",
              "      <td>2.846285</td>\n",
              "      <td>9.805304</td>\n",
              "      <td>10.347694</td>\n",
              "      <td>4.833161</td>\n",
              "      <td>5.573599</td>\n",
              "      <td>6.879981</td>\n",
              "      <td>10.817638</td>\n",
              "      <td>4.367383</td>\n",
              "      <td>3.941348</td>\n",
              "      <td>1.197543</td>\n",
              "      <td>6.175576</td>\n",
              "      <td>0.543607</td>\n",
              "      <td>0.638214</td>\n",
              "    </tr>\n",
              "    <tr>\n",
              "      <th>4</th>\n",
              "      <td>0.150804</td>\n",
              "      <td>0.123865</td>\n",
              "      <td>0.102519</td>\n",
              "      <td>3.239423</td>\n",
              "      <td>1.122442</td>\n",
              "      <td>2.139366</td>\n",
              "      <td>0.405910</td>\n",
              "      <td>10.306411</td>\n",
              "      <td>7.425585</td>\n",
              "      <td>6.255281</td>\n",
              "      <td>2.871297</td>\n",
              "      <td>9.636309</td>\n",
              "      <td>10.172680</td>\n",
              "      <td>4.979009</td>\n",
              "      <td>5.660119</td>\n",
              "      <td>6.796300</td>\n",
              "      <td>10.771386</td>\n",
              "      <td>4.415727</td>\n",
              "      <td>4.008064</td>\n",
              "      <td>1.231850</td>\n",
              "      <td>6.220064</td>\n",
              "      <td>0.584412</td>\n",
              "      <td>0.733545</td>\n",
              "    </tr>\n",
              "  </tbody>\n",
              "</table>\n",
              "</div>"
            ],
            "text/plain": [
              "       C5NP      C5IP       C5N  ...     C10IP      C10N      C10A\n",
              "0  1.190894  0.807816  0.160609  ...  5.198255  0.668779  0.687152\n",
              "1  0.137756  0.116131  0.102770  ...  6.041288  0.597686  0.706335\n",
              "2  0.129679  0.107544  0.105217  ...  6.230529  0.602698  0.854748\n",
              "3  0.116662  0.105996  0.103472  ...  6.175576  0.543607  0.638214\n",
              "4  0.150804  0.123865  0.102519  ...  6.220064  0.584412  0.733545\n",
              "\n",
              "[5 rows x 23 columns]"
            ]
          },
          "metadata": {
            "tags": []
          },
          "execution_count": 7
        }
      ]
    },
    {
      "cell_type": "code",
      "metadata": {
        "id": "FzdS3RGPRu2K",
        "colab_type": "code",
        "outputId": "df94ef98-ccc0-4c06-c8b5-4fc892c65b2e",
        "colab": {
          "base_uri": "https://localhost:8080/",
          "height": 197
        }
      },
      "source": [
        "y_test.head()"
      ],
      "execution_count": 8,
      "outputs": [
        {
          "output_type": "execute_result",
          "data": {
            "text/html": [
              "<div>\n",
              "<style scoped>\n",
              "    .dataframe tbody tr th:only-of-type {\n",
              "        vertical-align: middle;\n",
              "    }\n",
              "\n",
              "    .dataframe tbody tr th {\n",
              "        vertical-align: top;\n",
              "    }\n",
              "\n",
              "    .dataframe thead th {\n",
              "        text-align: right;\n",
              "    }\n",
              "</style>\n",
              "<table border=\"1\" class=\"dataframe\">\n",
              "  <thead>\n",
              "    <tr style=\"text-align: right;\">\n",
              "      <th></th>\n",
              "      <th>C5NP</th>\n",
              "      <th>C5IP</th>\n",
              "      <th>C5N</th>\n",
              "      <th>C6NP</th>\n",
              "      <th>C6IP</th>\n",
              "      <th>C6N</th>\n",
              "      <th>C6A</th>\n",
              "      <th>C7NP</th>\n",
              "      <th>C7IP</th>\n",
              "      <th>C7N</th>\n",
              "      <th>C7A</th>\n",
              "      <th>C8NP</th>\n",
              "      <th>C8IP</th>\n",
              "      <th>C8N</th>\n",
              "      <th>C8A</th>\n",
              "      <th>C9NP</th>\n",
              "      <th>C9IP</th>\n",
              "      <th>C9N</th>\n",
              "      <th>C9A</th>\n",
              "      <th>C10NP</th>\n",
              "      <th>C10IP</th>\n",
              "      <th>C10N</th>\n",
              "      <th>C10A</th>\n",
              "    </tr>\n",
              "  </thead>\n",
              "  <tbody>\n",
              "    <tr>\n",
              "      <th>0</th>\n",
              "      <td>1.142</td>\n",
              "      <td>0.616</td>\n",
              "      <td>0.217</td>\n",
              "      <td>3.745</td>\n",
              "      <td>2.577</td>\n",
              "      <td>4.028</td>\n",
              "      <td>0.557</td>\n",
              "      <td>7.669</td>\n",
              "      <td>5.9900</td>\n",
              "      <td>10.206</td>\n",
              "      <td>3.075</td>\n",
              "      <td>7.920</td>\n",
              "      <td>8.036</td>\n",
              "      <td>7.039</td>\n",
              "      <td>5.438</td>\n",
              "      <td>5.263</td>\n",
              "      <td>9.537</td>\n",
              "      <td>4.877</td>\n",
              "      <td>3.481</td>\n",
              "      <td>1.088</td>\n",
              "      <td>5.652</td>\n",
              "      <td>0.618</td>\n",
              "      <td>0.597</td>\n",
              "    </tr>\n",
              "    <tr>\n",
              "      <th>1</th>\n",
              "      <td>0.122</td>\n",
              "      <td>0.078</td>\n",
              "      <td>0.029</td>\n",
              "      <td>3.955</td>\n",
              "      <td>1.563</td>\n",
              "      <td>2.407</td>\n",
              "      <td>0.400</td>\n",
              "      <td>10.016</td>\n",
              "      <td>7.2633</td>\n",
              "      <td>6.573</td>\n",
              "      <td>2.809</td>\n",
              "      <td>9.544</td>\n",
              "      <td>9.815</td>\n",
              "      <td>5.135</td>\n",
              "      <td>5.482</td>\n",
              "      <td>6.793</td>\n",
              "      <td>10.850</td>\n",
              "      <td>4.308</td>\n",
              "      <td>3.963</td>\n",
              "      <td>1.069</td>\n",
              "      <td>6.025</td>\n",
              "      <td>0.585</td>\n",
              "      <td>0.484</td>\n",
              "    </tr>\n",
              "    <tr>\n",
              "      <th>2</th>\n",
              "      <td>0.098</td>\n",
              "      <td>0.064</td>\n",
              "      <td>0.020</td>\n",
              "      <td>3.920</td>\n",
              "      <td>1.447</td>\n",
              "      <td>2.296</td>\n",
              "      <td>0.396</td>\n",
              "      <td>10.236</td>\n",
              "      <td>7.3480</td>\n",
              "      <td>6.259</td>\n",
              "      <td>2.797</td>\n",
              "      <td>9.655</td>\n",
              "      <td>9.986</td>\n",
              "      <td>4.942</td>\n",
              "      <td>5.453</td>\n",
              "      <td>6.947</td>\n",
              "      <td>10.996</td>\n",
              "      <td>4.269</td>\n",
              "      <td>3.997</td>\n",
              "      <td>1.034</td>\n",
              "      <td>6.107</td>\n",
              "      <td>0.543</td>\n",
              "      <td>0.456</td>\n",
              "    </tr>\n",
              "    <tr>\n",
              "      <th>3</th>\n",
              "      <td>0.122</td>\n",
              "      <td>0.085</td>\n",
              "      <td>0.021</td>\n",
              "      <td>3.900</td>\n",
              "      <td>1.437</td>\n",
              "      <td>2.274</td>\n",
              "      <td>0.397</td>\n",
              "      <td>10.259</td>\n",
              "      <td>7.3560</td>\n",
              "      <td>6.234</td>\n",
              "      <td>2.820</td>\n",
              "      <td>9.670</td>\n",
              "      <td>10.146</td>\n",
              "      <td>4.928</td>\n",
              "      <td>5.476</td>\n",
              "      <td>6.953</td>\n",
              "      <td>11.026</td>\n",
              "      <td>4.264</td>\n",
              "      <td>3.982</td>\n",
              "      <td>1.013</td>\n",
              "      <td>6.054</td>\n",
              "      <td>0.545</td>\n",
              "      <td>0.449</td>\n",
              "    </tr>\n",
              "    <tr>\n",
              "      <th>4</th>\n",
              "      <td>0.072</td>\n",
              "      <td>0.049</td>\n",
              "      <td>0.015</td>\n",
              "      <td>3.873</td>\n",
              "      <td>1.369</td>\n",
              "      <td>2.206</td>\n",
              "      <td>0.489</td>\n",
              "      <td>10.213</td>\n",
              "      <td>7.3190</td>\n",
              "      <td>6.009</td>\n",
              "      <td>2.968</td>\n",
              "      <td>9.564</td>\n",
              "      <td>10.052</td>\n",
              "      <td>4.769</td>\n",
              "      <td>6.584</td>\n",
              "      <td>6.866</td>\n",
              "      <td>10.892</td>\n",
              "      <td>4.169</td>\n",
              "      <td>4.227</td>\n",
              "      <td>0.930</td>\n",
              "      <td>5.828</td>\n",
              "      <td>0.519</td>\n",
              "      <td>0.463</td>\n",
              "    </tr>\n",
              "  </tbody>\n",
              "</table>\n",
              "</div>"
            ],
            "text/plain": [
              "    C5NP   C5IP    C5N   C6NP   C6IP  ...    C9A  C10NP  C10IP   C10N   C10A\n",
              "0  1.142  0.616  0.217  3.745  2.577  ...  3.481  1.088  5.652  0.618  0.597\n",
              "1  0.122  0.078  0.029  3.955  1.563  ...  3.963  1.069  6.025  0.585  0.484\n",
              "2  0.098  0.064  0.020  3.920  1.447  ...  3.997  1.034  6.107  0.543  0.456\n",
              "3  0.122  0.085  0.021  3.900  1.437  ...  3.982  1.013  6.054  0.545  0.449\n",
              "4  0.072  0.049  0.015  3.873  1.369  ...  4.227  0.930  5.828  0.519  0.463\n",
              "\n",
              "[5 rows x 23 columns]"
            ]
          },
          "metadata": {
            "tags": []
          },
          "execution_count": 8
        }
      ]
    },
    {
      "cell_type": "code",
      "metadata": {
        "id": "C2mXQ7lmS-4-",
        "colab_type": "code",
        "colab": {}
      },
      "source": [
        "def mape(a, b):\n",
        "    a = np.array(a)\n",
        "    b = np.array(b)\n",
        "    mask = a != 0\n",
        "    return (np.fabs(a-b)/a)[mask].mean()\n",
        "\n",
        "def metric(y_t,y_p,name):\n",
        "  res = {'R2' : max(r2_score(y_t,y_p), 0),\n",
        "         'RMSE': sqrt(mean_squared_error(y_t,y_p)),\n",
        "         'MAPE': mape(y_t,y_p)}\n",
        "  return pd.DataFrame(res,index=[name])"
      ],
      "execution_count": 0,
      "outputs": []
    },
    {
      "cell_type": "code",
      "metadata": {
        "id": "izY_mipDiAYz",
        "colab_type": "code",
        "colab": {}
      },
      "source": [
        "res = pd.DataFrame()\n",
        "for y_name in y_cols:\n",
        "  res = res.append(metric(y_test[y_name],y_pred[y_name],y_name))\n",
        "res.loc['AVG'] = res.mean()"
      ],
      "execution_count": 0,
      "outputs": []
    },
    {
      "cell_type": "code",
      "metadata": {
        "id": "-MAD6OHriMyM",
        "colab_type": "code",
        "outputId": "4f3f8fbb-6277-48d1-aa6f-a3458abfd82c",
        "colab": {
          "base_uri": "https://localhost:8080/",
          "height": 462
        }
      },
      "source": [
        "res.style.background_gradient()"
      ],
      "execution_count": 11,
      "outputs": [
        {
          "output_type": "execute_result",
          "data": {
            "text/html": [
              "<style  type=\"text/css\" >\n",
              "    #T_d6f3549a_3737_11ea_9be0_0242ac1c0002row0_col0 {\n",
              "            background-color:  #045c90;\n",
              "            color:  #f1f1f1;\n",
              "        }    #T_d6f3549a_3737_11ea_9be0_0242ac1c0002row0_col1 {\n",
              "            background-color:  #8fb4d6;\n",
              "            color:  #000000;\n",
              "        }    #T_d6f3549a_3737_11ea_9be0_0242ac1c0002row0_col2 {\n",
              "            background-color:  #ede7f2;\n",
              "            color:  #000000;\n",
              "        }    #T_d6f3549a_3737_11ea_9be0_0242ac1c0002row1_col0 {\n",
              "            background-color:  #187cb6;\n",
              "            color:  #000000;\n",
              "        }    #T_d6f3549a_3737_11ea_9be0_0242ac1c0002row1_col1 {\n",
              "            background-color:  #adc1dd;\n",
              "            color:  #000000;\n",
              "        }    #T_d6f3549a_3737_11ea_9be0_0242ac1c0002row1_col2 {\n",
              "            background-color:  #cdd0e5;\n",
              "            color:  #000000;\n",
              "        }    #T_d6f3549a_3737_11ea_9be0_0242ac1c0002row2_col0 {\n",
              "            background-color:  #0771b1;\n",
              "            color:  #f1f1f1;\n",
              "        }    #T_d6f3549a_3737_11ea_9be0_0242ac1c0002row2_col1 {\n",
              "            background-color:  #fff7fb;\n",
              "            color:  #000000;\n",
              "        }    #T_d6f3549a_3737_11ea_9be0_0242ac1c0002row2_col2 {\n",
              "            background-color:  #023858;\n",
              "            color:  #f1f1f1;\n",
              "        }    #T_d6f3549a_3737_11ea_9be0_0242ac1c0002row3_col0 {\n",
              "            background-color:  #fff7fb;\n",
              "            color:  #000000;\n",
              "        }    #T_d6f3549a_3737_11ea_9be0_0242ac1c0002row3_col1 {\n",
              "            background-color:  #589ec8;\n",
              "            color:  #000000;\n",
              "        }    #T_d6f3549a_3737_11ea_9be0_0242ac1c0002row3_col2 {\n",
              "            background-color:  #fdf5fa;\n",
              "            color:  #000000;\n",
              "        }    #T_d6f3549a_3737_11ea_9be0_0242ac1c0002row4_col0 {\n",
              "            background-color:  #046198;\n",
              "            color:  #f1f1f1;\n",
              "        }    #T_d6f3549a_3737_11ea_9be0_0242ac1c0002row4_col1 {\n",
              "            background-color:  #3f93c2;\n",
              "            color:  #000000;\n",
              "        }    #T_d6f3549a_3737_11ea_9be0_0242ac1c0002row4_col2 {\n",
              "            background-color:  #faf3f9;\n",
              "            color:  #000000;\n",
              "        }    #T_d6f3549a_3737_11ea_9be0_0242ac1c0002row5_col0 {\n",
              "            background-color:  #045f95;\n",
              "            color:  #f1f1f1;\n",
              "        }    #T_d6f3549a_3737_11ea_9be0_0242ac1c0002row5_col1 {\n",
              "            background-color:  #023858;\n",
              "            color:  #f1f1f1;\n",
              "        }    #T_d6f3549a_3737_11ea_9be0_0242ac1c0002row5_col2 {\n",
              "            background-color:  #fdf5fa;\n",
              "            color:  #000000;\n",
              "        }    #T_d6f3549a_3737_11ea_9be0_0242ac1c0002row6_col0 {\n",
              "            background-color:  #99b8d8;\n",
              "            color:  #000000;\n",
              "        }    #T_d6f3549a_3737_11ea_9be0_0242ac1c0002row6_col1 {\n",
              "            background-color:  #f0eaf4;\n",
              "            color:  #000000;\n",
              "        }    #T_d6f3549a_3737_11ea_9be0_0242ac1c0002row6_col2 {\n",
              "            background-color:  #f5eff6;\n",
              "            color:  #000000;\n",
              "        }    #T_d6f3549a_3737_11ea_9be0_0242ac1c0002row7_col0 {\n",
              "            background-color:  #023b5d;\n",
              "            color:  #f1f1f1;\n",
              "        }    #T_d6f3549a_3737_11ea_9be0_0242ac1c0002row7_col1 {\n",
              "            background-color:  #7eadd1;\n",
              "            color:  #000000;\n",
              "        }    #T_d6f3549a_3737_11ea_9be0_0242ac1c0002row7_col2 {\n",
              "            background-color:  #fff7fb;\n",
              "            color:  #000000;\n",
              "        }    #T_d6f3549a_3737_11ea_9be0_0242ac1c0002row8_col0 {\n",
              "            background-color:  #046097;\n",
              "            color:  #f1f1f1;\n",
              "        }    #T_d6f3549a_3737_11ea_9be0_0242ac1c0002row8_col1 {\n",
              "            background-color:  #308cbe;\n",
              "            color:  #000000;\n",
              "        }    #T_d6f3549a_3737_11ea_9be0_0242ac1c0002row8_col2 {\n",
              "            background-color:  #fef6fa;\n",
              "            color:  #000000;\n",
              "        }    #T_d6f3549a_3737_11ea_9be0_0242ac1c0002row9_col0 {\n",
              "            background-color:  #023b5d;\n",
              "            color:  #f1f1f1;\n",
              "        }    #T_d6f3549a_3737_11ea_9be0_0242ac1c0002row9_col1 {\n",
              "            background-color:  #034165;\n",
              "            color:  #f1f1f1;\n",
              "        }    #T_d6f3549a_3737_11ea_9be0_0242ac1c0002row9_col2 {\n",
              "            background-color:  #fef6fb;\n",
              "            color:  #000000;\n",
              "        }    #T_d6f3549a_3737_11ea_9be0_0242ac1c0002row10_col0 {\n",
              "            background-color:  #3d93c2;\n",
              "            color:  #000000;\n",
              "        }    #T_d6f3549a_3737_11ea_9be0_0242ac1c0002row10_col1 {\n",
              "            background-color:  #a8bedc;\n",
              "            color:  #000000;\n",
              "        }    #T_d6f3549a_3737_11ea_9be0_0242ac1c0002row10_col2 {\n",
              "            background-color:  #fef6fa;\n",
              "            color:  #000000;\n",
              "        }    #T_d6f3549a_3737_11ea_9be0_0242ac1c0002row11_col0 {\n",
              "            background-color:  #023a5b;\n",
              "            color:  #f1f1f1;\n",
              "        }    #T_d6f3549a_3737_11ea_9be0_0242ac1c0002row11_col1 {\n",
              "            background-color:  #bdc8e1;\n",
              "            color:  #000000;\n",
              "        }    #T_d6f3549a_3737_11ea_9be0_0242ac1c0002row11_col2 {\n",
              "            background-color:  #fff7fb;\n",
              "            color:  #000000;\n",
              "        }    #T_d6f3549a_3737_11ea_9be0_0242ac1c0002row12_col0 {\n",
              "            background-color:  #034369;\n",
              "            color:  #f1f1f1;\n",
              "        }    #T_d6f3549a_3737_11ea_9be0_0242ac1c0002row12_col1 {\n",
              "            background-color:  #7eadd1;\n",
              "            color:  #000000;\n",
              "        }    #T_d6f3549a_3737_11ea_9be0_0242ac1c0002row12_col2 {\n",
              "            background-color:  #fff7fb;\n",
              "            color:  #000000;\n",
              "        }    #T_d6f3549a_3737_11ea_9be0_0242ac1c0002row13_col0 {\n",
              "            background-color:  #034f7d;\n",
              "            color:  #f1f1f1;\n",
              "        }    #T_d6f3549a_3737_11ea_9be0_0242ac1c0002row13_col1 {\n",
              "            background-color:  #046096;\n",
              "            color:  #f1f1f1;\n",
              "        }    #T_d6f3549a_3737_11ea_9be0_0242ac1c0002row13_col2 {\n",
              "            background-color:  #fdf5fa;\n",
              "            color:  #000000;\n",
              "        }    #T_d6f3549a_3737_11ea_9be0_0242ac1c0002row14_col0 {\n",
              "            background-color:  #9ab8d8;\n",
              "            color:  #000000;\n",
              "        }    #T_d6f3549a_3737_11ea_9be0_0242ac1c0002row14_col1 {\n",
              "            background-color:  #034b76;\n",
              "            color:  #f1f1f1;\n",
              "        }    #T_d6f3549a_3737_11ea_9be0_0242ac1c0002row14_col2 {\n",
              "            background-color:  #fdf5fa;\n",
              "            color:  #000000;\n",
              "        }    #T_d6f3549a_3737_11ea_9be0_0242ac1c0002row15_col0 {\n",
              "            background-color:  #023858;\n",
              "            color:  #f1f1f1;\n",
              "        }    #T_d6f3549a_3737_11ea_9be0_0242ac1c0002row15_col1 {\n",
              "            background-color:  #e5e1ef;\n",
              "            color:  #000000;\n",
              "        }    #T_d6f3549a_3737_11ea_9be0_0242ac1c0002row15_col2 {\n",
              "            background-color:  #fff7fb;\n",
              "            color:  #000000;\n",
              "        }    #T_d6f3549a_3737_11ea_9be0_0242ac1c0002row16_col0 {\n",
              "            background-color:  #034369;\n",
              "            color:  #f1f1f1;\n",
              "        }    #T_d6f3549a_3737_11ea_9be0_0242ac1c0002row16_col1 {\n",
              "            background-color:  #7eadd1;\n",
              "            color:  #000000;\n",
              "        }    #T_d6f3549a_3737_11ea_9be0_0242ac1c0002row16_col2 {\n",
              "            background-color:  #fff7fb;\n",
              "            color:  #000000;\n",
              "        }    #T_d6f3549a_3737_11ea_9be0_0242ac1c0002row17_col0 {\n",
              "            background-color:  #2c89bd;\n",
              "            color:  #000000;\n",
              "        }    #T_d6f3549a_3737_11ea_9be0_0242ac1c0002row17_col1 {\n",
              "            background-color:  #2081b9;\n",
              "            color:  #000000;\n",
              "        }    #T_d6f3549a_3737_11ea_9be0_0242ac1c0002row17_col2 {\n",
              "            background-color:  #fcf4fa;\n",
              "            color:  #000000;\n",
              "        }    #T_d6f3549a_3737_11ea_9be0_0242ac1c0002row18_col0 {\n",
              "            background-color:  #5ea0ca;\n",
              "            color:  #000000;\n",
              "        }    #T_d6f3549a_3737_11ea_9be0_0242ac1c0002row18_col1 {\n",
              "            background-color:  #529bc7;\n",
              "            color:  #000000;\n",
              "        }    #T_d6f3549a_3737_11ea_9be0_0242ac1c0002row18_col2 {\n",
              "            background-color:  #fbf3f9;\n",
              "            color:  #000000;\n",
              "        }    #T_d6f3549a_3737_11ea_9be0_0242ac1c0002row19_col0 {\n",
              "            background-color:  #99b8d8;\n",
              "            color:  #000000;\n",
              "        }    #T_d6f3549a_3737_11ea_9be0_0242ac1c0002row19_col1 {\n",
              "            background-color:  #e6e2ef;\n",
              "            color:  #000000;\n",
              "        }    #T_d6f3549a_3737_11ea_9be0_0242ac1c0002row19_col2 {\n",
              "            background-color:  #f9f2f8;\n",
              "            color:  #000000;\n",
              "        }    #T_d6f3549a_3737_11ea_9be0_0242ac1c0002row20_col0 {\n",
              "            background-color:  #045b8e;\n",
              "            color:  #f1f1f1;\n",
              "        }    #T_d6f3549a_3737_11ea_9be0_0242ac1c0002row20_col1 {\n",
              "            background-color:  #6ba5cd;\n",
              "            color:  #000000;\n",
              "        }    #T_d6f3549a_3737_11ea_9be0_0242ac1c0002row20_col2 {\n",
              "            background-color:  #fdf5fa;\n",
              "            color:  #000000;\n",
              "        }    #T_d6f3549a_3737_11ea_9be0_0242ac1c0002row21_col0 {\n",
              "            background-color:  #2987bc;\n",
              "            color:  #000000;\n",
              "        }    #T_d6f3549a_3737_11ea_9be0_0242ac1c0002row21_col1 {\n",
              "            background-color:  #fef6fa;\n",
              "            color:  #000000;\n",
              "        }    #T_d6f3549a_3737_11ea_9be0_0242ac1c0002row21_col2 {\n",
              "            background-color:  #fbf4f9;\n",
              "            color:  #000000;\n",
              "        }    #T_d6f3549a_3737_11ea_9be0_0242ac1c0002row22_col0 {\n",
              "            background-color:  #dddbec;\n",
              "            color:  #000000;\n",
              "        }    #T_d6f3549a_3737_11ea_9be0_0242ac1c0002row22_col1 {\n",
              "            background-color:  #d4d4e8;\n",
              "            color:  #000000;\n",
              "        }    #T_d6f3549a_3737_11ea_9be0_0242ac1c0002row22_col2 {\n",
              "            background-color:  #f2ecf5;\n",
              "            color:  #000000;\n",
              "        }    #T_d6f3549a_3737_11ea_9be0_0242ac1c0002row23_col0 {\n",
              "            background-color:  #1379b5;\n",
              "            color:  #f1f1f1;\n",
              "        }    #T_d6f3549a_3737_11ea_9be0_0242ac1c0002row23_col1 {\n",
              "            background-color:  #80aed2;\n",
              "            color:  #000000;\n",
              "        }    #T_d6f3549a_3737_11ea_9be0_0242ac1c0002row23_col2 {\n",
              "            background-color:  #f4edf6;\n",
              "            color:  #000000;\n",
              "        }</style><table id=\"T_d6f3549a_3737_11ea_9be0_0242ac1c0002\" ><thead>    <tr>        <th class=\"blank level0\" ></th>        <th class=\"col_heading level0 col0\" >R2</th>        <th class=\"col_heading level0 col1\" >RMSE</th>        <th class=\"col_heading level0 col2\" >MAPE</th>    </tr></thead><tbody>\n",
              "                <tr>\n",
              "                        <th id=\"T_d6f3549a_3737_11ea_9be0_0242ac1c0002level0_row0\" class=\"row_heading level0 row0\" >C5NP</th>\n",
              "                        <td id=\"T_d6f3549a_3737_11ea_9be0_0242ac1c0002row0_col0\" class=\"data row0 col0\" >0.885182</td>\n",
              "                        <td id=\"T_d6f3549a_3737_11ea_9be0_0242ac1c0002row0_col1\" class=\"data row0 col1\" >0.289574</td>\n",
              "                        <td id=\"T_d6f3549a_3737_11ea_9be0_0242ac1c0002row0_col2\" class=\"data row0 col2\" >0.293926</td>\n",
              "            </tr>\n",
              "            <tr>\n",
              "                        <th id=\"T_d6f3549a_3737_11ea_9be0_0242ac1c0002level0_row1\" class=\"row_heading level0 row1\" >C5IP</th>\n",
              "                        <td id=\"T_d6f3549a_3737_11ea_9be0_0242ac1c0002row1_col0\" class=\"data row1 col0\" >0.76416</td>\n",
              "                        <td id=\"T_d6f3549a_3737_11ea_9be0_0242ac1c0002row1_col1\" class=\"data row1 col1\" >0.248511</td>\n",
              "                        <td id=\"T_d6f3549a_3737_11ea_9be0_0242ac1c0002row1_col2\" class=\"data row1 col2\" >0.591246</td>\n",
              "            </tr>\n",
              "            <tr>\n",
              "                        <th id=\"T_d6f3549a_3737_11ea_9be0_0242ac1c0002level0_row2\" class=\"row_heading level0 row2\" >C5N</th>\n",
              "                        <td id=\"T_d6f3549a_3737_11ea_9be0_0242ac1c0002row2_col0\" class=\"data row2 col0\" >0.795032</td>\n",
              "                        <td id=\"T_d6f3549a_3737_11ea_9be0_0242ac1c0002row2_col1\" class=\"data row2 col1\" >0.0619779</td>\n",
              "                        <td id=\"T_d6f3549a_3737_11ea_9be0_0242ac1c0002row2_col2\" class=\"data row2 col2\" >2.2044</td>\n",
              "            </tr>\n",
              "            <tr>\n",
              "                        <th id=\"T_d6f3549a_3737_11ea_9be0_0242ac1c0002level0_row3\" class=\"row_heading level0 row3\" >C6NP</th>\n",
              "                        <td id=\"T_d6f3549a_3737_11ea_9be0_0242ac1c0002row3_col0\" class=\"data row3 col0\" >0.228689</td>\n",
              "                        <td id=\"T_d6f3549a_3737_11ea_9be0_0242ac1c0002row3_col1\" class=\"data row3 col1\" >0.355317</td>\n",
              "                        <td id=\"T_d6f3549a_3737_11ea_9be0_0242ac1c0002row3_col2\" class=\"data row3 col2\" >0.0655586</td>\n",
              "            </tr>\n",
              "            <tr>\n",
              "                        <th id=\"T_d6f3549a_3737_11ea_9be0_0242ac1c0002level0_row4\" class=\"row_heading level0 row4\" >C6IP</th>\n",
              "                        <td id=\"T_d6f3549a_3737_11ea_9be0_0242ac1c0002row4_col0\" class=\"data row4 col0\" >0.8659</td>\n",
              "                        <td id=\"T_d6f3549a_3737_11ea_9be0_0242ac1c0002row4_col1\" class=\"data row4 col1\" >0.382771</td>\n",
              "                        <td id=\"T_d6f3549a_3737_11ea_9be0_0242ac1c0002row4_col2\" class=\"data row4 col2\" >0.097805</td>\n",
              "            </tr>\n",
              "            <tr>\n",
              "                        <th id=\"T_d6f3549a_3737_11ea_9be0_0242ac1c0002level0_row5\" class=\"row_heading level0 row5\" >C6N</th>\n",
              "                        <td id=\"T_d6f3549a_3737_11ea_9be0_0242ac1c0002row5_col0\" class=\"data row5 col0\" >0.872946</td>\n",
              "                        <td id=\"T_d6f3549a_3737_11ea_9be0_0242ac1c0002row5_col1\" class=\"data row5 col1\" >0.590288</td>\n",
              "                        <td id=\"T_d6f3549a_3737_11ea_9be0_0242ac1c0002row5_col2\" class=\"data row5 col2\" >0.0545211</td>\n",
              "            </tr>\n",
              "            <tr>\n",
              "                        <th id=\"T_d6f3549a_3737_11ea_9be0_0242ac1c0002level0_row6\" class=\"row_heading level0 row6\" >C6A</th>\n",
              "                        <td id=\"T_d6f3549a_3737_11ea_9be0_0242ac1c0002row6_col0\" class=\"data row6 col0\" >0.541011</td>\n",
              "                        <td id=\"T_d6f3549a_3737_11ea_9be0_0242ac1c0002row6_col1\" class=\"data row6 col1\" >0.115748</td>\n",
              "                        <td id=\"T_d6f3549a_3737_11ea_9be0_0242ac1c0002row6_col2\" class=\"data row6 col2\" >0.165315</td>\n",
              "            </tr>\n",
              "            <tr>\n",
              "                        <th id=\"T_d6f3549a_3737_11ea_9be0_0242ac1c0002level0_row7\" class=\"row_heading level0 row7\" >C7NP</th>\n",
              "                        <td id=\"T_d6f3549a_3737_11ea_9be0_0242ac1c0002row7_col0\" class=\"data row7 col0\" >0.97984</td>\n",
              "                        <td id=\"T_d6f3549a_3737_11ea_9be0_0242ac1c0002row7_col1\" class=\"data row7 col1\" >0.312267</td>\n",
              "                        <td id=\"T_d6f3549a_3737_11ea_9be0_0242ac1c0002row7_col2\" class=\"data row7 col2\" >0.0331917</td>\n",
              "            </tr>\n",
              "            <tr>\n",
              "                        <th id=\"T_d6f3549a_3737_11ea_9be0_0242ac1c0002level0_row8\" class=\"row_heading level0 row8\" >C7IP</th>\n",
              "                        <td id=\"T_d6f3549a_3737_11ea_9be0_0242ac1c0002row8_col0\" class=\"data row8 col0\" >0.868863</td>\n",
              "                        <td id=\"T_d6f3549a_3737_11ea_9be0_0242ac1c0002row8_col1\" class=\"data row8 col1\" >0.400153</td>\n",
              "                        <td id=\"T_d6f3549a_3737_11ea_9be0_0242ac1c0002row8_col2\" class=\"data row8 col2\" >0.0480721</td>\n",
              "            </tr>\n",
              "            <tr>\n",
              "                        <th id=\"T_d6f3549a_3737_11ea_9be0_0242ac1c0002level0_row9\" class=\"row_heading level0 row9\" >C7N</th>\n",
              "                        <td id=\"T_d6f3549a_3737_11ea_9be0_0242ac1c0002row9_col0\" class=\"data row9 col0\" >0.981117</td>\n",
              "                        <td id=\"T_d6f3549a_3737_11ea_9be0_0242ac1c0002row9_col1\" class=\"data row9 col1\" >0.57266</td>\n",
              "                        <td id=\"T_d6f3549a_3737_11ea_9be0_0242ac1c0002row9_col2\" class=\"data row9 col2\" >0.0366661</td>\n",
              "            </tr>\n",
              "            <tr>\n",
              "                        <th id=\"T_d6f3549a_3737_11ea_9be0_0242ac1c0002level0_row10\" class=\"row_heading level0 row10\" >C7A</th>\n",
              "                        <td id=\"T_d6f3549a_3737_11ea_9be0_0242ac1c0002row10_col0\" class=\"data row10 col0\" >0.69638</td>\n",
              "                        <td id=\"T_d6f3549a_3737_11ea_9be0_0242ac1c0002row10_col1\" class=\"data row10 col1\" >0.256067</td>\n",
              "                        <td id=\"T_d6f3549a_3737_11ea_9be0_0242ac1c0002row10_col2\" class=\"data row10 col2\" >0.0443848</td>\n",
              "            </tr>\n",
              "            <tr>\n",
              "                        <th id=\"T_d6f3549a_3737_11ea_9be0_0242ac1c0002level0_row11\" class=\"row_heading level0 row11\" >C8NP</th>\n",
              "                        <td id=\"T_d6f3549a_3737_11ea_9be0_0242ac1c0002row11_col0\" class=\"data row11 col0\" >0.983302</td>\n",
              "                        <td id=\"T_d6f3549a_3737_11ea_9be0_0242ac1c0002row11_col1\" class=\"data row11 col1\" >0.223325</td>\n",
              "                        <td id=\"T_d6f3549a_3737_11ea_9be0_0242ac1c0002row11_col2\" class=\"data row11 col2\" >0.0254464</td>\n",
              "            </tr>\n",
              "            <tr>\n",
              "                        <th id=\"T_d6f3549a_3737_11ea_9be0_0242ac1c0002level0_row12\" class=\"row_heading level0 row12\" >C8IP</th>\n",
              "                        <td id=\"T_d6f3549a_3737_11ea_9be0_0242ac1c0002row12_col0\" class=\"data row12 col0\" >0.959693</td>\n",
              "                        <td id=\"T_d6f3549a_3737_11ea_9be0_0242ac1c0002row12_col1\" class=\"data row12 col1\" >0.313463</td>\n",
              "                        <td id=\"T_d6f3549a_3737_11ea_9be0_0242ac1c0002row12_col2\" class=\"data row12 col2\" >0.0262847</td>\n",
              "            </tr>\n",
              "            <tr>\n",
              "                        <th id=\"T_d6f3549a_3737_11ea_9be0_0242ac1c0002level0_row13\" class=\"row_heading level0 row13\" >C8N</th>\n",
              "                        <td id=\"T_d6f3549a_3737_11ea_9be0_0242ac1c0002row13_col0\" class=\"data row13 col0\" >0.923112</td>\n",
              "                        <td id=\"T_d6f3549a_3737_11ea_9be0_0242ac1c0002row13_col1\" class=\"data row13 col1\" >0.506008</td>\n",
              "                        <td id=\"T_d6f3549a_3737_11ea_9be0_0242ac1c0002row13_col2\" class=\"data row13 col2\" >0.0510805</td>\n",
              "            </tr>\n",
              "            <tr>\n",
              "                        <th id=\"T_d6f3549a_3737_11ea_9be0_0242ac1c0002level0_row14\" class=\"row_heading level0 row14\" >C8A</th>\n",
              "                        <td id=\"T_d6f3549a_3737_11ea_9be0_0242ac1c0002row14_col0\" class=\"data row14 col0\" >0.537209</td>\n",
              "                        <td id=\"T_d6f3549a_3737_11ea_9be0_0242ac1c0002row14_col1\" class=\"data row14 col1\" >0.552983</td>\n",
              "                        <td id=\"T_d6f3549a_3737_11ea_9be0_0242ac1c0002row14_col2\" class=\"data row14 col2\" >0.0514321</td>\n",
              "            </tr>\n",
              "            <tr>\n",
              "                        <th id=\"T_d6f3549a_3737_11ea_9be0_0242ac1c0002level0_row15\" class=\"row_heading level0 row15\" >C9NP</th>\n",
              "                        <td id=\"T_d6f3549a_3737_11ea_9be0_0242ac1c0002row15_col0\" class=\"data row15 col0\" >0.991659</td>\n",
              "                        <td id=\"T_d6f3549a_3737_11ea_9be0_0242ac1c0002row15_col1\" class=\"data row15 col1\" >0.146001</td>\n",
              "                        <td id=\"T_d6f3549a_3737_11ea_9be0_0242ac1c0002row15_col2\" class=\"data row15 col2\" >0.0261929</td>\n",
              "            </tr>\n",
              "            <tr>\n",
              "                        <th id=\"T_d6f3549a_3737_11ea_9be0_0242ac1c0002level0_row16\" class=\"row_heading level0 row16\" >C9IP</th>\n",
              "                        <td id=\"T_d6f3549a_3737_11ea_9be0_0242ac1c0002row16_col0\" class=\"data row16 col0\" >0.960652</td>\n",
              "                        <td id=\"T_d6f3549a_3737_11ea_9be0_0242ac1c0002row16_col1\" class=\"data row16 col1\" >0.313715</td>\n",
              "                        <td id=\"T_d6f3549a_3737_11ea_9be0_0242ac1c0002row16_col2\" class=\"data row16 col2\" >0.0297033</td>\n",
              "            </tr>\n",
              "            <tr>\n",
              "                        <th id=\"T_d6f3549a_3737_11ea_9be0_0242ac1c0002level0_row17\" class=\"row_heading level0 row17\" >C9N</th>\n",
              "                        <td id=\"T_d6f3549a_3737_11ea_9be0_0242ac1c0002row17_col0\" class=\"data row17 col0\" >0.725522</td>\n",
              "                        <td id=\"T_d6f3549a_3737_11ea_9be0_0242ac1c0002row17_col1\" class=\"data row17 col1\" >0.423072</td>\n",
              "                        <td id=\"T_d6f3549a_3737_11ea_9be0_0242ac1c0002row17_col2\" class=\"data row17 col2\" >0.0682267</td>\n",
              "            </tr>\n",
              "            <tr>\n",
              "                        <th id=\"T_d6f3549a_3737_11ea_9be0_0242ac1c0002level0_row18\" class=\"row_heading level0 row18\" >C9A</th>\n",
              "                        <td id=\"T_d6f3549a_3737_11ea_9be0_0242ac1c0002row18_col0\" class=\"data row18 col0\" >0.643861</td>\n",
              "                        <td id=\"T_d6f3549a_3737_11ea_9be0_0242ac1c0002row18_col1\" class=\"data row18 col1\" >0.361619</td>\n",
              "                        <td id=\"T_d6f3549a_3737_11ea_9be0_0242ac1c0002row18_col2\" class=\"data row18 col2\" >0.0907719</td>\n",
              "            </tr>\n",
              "            <tr>\n",
              "                        <th id=\"T_d6f3549a_3737_11ea_9be0_0242ac1c0002level0_row19\" class=\"row_heading level0 row19\" >C10NP</th>\n",
              "                        <td id=\"T_d6f3549a_3737_11ea_9be0_0242ac1c0002row19_col0\" class=\"data row19 col0\" >0.540284</td>\n",
              "                        <td id=\"T_d6f3549a_3737_11ea_9be0_0242ac1c0002row19_col1\" class=\"data row19 col1\" >0.143344</td>\n",
              "                        <td id=\"T_d6f3549a_3737_11ea_9be0_0242ac1c0002row19_col2\" class=\"data row19 col2\" >0.114329</td>\n",
              "            </tr>\n",
              "            <tr>\n",
              "                        <th id=\"T_d6f3549a_3737_11ea_9be0_0242ac1c0002level0_row20\" class=\"row_heading level0 row20\" >C10IP</th>\n",
              "                        <td id=\"T_d6f3549a_3737_11ea_9be0_0242ac1c0002row20_col0\" class=\"data row20 col0\" >0.891859</td>\n",
              "                        <td id=\"T_d6f3549a_3737_11ea_9be0_0242ac1c0002row20_col1\" class=\"data row20 col1\" >0.335988</td>\n",
              "                        <td id=\"T_d6f3549a_3737_11ea_9be0_0242ac1c0002row20_col2\" class=\"data row20 col2\" >0.0562206</td>\n",
              "            </tr>\n",
              "            <tr>\n",
              "                        <th id=\"T_d6f3549a_3737_11ea_9be0_0242ac1c0002level0_row21\" class=\"row_heading level0 row21\" >C10N</th>\n",
              "                        <td id=\"T_d6f3549a_3737_11ea_9be0_0242ac1c0002row21_col0\" class=\"data row21 col0\" >0.730286</td>\n",
              "                        <td id=\"T_d6f3549a_3737_11ea_9be0_0242ac1c0002row21_col1\" class=\"data row21 col1\" >0.067811</td>\n",
              "                        <td id=\"T_d6f3549a_3737_11ea_9be0_0242ac1c0002row21_col2\" class=\"data row21 col2\" >0.076878</td>\n",
              "            </tr>\n",
              "            <tr>\n",
              "                        <th id=\"T_d6f3549a_3737_11ea_9be0_0242ac1c0002level0_row22\" class=\"row_heading level0 row22\" >C10A</th>\n",
              "                        <td id=\"T_d6f3549a_3737_11ea_9be0_0242ac1c0002row22_col0\" class=\"data row22 col0\" >0.374885</td>\n",
              "                        <td id=\"T_d6f3549a_3737_11ea_9be0_0242ac1c0002row22_col1\" class=\"data row22 col1\" >0.184286</td>\n",
              "                        <td id=\"T_d6f3549a_3737_11ea_9be0_0242ac1c0002row22_col2\" class=\"data row22 col2\" >0.204756</td>\n",
              "            </tr>\n",
              "            <tr>\n",
              "                        <th id=\"T_d6f3549a_3737_11ea_9be0_0242ac1c0002level0_row23\" class=\"row_heading level0 row23\" >AVG</th>\n",
              "                        <td id=\"T_d6f3549a_3737_11ea_9be0_0242ac1c0002row23_col0\" class=\"data row23 col0\" >0.771367</td>\n",
              "                        <td id=\"T_d6f3549a_3737_11ea_9be0_0242ac1c0002row23_col1\" class=\"data row23 col1\" >0.311172</td>\n",
              "                        <td id=\"T_d6f3549a_3737_11ea_9be0_0242ac1c0002row23_col2\" class=\"data row23 col2\" >0.193757</td>\n",
              "            </tr>\n",
              "    </tbody></table>"
            ],
            "text/plain": [
              "<pandas.io.formats.style.Styler at 0x7fd29676bb70>"
            ]
          },
          "metadata": {
            "tags": []
          },
          "execution_count": 11
        }
      ]
    },
    {
      "cell_type": "markdown",
      "metadata": {
        "id": "9nnhaAMqlK93",
        "colab_type": "text"
      },
      "source": [
        "# check 是否 pass"
      ]
    },
    {
      "cell_type": "code",
      "metadata": {
        "id": "y1xDgfO1kCEU",
        "colab_type": "code",
        "outputId": "154e9072-9c3d-4f7c-bc35-b0c0bc09db24",
        "colab": {
          "base_uri": "https://localhost:8080/",
          "height": 34
        }
      },
      "source": [
        "c1 = (len(res.loc[res.RMSE > 0.6]) == 0)\n",
        "c2 = (res.loc['AVG','RMSE'] < 0.4)\n",
        "print(c1,c2)"
      ],
      "execution_count": 12,
      "outputs": [
        {
          "output_type": "stream",
          "text": [
            "True True\n"
          ],
          "name": "stdout"
        }
      ]
    },
    {
      "cell_type": "markdown",
      "metadata": {
        "id": "3XSgx29-lpd9",
        "colab_type": "text"
      },
      "source": [
        "# model save"
      ]
    },
    {
      "cell_type": "code",
      "metadata": {
        "id": "7FAhigs8lI-e",
        "colab_type": "code",
        "outputId": "73c91bb4-e378-45b0-9a51-59e922b95597",
        "colab": {
          "base_uri": "https://localhost:8080/",
          "height": 34
        }
      },
      "source": [
        "# save\n",
        "joblib.dump(model,'./model.pkl')"
      ],
      "execution_count": 13,
      "outputs": [
        {
          "output_type": "execute_result",
          "data": {
            "text/plain": [
              "['./model.pkl']"
            ]
          },
          "metadata": {
            "tags": []
          },
          "execution_count": 13
        }
      ]
    },
    {
      "cell_type": "markdown",
      "metadata": {
        "id": "gw-zQ-18n8CD",
        "colab_type": "text"
      },
      "source": [
        "# load test"
      ]
    },
    {
      "cell_type": "code",
      "metadata": {
        "id": "Q51-a_hun8KG",
        "colab_type": "code",
        "colab": {
          "base_uri": "https://localhost:8080/",
          "height": 247
        },
        "outputId": "05d75d1e-d0ba-415b-987d-2d55179146ef"
      },
      "source": [
        "# load model\n",
        "model = joblib.load('./model.pkl')\n",
        "# test model\n",
        "model.predict(X_test[x_cols])"
      ],
      "execution_count": 14,
      "outputs": [
        {
          "output_type": "execute_result",
          "data": {
            "text/plain": [
              "array([[1.19089374, 0.80781575, 0.16060874, ..., 5.19825515, 0.6687794 ,\n",
              "        0.68715213],\n",
              "       [0.13775569, 0.11613079, 0.10277013, ..., 6.04128793, 0.59768592,\n",
              "        0.70633545],\n",
              "       [0.12967913, 0.10754423, 0.10521666, ..., 6.23052881, 0.60269835,\n",
              "        0.85474845],\n",
              "       ...,\n",
              "       [1.73123289, 1.16509463, 0.26043196, ..., 3.89120549, 0.66085972,\n",
              "        0.40713957],\n",
              "       [2.31580927, 1.4248675 , 0.28669868, ..., 4.31430155, 0.82655967,\n",
              "        0.91568729],\n",
              "       [2.46631474, 1.54040579, 0.32089535, ..., 3.68044176, 0.80706638,\n",
              "        0.8235722 ]])"
            ]
          },
          "metadata": {
            "tags": []
          },
          "execution_count": 14
        }
      ]
    },
    {
      "cell_type": "code",
      "metadata": {
        "id": "yHqV4PampISd",
        "colab_type": "code",
        "colab": {}
      },
      "source": [
        ""
      ],
      "execution_count": 0,
      "outputs": []
    }
  ]
}
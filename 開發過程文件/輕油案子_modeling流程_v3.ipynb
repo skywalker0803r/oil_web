{
  "nbformat": 4,
  "nbformat_minor": 0,
  "metadata": {
    "colab": {
      "name": "輕油案子_交叉驗證_選模.ipynb",
      "provenance": [],
      "collapsed_sections": [],
      "include_colab_link": true
    },
    "kernelspec": {
      "name": "python3",
      "display_name": "Python 3"
    },
    "accelerator": "GPU"
  },
  "cells": [
    {
      "cell_type": "markdown",
      "metadata": {
        "id": "view-in-github",
        "colab_type": "text"
      },
      "source": [
        "<a href=\"https://colab.research.google.com/github/skywalker0803r/oil_web/blob/master/%E8%BC%95%E6%B2%B9%E6%A1%88%E5%AD%90_modeling%E6%B5%81%E7%A8%8B_v3.ipynb\" target=\"_parent\"><img src=\"https://colab.research.google.com/assets/colab-badge.svg\" alt=\"Open In Colab\"/></a>"
      ]
    },
    {
      "cell_type": "code",
      "metadata": {
        "id": "nHozv94dryCb",
        "colab_type": "code",
        "outputId": "3eee9184-1ba9-4b54-b818-09eea5130d1e",
        "colab": {
          "base_uri": "https://localhost:8080/",
          "height": 36
        }
      },
      "source": [
        "#!pip install catboost\n",
        "from google.colab import drive\n",
        "drive.mount('/content/drive')\n",
        "from sklearn.multioutput import MultiOutputRegressor\n",
        "import pandas as pd\n",
        "from sklearn.model_selection import train_test_split\n",
        "import numpy as np\n",
        "import warnings;warnings.simplefilter('ignore')\n",
        "from sklearn.ensemble import RandomForestRegressor\n",
        "from sklearn.svm import SVR\n",
        "from sklearn.neural_network import MLPRegressor\n",
        "from sklearn.model_selection import cross_validate\n",
        "from sklearn.linear_model import BayesianRidge, LinearRegression,Lasso,Ridge\n",
        "from xgboost import XGBRegressor\n",
        "from catboost import CatBoostRegressor\n",
        "from lightgbm import LGBMRegressor\n",
        "from sklearn.preprocessing import StandardScaler\n",
        "from sklearn.metrics import r2_score,mean_squared_error,mean_absolute_error,max_error,make_scorer\n",
        "from math import sqrt\n",
        "from sklearn.manifold import isomap\n",
        "from numpy import sqrt\n",
        "import plotly.express as px\n",
        "import plotly\n",
        "import matplotlib.pyplot as plt\n",
        "import seaborn as sns\n",
        "from mlxtend.regressor import StackingCVRegressor\n",
        "from sklearn.linear_model import Lasso\n",
        "from sklearn.feature_selection import SelectFromModel\n",
        "from sklearn.pipeline import Pipeline\n",
        "from sklearn.decomposition import PCA\n",
        "from sklearn.mixture import GaussianMixture"
      ],
      "execution_count": 1,
      "outputs": [
        {
          "output_type": "stream",
          "text": [
            "Drive already mounted at /content/drive; to attempt to forcibly remount, call drive.mount(\"/content/drive\", force_remount=True).\n"
          ],
          "name": "stdout"
        }
      ]
    },
    {
      "cell_type": "markdown",
      "metadata": {
        "id": "b3Hu0GOruzAy",
        "colab_type": "text"
      },
      "source": [
        "# some function"
      ]
    },
    {
      "cell_type": "code",
      "metadata": {
        "id": "4zGiVpXYtnP4",
        "colab_type": "code",
        "colab": {}
      },
      "source": [
        "def mape(a, b):\n",
        "    a = np.array(a)\n",
        "    b = np.array(b)\n",
        "    mask = a != 0\n",
        "    return (np.fabs(a-b)/a)[mask].mean()\n",
        "\n",
        "def metric(y_t,y_p,name):\n",
        "  res = {'R2' : max(r2_score(y_t,y_p), 0),\n",
        "         'RMSE': sqrt(mean_squared_error(y_t,y_p)),\n",
        "         'MAPE': mape(y_t,y_p)}\n",
        "  return pd.DataFrame(res,index=[name])"
      ],
      "execution_count": 0,
      "outputs": []
    },
    {
      "cell_type": "markdown",
      "metadata": {
        "id": "OMYvLpGxtxts",
        "colab_type": "text"
      },
      "source": [
        "# load data"
      ]
    },
    {
      "cell_type": "code",
      "metadata": {
        "id": "yL-N58Lkr6VK",
        "colab_type": "code",
        "outputId": "6cb5bbe6-9684-40ab-dd7e-f235abc6d83d",
        "colab": {
          "base_uri": "https://localhost:8080/",
          "height": 55
        }
      },
      "source": [
        "data = pd.read_csv('/content/drive/My Drive/台塑輕油案子/data/test_250.csv',index_col=0)\n",
        "train = data.loc[data.index %5 != 0]\n",
        "test = data.loc[data.index %5 == 0]\n",
        "test = test.drop(95,axis=0)\n",
        "print(train.shape)\n",
        "print(test.shape)"
      ],
      "execution_count": 3,
      "outputs": [
        {
          "output_type": "stream",
          "text": [
            "(200, 27)\n",
            "(49, 27)\n"
          ],
          "name": "stdout"
        }
      ]
    },
    {
      "cell_type": "markdown",
      "metadata": {
        "id": "9aaTV87PYJlt",
        "colab_type": "text"
      },
      "source": [
        "# select N+A >= 36"
      ]
    },
    {
      "cell_type": "code",
      "metadata": {
        "id": "2G6fKoJXYJvd",
        "colab_type": "code",
        "outputId": "0f8994a4-a54a-4dfe-91a2-756717dc2f0f",
        "colab": {
          "base_uri": "https://localhost:8080/",
          "height": 55
        }
      },
      "source": [
        "def select_NaddA(df):\n",
        "  condition=(df['N+A']>=36)\n",
        "  return df.loc[condition]\n",
        "train = select_NaddA(train)\n",
        "test = select_NaddA(test)\n",
        "print(train.shape)\n",
        "print(test.shape)"
      ],
      "execution_count": 4,
      "outputs": [
        {
          "output_type": "stream",
          "text": [
            "(182, 27)\n",
            "(43, 27)\n"
          ],
          "name": "stdout"
        }
      ]
    },
    {
      "cell_type": "markdown",
      "metadata": {
        "id": "xYpSRh192hDr",
        "colab_type": "text"
      },
      "source": [
        "# 定義欄位"
      ]
    },
    {
      "cell_type": "code",
      "metadata": {
        "id": "GjQqWiqz2hL_",
        "colab_type": "code",
        "colab": {}
      },
      "source": [
        "features = ['T10','T50','T90','N+A']\n",
        "y_columns = ['C5NP', 'C5IP', 'C5N', \n",
        "             'C6NP', 'C6IP', 'C6N', 'C6A', \n",
        "             'C7NP', 'C7IP', 'C7N', 'C7A', \n",
        "             'C8NP', 'C8IP', 'C8N', 'C8A', \n",
        "             'C9NP', 'C9IP', 'C9N', 'C9A', \n",
        "             'C10NP', 'C10IP', 'C10N', 'C10A']"
      ],
      "execution_count": 0,
      "outputs": []
    },
    {
      "cell_type": "code",
      "metadata": {
        "id": "8Irv8IoE2lql",
        "colab_type": "code",
        "outputId": "5ba495fd-5e9e-4e13-a130-a2935a62654f",
        "colab": {
          "base_uri": "https://localhost:8080/",
          "height": 55
        }
      },
      "source": [
        "train = train[features+y_columns]\n",
        "test = test[features+y_columns]\n",
        "print(train.shape)\n",
        "print(test.shape)"
      ],
      "execution_count": 6,
      "outputs": [
        {
          "output_type": "stream",
          "text": [
            "(182, 27)\n",
            "(43, 27)\n"
          ],
          "name": "stdout"
        }
      ]
    },
    {
      "cell_type": "markdown",
      "metadata": {
        "id": "jdadY7XY2CH3",
        "colab_type": "text"
      },
      "source": [
        "# gau"
      ]
    },
    {
      "cell_type": "code",
      "metadata": {
        "id": "73e3_6dw2CV5",
        "colab_type": "code",
        "outputId": "fb25f9d4-af06-4ed8-8abb-9206246eaa78",
        "colab": {
          "base_uri": "https://localhost:8080/",
          "height": 94
        }
      },
      "source": [
        "full = train.append(test)\n",
        "gau = GaussianMixture(n_components=3)\n",
        "gau.fit(full)\n",
        "full['gau'] = gau.predict(full)\n",
        "train = full[:200]\n",
        "test = full[200:]\n",
        "print(full.gau.value_counts())"
      ],
      "execution_count": 7,
      "outputs": [
        {
          "output_type": "stream",
          "text": [
            "1    127\n",
            "0     64\n",
            "2     34\n",
            "Name: gau, dtype: int64\n"
          ],
          "name": "stdout"
        }
      ]
    },
    {
      "cell_type": "markdown",
      "metadata": {
        "id": "VSIAqhjUSmpa",
        "colab_type": "text"
      },
      "source": [
        "# 定義x,y"
      ]
    },
    {
      "cell_type": "code",
      "metadata": {
        "id": "6SGE09AzSmyN",
        "colab_type": "code",
        "colab": {}
      },
      "source": [
        "features.append('gau')\n",
        "X_train = train[features]\n",
        "X_test = test[features]\n",
        "y_train = train[y_columns]\n",
        "y_test = test[y_columns]"
      ],
      "execution_count": 0,
      "outputs": []
    },
    {
      "cell_type": "markdown",
      "metadata": {
        "id": "ditYKrHJ_HAX",
        "colab_type": "text"
      },
      "source": [
        "# 特徵縮放"
      ]
    },
    {
      "cell_type": "code",
      "metadata": {
        "id": "8QwMB6lJ_HIv",
        "colab_type": "code",
        "colab": {}
      },
      "source": [
        "#scaler_x = StandardScaler()\n",
        "#X_train[:] = scaler_x.fit_transform(X_train[:])\n",
        "#X_test[:] = scaler_x.transform(X_test[:])"
      ],
      "execution_count": 0,
      "outputs": []
    },
    {
      "cell_type": "markdown",
      "metadata": {
        "id": "TPZAaNaY3PHG",
        "colab_type": "text"
      },
      "source": [
        "# 降維萃取特徵"
      ]
    },
    {
      "cell_type": "code",
      "metadata": {
        "id": "f2jI_zhe3PQk",
        "colab_type": "code",
        "colab": {}
      },
      "source": [
        "#for i,t in zip(['iso1','iso2','iso3'],['T10','T50','T90']):\n",
        "#  iso = isomap.Isomap(n_components=1)\n",
        "#  X_train[i] = iso.fit_transform(X_train[[t,'N+A']]) \n",
        "#  X_test[i] = iso.transform(X_test[[t,'N+A']]) "
      ],
      "execution_count": 0,
      "outputs": []
    },
    {
      "cell_type": "markdown",
      "metadata": {
        "id": "8yCOYyDkRknM",
        "colab_type": "text"
      },
      "source": [
        "# 產生溫差特徵"
      ]
    },
    {
      "cell_type": "code",
      "metadata": {
        "id": "5fb5oIQGRku4",
        "colab_type": "code",
        "colab": {}
      },
      "source": [
        "for df in [X_train,X_test]:\n",
        "  df['T90-T50'] = df['T90']-df['T50']\n",
        "  df['T50-T10'] = df['T50']-df['T10']\n",
        "  df['T90-T10'] = df['T90']-df['T10']"
      ],
      "execution_count": 0,
      "outputs": []
    },
    {
      "cell_type": "markdown",
      "metadata": {
        "id": "65YRKP6TU0iW",
        "colab_type": "text"
      },
      "source": [
        "# 平方特徵"
      ]
    },
    {
      "cell_type": "code",
      "metadata": {
        "id": "wixGRVswT35x",
        "colab_type": "code",
        "colab": {}
      },
      "source": [
        "#for df in [X_train,X_test]:\n",
        "#  df['T10_s2'] = df['T10']**2\n",
        "#  df['T50_s2'] = df['T50']**2\n",
        "#  df['T90_s2'] = df['T90']**2\n",
        "#  df['N+A_s2'] = df['N+A']**2"
      ],
      "execution_count": 0,
      "outputs": []
    },
    {
      "cell_type": "markdown",
      "metadata": {
        "id": "ht2BjY0FTK9M",
        "colab_type": "text"
      },
      "source": [
        "# 產生交互作用項"
      ]
    },
    {
      "cell_type": "code",
      "metadata": {
        "id": "T7jg1HYGTLK-",
        "colab_type": "code",
        "colab": {}
      },
      "source": [
        "#from sklearn.preprocessing import PolynomialFeatures\n",
        "#interaction = PolynomialFeatures(2, interaction_only=True, include_bias=False)\n",
        "#X_train = interaction.fit_transform(X_train)\n",
        "#X_train = pd.DataFrame(X_train,columns=interaction.get_feature_names())\n",
        "#X_test = interaction.transform(X_test)\n",
        "#X_test = pd.DataFrame(X_test,columns=interaction.get_feature_names())"
      ],
      "execution_count": 0,
      "outputs": []
    },
    {
      "cell_type": "markdown",
      "metadata": {
        "id": "1EDg_bxW4UYw",
        "colab_type": "text"
      },
      "source": [
        "# 特徵篩選"
      ]
    },
    {
      "cell_type": "code",
      "metadata": {
        "id": "fJpNDwVP4Ug2",
        "colab_type": "code",
        "colab": {}
      },
      "source": [
        "features = X_train.columns.tolist()\n",
        "train = X_train.join(y_train)\n",
        "test = X_test.join(y_test)\n",
        "full = train.append(test)\n",
        "\n",
        "def features_selected():\n",
        "  features_map = {}\n",
        "  for y_name in y_columns:\n",
        "    best_feature = abs(full.corr(method='pearson')).loc[features,[y_name]].sort_values(by=y_name,ascending=False).index.tolist()[1:2]\n",
        "    if best_feature not in ['T10','T50','T90','N+A']:\n",
        "      features_map[y_name] =  ['T10','T50','T90','N+A'] + best_feature\n",
        "    else:\n",
        "      features_map[y_name] =  ['T10','T50','T90','N+A']\n",
        "    features_map[y_name] =  ['T10','T50','T90','N+A']\n",
        "  return features_map"
      ],
      "execution_count": 0,
      "outputs": []
    },
    {
      "cell_type": "code",
      "metadata": {
        "id": "P2D6Un0M6DIr",
        "colab_type": "code",
        "outputId": "c878cd2c-fdcd-4a0b-e438-805a5f9ee2e0",
        "colab": {
          "base_uri": "https://localhost:8080/",
          "height": 738
        }
      },
      "source": [
        "features_map = features_selected()\n",
        "res = pd.DataFrame()\n",
        "for y_name in y_columns:\n",
        "  res.loc[y_name,'features'] = str(features_map[y_name])\n",
        "res"
      ],
      "execution_count": 15,
      "outputs": [
        {
          "output_type": "execute_result",
          "data": {
            "text/html": [
              "<div>\n",
              "<style scoped>\n",
              "    .dataframe tbody tr th:only-of-type {\n",
              "        vertical-align: middle;\n",
              "    }\n",
              "\n",
              "    .dataframe tbody tr th {\n",
              "        vertical-align: top;\n",
              "    }\n",
              "\n",
              "    .dataframe thead th {\n",
              "        text-align: right;\n",
              "    }\n",
              "</style>\n",
              "<table border=\"1\" class=\"dataframe\">\n",
              "  <thead>\n",
              "    <tr style=\"text-align: right;\">\n",
              "      <th></th>\n",
              "      <th>features</th>\n",
              "    </tr>\n",
              "  </thead>\n",
              "  <tbody>\n",
              "    <tr>\n",
              "      <th>C5NP</th>\n",
              "      <td>['T10', 'T50', 'T90', 'N+A']</td>\n",
              "    </tr>\n",
              "    <tr>\n",
              "      <th>C5IP</th>\n",
              "      <td>['T10', 'T50', 'T90', 'N+A']</td>\n",
              "    </tr>\n",
              "    <tr>\n",
              "      <th>C5N</th>\n",
              "      <td>['T10', 'T50', 'T90', 'N+A']</td>\n",
              "    </tr>\n",
              "    <tr>\n",
              "      <th>C6NP</th>\n",
              "      <td>['T10', 'T50', 'T90', 'N+A']</td>\n",
              "    </tr>\n",
              "    <tr>\n",
              "      <th>C6IP</th>\n",
              "      <td>['T10', 'T50', 'T90', 'N+A']</td>\n",
              "    </tr>\n",
              "    <tr>\n",
              "      <th>C6N</th>\n",
              "      <td>['T10', 'T50', 'T90', 'N+A']</td>\n",
              "    </tr>\n",
              "    <tr>\n",
              "      <th>C6A</th>\n",
              "      <td>['T10', 'T50', 'T90', 'N+A']</td>\n",
              "    </tr>\n",
              "    <tr>\n",
              "      <th>C7NP</th>\n",
              "      <td>['T10', 'T50', 'T90', 'N+A']</td>\n",
              "    </tr>\n",
              "    <tr>\n",
              "      <th>C7IP</th>\n",
              "      <td>['T10', 'T50', 'T90', 'N+A']</td>\n",
              "    </tr>\n",
              "    <tr>\n",
              "      <th>C7N</th>\n",
              "      <td>['T10', 'T50', 'T90', 'N+A']</td>\n",
              "    </tr>\n",
              "    <tr>\n",
              "      <th>C7A</th>\n",
              "      <td>['T10', 'T50', 'T90', 'N+A']</td>\n",
              "    </tr>\n",
              "    <tr>\n",
              "      <th>C8NP</th>\n",
              "      <td>['T10', 'T50', 'T90', 'N+A']</td>\n",
              "    </tr>\n",
              "    <tr>\n",
              "      <th>C8IP</th>\n",
              "      <td>['T10', 'T50', 'T90', 'N+A']</td>\n",
              "    </tr>\n",
              "    <tr>\n",
              "      <th>C8N</th>\n",
              "      <td>['T10', 'T50', 'T90', 'N+A']</td>\n",
              "    </tr>\n",
              "    <tr>\n",
              "      <th>C8A</th>\n",
              "      <td>['T10', 'T50', 'T90', 'N+A']</td>\n",
              "    </tr>\n",
              "    <tr>\n",
              "      <th>C9NP</th>\n",
              "      <td>['T10', 'T50', 'T90', 'N+A']</td>\n",
              "    </tr>\n",
              "    <tr>\n",
              "      <th>C9IP</th>\n",
              "      <td>['T10', 'T50', 'T90', 'N+A']</td>\n",
              "    </tr>\n",
              "    <tr>\n",
              "      <th>C9N</th>\n",
              "      <td>['T10', 'T50', 'T90', 'N+A']</td>\n",
              "    </tr>\n",
              "    <tr>\n",
              "      <th>C9A</th>\n",
              "      <td>['T10', 'T50', 'T90', 'N+A']</td>\n",
              "    </tr>\n",
              "    <tr>\n",
              "      <th>C10NP</th>\n",
              "      <td>['T10', 'T50', 'T90', 'N+A']</td>\n",
              "    </tr>\n",
              "    <tr>\n",
              "      <th>C10IP</th>\n",
              "      <td>['T10', 'T50', 'T90', 'N+A']</td>\n",
              "    </tr>\n",
              "    <tr>\n",
              "      <th>C10N</th>\n",
              "      <td>['T10', 'T50', 'T90', 'N+A']</td>\n",
              "    </tr>\n",
              "    <tr>\n",
              "      <th>C10A</th>\n",
              "      <td>['T10', 'T50', 'T90', 'N+A']</td>\n",
              "    </tr>\n",
              "  </tbody>\n",
              "</table>\n",
              "</div>"
            ],
            "text/plain": [
              "                           features\n",
              "C5NP   ['T10', 'T50', 'T90', 'N+A']\n",
              "C5IP   ['T10', 'T50', 'T90', 'N+A']\n",
              "C5N    ['T10', 'T50', 'T90', 'N+A']\n",
              "C6NP   ['T10', 'T50', 'T90', 'N+A']\n",
              "C6IP   ['T10', 'T50', 'T90', 'N+A']\n",
              "C6N    ['T10', 'T50', 'T90', 'N+A']\n",
              "C6A    ['T10', 'T50', 'T90', 'N+A']\n",
              "C7NP   ['T10', 'T50', 'T90', 'N+A']\n",
              "C7IP   ['T10', 'T50', 'T90', 'N+A']\n",
              "C7N    ['T10', 'T50', 'T90', 'N+A']\n",
              "C7A    ['T10', 'T50', 'T90', 'N+A']\n",
              "C8NP   ['T10', 'T50', 'T90', 'N+A']\n",
              "C8IP   ['T10', 'T50', 'T90', 'N+A']\n",
              "C8N    ['T10', 'T50', 'T90', 'N+A']\n",
              "C8A    ['T10', 'T50', 'T90', 'N+A']\n",
              "C9NP   ['T10', 'T50', 'T90', 'N+A']\n",
              "C9IP   ['T10', 'T50', 'T90', 'N+A']\n",
              "C9N    ['T10', 'T50', 'T90', 'N+A']\n",
              "C9A    ['T10', 'T50', 'T90', 'N+A']\n",
              "C10NP  ['T10', 'T50', 'T90', 'N+A']\n",
              "C10IP  ['T10', 'T50', 'T90', 'N+A']\n",
              "C10N   ['T10', 'T50', 'T90', 'N+A']\n",
              "C10A   ['T10', 'T50', 'T90', 'N+A']"
            ]
          },
          "metadata": {
            "tags": []
          },
          "execution_count": 15
        }
      ]
    },
    {
      "cell_type": "markdown",
      "metadata": {
        "id": "LZYStMoAACM-",
        "colab_type": "text"
      },
      "source": [
        "# models"
      ]
    },
    {
      "cell_type": "code",
      "metadata": {
        "id": "3t28VwFXmADX",
        "colab_type": "code",
        "colab": {}
      },
      "source": [
        "svr = Pipeline([('scaler',StandardScaler()),('regressor',SVR(C=15))])\n",
        "cgb = CatBoostRegressor(n_estimators = 150,learning_rate = 0.1,verbose=False)\n",
        "lr = Pipeline([('scaler',StandardScaler()),('regressor',LinearRegression())])\n",
        "ridge = Pipeline([('scaler',StandardScaler()),('regressor',Ridge())])"
      ],
      "execution_count": 0,
      "outputs": []
    },
    {
      "cell_type": "markdown",
      "metadata": {
        "id": "_CxZjurydlgd",
        "colab_type": "text"
      },
      "source": [
        "# define model"
      ]
    },
    {
      "cell_type": "markdown",
      "metadata": {
        "id": "udMDC9i-t5U7",
        "colab_type": "text"
      },
      "source": [
        "# 測試"
      ]
    },
    {
      "cell_type": "code",
      "metadata": {
        "id": "R0l-FrhkU-pB",
        "colab_type": "code",
        "outputId": "4371e926-9679-4467-88e7-5c83956f4572",
        "colab": {
          "base_uri": "https://localhost:8080/",
          "height": 218
        }
      },
      "source": [
        "y_train_pred = pd.DataFrame(index = y_train.index,columns = y_columns)\n",
        "y_pred = pd.DataFrame(index = y_test.index,columns = y_columns)\n",
        "\n",
        "for y_name in y_columns:\n",
        "  \n",
        "  model = cgb\n",
        "  model.fit(X_train[features_map[y_name]].values,y_train[y_name].values)\n",
        "\n",
        "  y_train_pred[y_name] = model.predict(X_train[features_map[y_name]].values)\n",
        "  y_pred[y_name] = model.predict(X_test[features_map[y_name]].values)\n",
        "\n",
        "y_pred.head()  "
      ],
      "execution_count": 17,
      "outputs": [
        {
          "output_type": "execute_result",
          "data": {
            "text/html": [
              "<div>\n",
              "<style scoped>\n",
              "    .dataframe tbody tr th:only-of-type {\n",
              "        vertical-align: middle;\n",
              "    }\n",
              "\n",
              "    .dataframe tbody tr th {\n",
              "        vertical-align: top;\n",
              "    }\n",
              "\n",
              "    .dataframe thead th {\n",
              "        text-align: right;\n",
              "    }\n",
              "</style>\n",
              "<table border=\"1\" class=\"dataframe\">\n",
              "  <thead>\n",
              "    <tr style=\"text-align: right;\">\n",
              "      <th></th>\n",
              "      <th>C5NP</th>\n",
              "      <th>C5IP</th>\n",
              "      <th>C5N</th>\n",
              "      <th>C6NP</th>\n",
              "      <th>C6IP</th>\n",
              "      <th>C6N</th>\n",
              "      <th>C6A</th>\n",
              "      <th>C7NP</th>\n",
              "      <th>C7IP</th>\n",
              "      <th>C7N</th>\n",
              "      <th>C7A</th>\n",
              "      <th>C8NP</th>\n",
              "      <th>C8IP</th>\n",
              "      <th>C8N</th>\n",
              "      <th>C8A</th>\n",
              "      <th>C9NP</th>\n",
              "      <th>C9IP</th>\n",
              "      <th>C9N</th>\n",
              "      <th>C9A</th>\n",
              "      <th>C10NP</th>\n",
              "      <th>C10IP</th>\n",
              "      <th>C10N</th>\n",
              "      <th>C10A</th>\n",
              "    </tr>\n",
              "  </thead>\n",
              "  <tbody>\n",
              "    <tr>\n",
              "      <th>120</th>\n",
              "      <td>1.549703</td>\n",
              "      <td>0.966800</td>\n",
              "      <td>0.311392</td>\n",
              "      <td>3.164061</td>\n",
              "      <td>3.029270</td>\n",
              "      <td>6.233560</td>\n",
              "      <td>0.531941</td>\n",
              "      <td>5.284132</td>\n",
              "      <td>4.602074</td>\n",
              "      <td>18.864802</td>\n",
              "      <td>3.977431</td>\n",
              "      <td>6.810905</td>\n",
              "      <td>9.467944</td>\n",
              "      <td>9.431567</td>\n",
              "      <td>6.011422</td>\n",
              "      <td>3.894087</td>\n",
              "      <td>5.583244</td>\n",
              "      <td>4.016136</td>\n",
              "      <td>2.457773</td>\n",
              "      <td>1.080725</td>\n",
              "      <td>2.318767</td>\n",
              "      <td>0.401556</td>\n",
              "      <td>0.648081</td>\n",
              "    </tr>\n",
              "    <tr>\n",
              "      <th>125</th>\n",
              "      <td>1.660242</td>\n",
              "      <td>1.053518</td>\n",
              "      <td>0.326845</td>\n",
              "      <td>3.187458</td>\n",
              "      <td>3.002562</td>\n",
              "      <td>6.606814</td>\n",
              "      <td>0.545313</td>\n",
              "      <td>5.408867</td>\n",
              "      <td>4.493661</td>\n",
              "      <td>18.879985</td>\n",
              "      <td>3.381035</td>\n",
              "      <td>6.158134</td>\n",
              "      <td>9.746156</td>\n",
              "      <td>8.920281</td>\n",
              "      <td>5.242649</td>\n",
              "      <td>3.736907</td>\n",
              "      <td>5.585942</td>\n",
              "      <td>4.405009</td>\n",
              "      <td>2.430215</td>\n",
              "      <td>1.564757</td>\n",
              "      <td>2.897812</td>\n",
              "      <td>0.617889</td>\n",
              "      <td>1.119798</td>\n",
              "    </tr>\n",
              "    <tr>\n",
              "      <th>130</th>\n",
              "      <td>1.757421</td>\n",
              "      <td>1.140446</td>\n",
              "      <td>0.347078</td>\n",
              "      <td>3.212557</td>\n",
              "      <td>3.033792</td>\n",
              "      <td>6.581854</td>\n",
              "      <td>0.536705</td>\n",
              "      <td>5.315451</td>\n",
              "      <td>4.410801</td>\n",
              "      <td>18.723454</td>\n",
              "      <td>3.369930</td>\n",
              "      <td>6.180471</td>\n",
              "      <td>9.605873</td>\n",
              "      <td>9.110771</td>\n",
              "      <td>5.249566</td>\n",
              "      <td>3.760212</td>\n",
              "      <td>5.669775</td>\n",
              "      <td>4.360492</td>\n",
              "      <td>2.487429</td>\n",
              "      <td>1.352718</td>\n",
              "      <td>3.022864</td>\n",
              "      <td>0.516296</td>\n",
              "      <td>0.988057</td>\n",
              "    </tr>\n",
              "    <tr>\n",
              "      <th>135</th>\n",
              "      <td>0.930079</td>\n",
              "      <td>0.640588</td>\n",
              "      <td>0.223580</td>\n",
              "      <td>2.725927</td>\n",
              "      <td>2.343749</td>\n",
              "      <td>5.358676</td>\n",
              "      <td>0.589372</td>\n",
              "      <td>5.022999</td>\n",
              "      <td>4.765167</td>\n",
              "      <td>15.137259</td>\n",
              "      <td>3.839130</td>\n",
              "      <td>6.263794</td>\n",
              "      <td>8.227334</td>\n",
              "      <td>10.379699</td>\n",
              "      <td>5.989977</td>\n",
              "      <td>4.114307</td>\n",
              "      <td>7.459659</td>\n",
              "      <td>5.772949</td>\n",
              "      <td>3.222462</td>\n",
              "      <td>1.316830</td>\n",
              "      <td>3.841738</td>\n",
              "      <td>0.630141</td>\n",
              "      <td>1.019746</td>\n",
              "    </tr>\n",
              "    <tr>\n",
              "      <th>140</th>\n",
              "      <td>0.188281</td>\n",
              "      <td>0.111212</td>\n",
              "      <td>0.018479</td>\n",
              "      <td>0.727548</td>\n",
              "      <td>0.452701</td>\n",
              "      <td>5.992758</td>\n",
              "      <td>0.502954</td>\n",
              "      <td>6.618407</td>\n",
              "      <td>8.043594</td>\n",
              "      <td>28.134289</td>\n",
              "      <td>5.603656</td>\n",
              "      <td>4.996707</td>\n",
              "      <td>8.432114</td>\n",
              "      <td>9.287344</td>\n",
              "      <td>5.039328</td>\n",
              "      <td>1.931785</td>\n",
              "      <td>5.871430</td>\n",
              "      <td>4.322802</td>\n",
              "      <td>1.657006</td>\n",
              "      <td>0.443169</td>\n",
              "      <td>1.915734</td>\n",
              "      <td>0.428611</td>\n",
              "      <td>0.737259</td>\n",
              "    </tr>\n",
              "  </tbody>\n",
              "</table>\n",
              "</div>"
            ],
            "text/plain": [
              "         C5NP      C5IP       C5N  ...     C10IP      C10N      C10A\n",
              "120  1.549703  0.966800  0.311392  ...  2.318767  0.401556  0.648081\n",
              "125  1.660242  1.053518  0.326845  ...  2.897812  0.617889  1.119798\n",
              "130  1.757421  1.140446  0.347078  ...  3.022864  0.516296  0.988057\n",
              "135  0.930079  0.640588  0.223580  ...  3.841738  0.630141  1.019746\n",
              "140  0.188281  0.111212  0.018479  ...  1.915734  0.428611  0.737259\n",
              "\n",
              "[5 rows x 23 columns]"
            ]
          },
          "metadata": {
            "tags": []
          },
          "execution_count": 17
        }
      ]
    },
    {
      "cell_type": "code",
      "metadata": {
        "id": "_IOXUwtFY-dn",
        "colab_type": "code",
        "outputId": "afed3251-75ac-4224-a765-eca3dd4845bc",
        "colab": {
          "base_uri": "https://localhost:8080/",
          "height": 542
        }
      },
      "source": [
        "res = pd.DataFrame()\n",
        "for y_name in y_columns:\n",
        "  res = res.append(metric(y_train[y_name],y_train_pred[y_name],y_name))\n",
        "res.loc['AVG'] = res.mean()\n",
        "res.style.background_gradient()"
      ],
      "execution_count": 18,
      "outputs": [
        {
          "output_type": "execute_result",
          "data": {
            "text/html": [
              "<style  type=\"text/css\" >\n",
              "    #T_15a04594_26ef_11ea_8056_0242ac1c0002row0_col0 {\n",
              "            background-color:  #023858;\n",
              "            color:  #f1f1f1;\n",
              "        }    #T_15a04594_26ef_11ea_8056_0242ac1c0002row0_col1 {\n",
              "            background-color:  #adc1dd;\n",
              "            color:  #000000;\n",
              "        }    #T_15a04594_26ef_11ea_8056_0242ac1c0002row0_col2 {\n",
              "            background-color:  #569dc8;\n",
              "            color:  #000000;\n",
              "        }    #T_15a04594_26ef_11ea_8056_0242ac1c0002row1_col0 {\n",
              "            background-color:  #023858;\n",
              "            color:  #f1f1f1;\n",
              "        }    #T_15a04594_26ef_11ea_8056_0242ac1c0002row1_col1 {\n",
              "            background-color:  #ced0e6;\n",
              "            color:  #000000;\n",
              "        }    #T_15a04594_26ef_11ea_8056_0242ac1c0002row1_col2 {\n",
              "            background-color:  #023858;\n",
              "            color:  #f1f1f1;\n",
              "        }    #T_15a04594_26ef_11ea_8056_0242ac1c0002row2_col0 {\n",
              "            background-color:  #023e62;\n",
              "            color:  #f1f1f1;\n",
              "        }    #T_15a04594_26ef_11ea_8056_0242ac1c0002row2_col1 {\n",
              "            background-color:  #fff7fb;\n",
              "            color:  #000000;\n",
              "        }    #T_15a04594_26ef_11ea_8056_0242ac1c0002row2_col2 {\n",
              "            background-color:  #e0deed;\n",
              "            color:  #000000;\n",
              "        }    #T_15a04594_26ef_11ea_8056_0242ac1c0002row3_col0 {\n",
              "            background-color:  #045483;\n",
              "            color:  #f1f1f1;\n",
              "        }    #T_15a04594_26ef_11ea_8056_0242ac1c0002row3_col1 {\n",
              "            background-color:  #c5cce3;\n",
              "            color:  #000000;\n",
              "        }    #T_15a04594_26ef_11ea_8056_0242ac1c0002row3_col2 {\n",
              "            background-color:  #d5d5e8;\n",
              "            color:  #000000;\n",
              "        }    #T_15a04594_26ef_11ea_8056_0242ac1c0002row4_col0 {\n",
              "            background-color:  #034369;\n",
              "            color:  #f1f1f1;\n",
              "        }    #T_15a04594_26ef_11ea_8056_0242ac1c0002row4_col1 {\n",
              "            background-color:  #c2cbe2;\n",
              "            color:  #000000;\n",
              "        }    #T_15a04594_26ef_11ea_8056_0242ac1c0002row4_col2 {\n",
              "            background-color:  #acc0dd;\n",
              "            color:  #000000;\n",
              "        }    #T_15a04594_26ef_11ea_8056_0242ac1c0002row5_col0 {\n",
              "            background-color:  #0a73b2;\n",
              "            color:  #f1f1f1;\n",
              "        }    #T_15a04594_26ef_11ea_8056_0242ac1c0002row5_col1 {\n",
              "            background-color:  #97b7d7;\n",
              "            color:  #000000;\n",
              "        }    #T_15a04594_26ef_11ea_8056_0242ac1c0002row5_col2 {\n",
              "            background-color:  #fcf4fa;\n",
              "            color:  #000000;\n",
              "        }    #T_15a04594_26ef_11ea_8056_0242ac1c0002row6_col0 {\n",
              "            background-color:  #0c74b2;\n",
              "            color:  #f1f1f1;\n",
              "        }    #T_15a04594_26ef_11ea_8056_0242ac1c0002row6_col1 {\n",
              "            background-color:  #d2d2e7;\n",
              "            color:  #000000;\n",
              "        }    #T_15a04594_26ef_11ea_8056_0242ac1c0002row6_col2 {\n",
              "            background-color:  #c1cae2;\n",
              "            color:  #000000;\n",
              "        }    #T_15a04594_26ef_11ea_8056_0242ac1c0002row7_col0 {\n",
              "            background-color:  #5a9ec9;\n",
              "            color:  #000000;\n",
              "        }    #T_15a04594_26ef_11ea_8056_0242ac1c0002row7_col1 {\n",
              "            background-color:  #d0d1e6;\n",
              "            color:  #000000;\n",
              "        }    #T_15a04594_26ef_11ea_8056_0242ac1c0002row7_col2 {\n",
              "            background-color:  #fff7fb;\n",
              "            color:  #000000;\n",
              "        }    #T_15a04594_26ef_11ea_8056_0242ac1c0002row8_col0 {\n",
              "            background-color:  #569dc8;\n",
              "            color:  #000000;\n",
              "        }    #T_15a04594_26ef_11ea_8056_0242ac1c0002row8_col1 {\n",
              "            background-color:  #a8bedc;\n",
              "            color:  #000000;\n",
              "        }    #T_15a04594_26ef_11ea_8056_0242ac1c0002row8_col2 {\n",
              "            background-color:  #fdf5fa;\n",
              "            color:  #000000;\n",
              "        }    #T_15a04594_26ef_11ea_8056_0242ac1c0002row9_col0 {\n",
              "            background-color:  #046097;\n",
              "            color:  #f1f1f1;\n",
              "        }    #T_15a04594_26ef_11ea_8056_0242ac1c0002row9_col1 {\n",
              "            background-color:  #023858;\n",
              "            color:  #f1f1f1;\n",
              "        }    #T_15a04594_26ef_11ea_8056_0242ac1c0002row9_col2 {\n",
              "            background-color:  #fdf5fa;\n",
              "            color:  #000000;\n",
              "        }    #T_15a04594_26ef_11ea_8056_0242ac1c0002row10_col0 {\n",
              "            background-color:  #fff7fb;\n",
              "            color:  #000000;\n",
              "        }    #T_15a04594_26ef_11ea_8056_0242ac1c0002row10_col1 {\n",
              "            background-color:  #79abd0;\n",
              "            color:  #000000;\n",
              "        }    #T_15a04594_26ef_11ea_8056_0242ac1c0002row10_col2 {\n",
              "            background-color:  #f8f1f8;\n",
              "            color:  #000000;\n",
              "        }    #T_15a04594_26ef_11ea_8056_0242ac1c0002row11_col0 {\n",
              "            background-color:  #328dbf;\n",
              "            color:  #000000;\n",
              "        }    #T_15a04594_26ef_11ea_8056_0242ac1c0002row11_col1 {\n",
              "            background-color:  #adc1dd;\n",
              "            color:  #000000;\n",
              "        }    #T_15a04594_26ef_11ea_8056_0242ac1c0002row11_col2 {\n",
              "            background-color:  #fef6fa;\n",
              "            color:  #000000;\n",
              "        }    #T_15a04594_26ef_11ea_8056_0242ac1c0002row12_col0 {\n",
              "            background-color:  #7eadd1;\n",
              "            color:  #000000;\n",
              "        }    #T_15a04594_26ef_11ea_8056_0242ac1c0002row12_col1 {\n",
              "            background-color:  #1379b5;\n",
              "            color:  #f1f1f1;\n",
              "        }    #T_15a04594_26ef_11ea_8056_0242ac1c0002row12_col2 {\n",
              "            background-color:  #f8f1f8;\n",
              "            color:  #000000;\n",
              "        }    #T_15a04594_26ef_11ea_8056_0242ac1c0002row13_col0 {\n",
              "            background-color:  #4094c3;\n",
              "            color:  #000000;\n",
              "        }    #T_15a04594_26ef_11ea_8056_0242ac1c0002row13_col1 {\n",
              "            background-color:  #045f95;\n",
              "            color:  #f1f1f1;\n",
              "        }    #T_15a04594_26ef_11ea_8056_0242ac1c0002row13_col2 {\n",
              "            background-color:  #faf2f8;\n",
              "            color:  #000000;\n",
              "        }    #T_15a04594_26ef_11ea_8056_0242ac1c0002row14_col0 {\n",
              "            background-color:  #cacee5;\n",
              "            color:  #000000;\n",
              "        }    #T_15a04594_26ef_11ea_8056_0242ac1c0002row14_col1 {\n",
              "            background-color:  #78abd0;\n",
              "            color:  #000000;\n",
              "        }    #T_15a04594_26ef_11ea_8056_0242ac1c0002row14_col2 {\n",
              "            background-color:  #faf3f9;\n",
              "            color:  #000000;\n",
              "        }    #T_15a04594_26ef_11ea_8056_0242ac1c0002row15_col0 {\n",
              "            background-color:  #e8e4f0;\n",
              "            color:  #000000;\n",
              "        }    #T_15a04594_26ef_11ea_8056_0242ac1c0002row15_col1 {\n",
              "            background-color:  #76aad0;\n",
              "            color:  #000000;\n",
              "        }    #T_15a04594_26ef_11ea_8056_0242ac1c0002row15_col2 {\n",
              "            background-color:  #034973;\n",
              "            color:  #f1f1f1;\n",
              "        }    #T_15a04594_26ef_11ea_8056_0242ac1c0002row16_col0 {\n",
              "            background-color:  #c5cce3;\n",
              "            color:  #000000;\n",
              "        }    #T_15a04594_26ef_11ea_8056_0242ac1c0002row16_col1 {\n",
              "            background-color:  #2383ba;\n",
              "            color:  #000000;\n",
              "        }    #T_15a04594_26ef_11ea_8056_0242ac1c0002row16_col2 {\n",
              "            background-color:  #faf2f8;\n",
              "            color:  #000000;\n",
              "        }    #T_15a04594_26ef_11ea_8056_0242ac1c0002row17_col0 {\n",
              "            background-color:  #d5d5e8;\n",
              "            color:  #000000;\n",
              "        }    #T_15a04594_26ef_11ea_8056_0242ac1c0002row17_col1 {\n",
              "            background-color:  #79abd0;\n",
              "            color:  #000000;\n",
              "        }    #T_15a04594_26ef_11ea_8056_0242ac1c0002row17_col2 {\n",
              "            background-color:  #f6eff7;\n",
              "            color:  #000000;\n",
              "        }    #T_15a04594_26ef_11ea_8056_0242ac1c0002row18_col0 {\n",
              "            background-color:  #75a9cf;\n",
              "            color:  #000000;\n",
              "        }    #T_15a04594_26ef_11ea_8056_0242ac1c0002row18_col1 {\n",
              "            background-color:  #d1d2e6;\n",
              "            color:  #000000;\n",
              "        }    #T_15a04594_26ef_11ea_8056_0242ac1c0002row18_col2 {\n",
              "            background-color:  #f3edf5;\n",
              "            color:  #000000;\n",
              "        }    #T_15a04594_26ef_11ea_8056_0242ac1c0002row19_col0 {\n",
              "            background-color:  #0a73b2;\n",
              "            color:  #f1f1f1;\n",
              "        }    #T_15a04594_26ef_11ea_8056_0242ac1c0002row19_col1 {\n",
              "            background-color:  #e5e1ef;\n",
              "            color:  #000000;\n",
              "        }    #T_15a04594_26ef_11ea_8056_0242ac1c0002row19_col2 {\n",
              "            background-color:  #c6cce3;\n",
              "            color:  #000000;\n",
              "        }    #T_15a04594_26ef_11ea_8056_0242ac1c0002row20_col0 {\n",
              "            background-color:  #73a9cf;\n",
              "            color:  #000000;\n",
              "        }    #T_15a04594_26ef_11ea_8056_0242ac1c0002row20_col1 {\n",
              "            background-color:  #9cb9d9;\n",
              "            color:  #000000;\n",
              "        }    #T_15a04594_26ef_11ea_8056_0242ac1c0002row20_col2 {\n",
              "            background-color:  #efe9f3;\n",
              "            color:  #000000;\n",
              "        }    #T_15a04594_26ef_11ea_8056_0242ac1c0002row21_col0 {\n",
              "            background-color:  #f0eaf4;\n",
              "            color:  #000000;\n",
              "        }    #T_15a04594_26ef_11ea_8056_0242ac1c0002row21_col1 {\n",
              "            background-color:  #f4eef6;\n",
              "            color:  #000000;\n",
              "        }    #T_15a04594_26ef_11ea_8056_0242ac1c0002row21_col2 {\n",
              "            background-color:  #96b6d7;\n",
              "            color:  #000000;\n",
              "        }    #T_15a04594_26ef_11ea_8056_0242ac1c0002row22_col0 {\n",
              "            background-color:  #0567a1;\n",
              "            color:  #f1f1f1;\n",
              "        }    #T_15a04594_26ef_11ea_8056_0242ac1c0002row22_col1 {\n",
              "            background-color:  #e8e4f0;\n",
              "            color:  #000000;\n",
              "        }    #T_15a04594_26ef_11ea_8056_0242ac1c0002row22_col2 {\n",
              "            background-color:  #c5cce3;\n",
              "            color:  #000000;\n",
              "        }    #T_15a04594_26ef_11ea_8056_0242ac1c0002row23_col0 {\n",
              "            background-color:  #4897c4;\n",
              "            color:  #000000;\n",
              "        }    #T_15a04594_26ef_11ea_8056_0242ac1c0002row23_col1 {\n",
              "            background-color:  #9fbad9;\n",
              "            color:  #000000;\n",
              "        }    #T_15a04594_26ef_11ea_8056_0242ac1c0002row23_col2 {\n",
              "            background-color:  #d7d6e9;\n",
              "            color:  #000000;\n",
              "        }</style><table id=\"T_15a04594_26ef_11ea_8056_0242ac1c0002\" ><thead>    <tr>        <th class=\"blank level0\" ></th>        <th class=\"col_heading level0 col0\" >R2</th>        <th class=\"col_heading level0 col1\" >RMSE</th>        <th class=\"col_heading level0 col2\" >MAPE</th>    </tr></thead><tbody>\n",
              "                <tr>\n",
              "                        <th id=\"T_15a04594_26ef_11ea_8056_0242ac1c0002level0_row0\" class=\"row_heading level0 row0\" >C5NP</th>\n",
              "                        <td id=\"T_15a04594_26ef_11ea_8056_0242ac1c0002row0_col0\" class=\"data row0 col0\" >0.996004</td>\n",
              "                        <td id=\"T_15a04594_26ef_11ea_8056_0242ac1c0002row0_col1\" class=\"data row0 col1\" >0.252547</td>\n",
              "                        <td id=\"T_15a04594_26ef_11ea_8056_0242ac1c0002row0_col2\" class=\"data row0 col2\" >0.476186</td>\n",
              "            </tr>\n",
              "            <tr>\n",
              "                        <th id=\"T_15a04594_26ef_11ea_8056_0242ac1c0002level0_row1\" class=\"row_heading level0 row1\" >C5IP</th>\n",
              "                        <td id=\"T_15a04594_26ef_11ea_8056_0242ac1c0002row1_col0\" class=\"data row1 col0\" >0.996159</td>\n",
              "                        <td id=\"T_15a04594_26ef_11ea_8056_0242ac1c0002row1_col1\" class=\"data row1 col1\" >0.187893</td>\n",
              "                        <td id=\"T_15a04594_26ef_11ea_8056_0242ac1c0002row1_col2\" class=\"data row1 col2\" >0.826632</td>\n",
              "            </tr>\n",
              "            <tr>\n",
              "                        <th id=\"T_15a04594_26ef_11ea_8056_0242ac1c0002level0_row2\" class=\"row_heading level0 row2\" >C5N</th>\n",
              "                        <td id=\"T_15a04594_26ef_11ea_8056_0242ac1c0002row2_col0\" class=\"data row2 col0\" >0.994514</td>\n",
              "                        <td id=\"T_15a04594_26ef_11ea_8056_0242ac1c0002row2_col1\" class=\"data row2 col1\" >0.024941</td>\n",
              "                        <td id=\"T_15a04594_26ef_11ea_8056_0242ac1c0002row2_col2\" class=\"data row2 col2\" >0.16947</td>\n",
              "            </tr>\n",
              "            <tr>\n",
              "                        <th id=\"T_15a04594_26ef_11ea_8056_0242ac1c0002level0_row3\" class=\"row_heading level0 row3\" >C6NP</th>\n",
              "                        <td id=\"T_15a04594_26ef_11ea_8056_0242ac1c0002row3_col0\" class=\"data row3 col0\" >0.989756</td>\n",
              "                        <td id=\"T_15a04594_26ef_11ea_8056_0242ac1c0002row3_col1\" class=\"data row3 col1\" >0.205901</td>\n",
              "                        <td id=\"T_15a04594_26ef_11ea_8056_0242ac1c0002row3_col2\" class=\"data row3 col2\" >0.209107</td>\n",
              "            </tr>\n",
              "            <tr>\n",
              "                        <th id=\"T_15a04594_26ef_11ea_8056_0242ac1c0002level0_row4\" class=\"row_heading level0 row4\" >C6IP</th>\n",
              "                        <td id=\"T_15a04594_26ef_11ea_8056_0242ac1c0002row4_col0\" class=\"data row4 col0\" >0.993709</td>\n",
              "                        <td id=\"T_15a04594_26ef_11ea_8056_0242ac1c0002row4_col1\" class=\"data row4 col1\" >0.212329</td>\n",
              "                        <td id=\"T_15a04594_26ef_11ea_8056_0242ac1c0002row4_col2\" class=\"data row4 col2\" >0.313158</td>\n",
              "            </tr>\n",
              "            <tr>\n",
              "                        <th id=\"T_15a04594_26ef_11ea_8056_0242ac1c0002level0_row5\" class=\"row_heading level0 row5\" >C6N</th>\n",
              "                        <td id=\"T_15a04594_26ef_11ea_8056_0242ac1c0002row5_col0\" class=\"data row5 col0\" >0.97993</td>\n",
              "                        <td id=\"T_15a04594_26ef_11ea_8056_0242ac1c0002row5_col1\" class=\"data row5 col1\" >0.289186</td>\n",
              "                        <td id=\"T_15a04594_26ef_11ea_8056_0242ac1c0002row5_col2\" class=\"data row5 col2\" >0.0445552</td>\n",
              "            </tr>\n",
              "            <tr>\n",
              "                        <th id=\"T_15a04594_26ef_11ea_8056_0242ac1c0002level0_row6\" class=\"row_heading level0 row6\" >C6A</th>\n",
              "                        <td id=\"T_15a04594_26ef_11ea_8056_0242ac1c0002row6_col0\" class=\"data row6 col0\" >0.979631</td>\n",
              "                        <td id=\"T_15a04594_26ef_11ea_8056_0242ac1c0002row6_col1\" class=\"data row6 col1\" >0.181037</td>\n",
              "                        <td id=\"T_15a04594_26ef_11ea_8056_0242ac1c0002row6_col2\" class=\"data row6 col2\" >0.262895</td>\n",
              "            </tr>\n",
              "            <tr>\n",
              "                        <th id=\"T_15a04594_26ef_11ea_8056_0242ac1c0002level0_row7\" class=\"row_heading level0 row7\" >C7NP</th>\n",
              "                        <td id=\"T_15a04594_26ef_11ea_8056_0242ac1c0002row7_col0\" class=\"data row7 col0\" >0.968436</td>\n",
              "                        <td id=\"T_15a04594_26ef_11ea_8056_0242ac1c0002row7_col1\" class=\"data row7 col1\" >0.187285</td>\n",
              "                        <td id=\"T_15a04594_26ef_11ea_8056_0242ac1c0002row7_col2\" class=\"data row7 col2\" >0.0265743</td>\n",
              "            </tr>\n",
              "            <tr>\n",
              "                        <th id=\"T_15a04594_26ef_11ea_8056_0242ac1c0002level0_row8\" class=\"row_heading level0 row8\" >C7IP</th>\n",
              "                        <td id=\"T_15a04594_26ef_11ea_8056_0242ac1c0002row8_col0\" class=\"data row8 col0\" >0.969034</td>\n",
              "                        <td id=\"T_15a04594_26ef_11ea_8056_0242ac1c0002row8_col1\" class=\"data row8 col1\" >0.261803</td>\n",
              "                        <td id=\"T_15a04594_26ef_11ea_8056_0242ac1c0002row8_col2\" class=\"data row8 col2\" >0.0368341</td>\n",
              "            </tr>\n",
              "            <tr>\n",
              "                        <th id=\"T_15a04594_26ef_11ea_8056_0242ac1c0002level0_row9\" class=\"row_heading level0 row9\" >C7N</th>\n",
              "                        <td id=\"T_15a04594_26ef_11ea_8056_0242ac1c0002row9_col0\" class=\"data row9 col0\" >0.986092</td>\n",
              "                        <td id=\"T_15a04594_26ef_11ea_8056_0242ac1c0002row9_col1\" class=\"data row9 col1\" >0.666157</td>\n",
              "                        <td id=\"T_15a04594_26ef_11ea_8056_0242ac1c0002row9_col2\" class=\"data row9 col2\" >0.0381142</td>\n",
              "            </tr>\n",
              "            <tr>\n",
              "                        <th id=\"T_15a04594_26ef_11ea_8056_0242ac1c0002level0_row10\" class=\"row_heading level0 row10\" >C7A</th>\n",
              "                        <td id=\"T_15a04594_26ef_11ea_8056_0242ac1c0002row10_col0\" class=\"data row10 col0\" >0.93429</td>\n",
              "                        <td id=\"T_15a04594_26ef_11ea_8056_0242ac1c0002row10_col1\" class=\"data row10 col1\" >0.335639</td>\n",
              "                        <td id=\"T_15a04594_26ef_11ea_8056_0242ac1c0002row10_col2\" class=\"data row10 col2\" >0.0642298</td>\n",
              "            </tr>\n",
              "            <tr>\n",
              "                        <th id=\"T_15a04594_26ef_11ea_8056_0242ac1c0002level0_row11\" class=\"row_heading level0 row11\" >C8NP</th>\n",
              "                        <td id=\"T_15a04594_26ef_11ea_8056_0242ac1c0002row11_col0\" class=\"data row11 col0\" >0.973506</td>\n",
              "                        <td id=\"T_15a04594_26ef_11ea_8056_0242ac1c0002row11_col1\" class=\"data row11 col1\" >0.252839</td>\n",
              "                        <td id=\"T_15a04594_26ef_11ea_8056_0242ac1c0002row11_col2\" class=\"data row11 col2\" >0.0352645</td>\n",
              "            </tr>\n",
              "            <tr>\n",
              "                        <th id=\"T_15a04594_26ef_11ea_8056_0242ac1c0002level0_row12\" class=\"row_heading level0 row12\" >C8IP</th>\n",
              "                        <td id=\"T_15a04594_26ef_11ea_8056_0242ac1c0002row12_col0\" class=\"data row12 col0\" >0.963723</td>\n",
              "                        <td id=\"T_15a04594_26ef_11ea_8056_0242ac1c0002row12_col1\" class=\"data row12 col1\" >0.482144</td>\n",
              "                        <td id=\"T_15a04594_26ef_11ea_8056_0242ac1c0002row12_col2\" class=\"data row12 col2\" >0.0651588</td>\n",
              "            </tr>\n",
              "            <tr>\n",
              "                        <th id=\"T_15a04594_26ef_11ea_8056_0242ac1c0002level0_row13\" class=\"row_heading level0 row13\" >C8N</th>\n",
              "                        <td id=\"T_15a04594_26ef_11ea_8056_0242ac1c0002row13_col0\" class=\"data row13 col0\" >0.97157</td>\n",
              "                        <td id=\"T_15a04594_26ef_11ea_8056_0242ac1c0002row13_col1\" class=\"data row13 col1\" >0.567302</td>\n",
              "                        <td id=\"T_15a04594_26ef_11ea_8056_0242ac1c0002row13_col2\" class=\"data row13 col2\" >0.0574166</td>\n",
              "            </tr>\n",
              "            <tr>\n",
              "                        <th id=\"T_15a04594_26ef_11ea_8056_0242ac1c0002level0_row14\" class=\"row_heading level0 row14\" >C8A</th>\n",
              "                        <td id=\"T_15a04594_26ef_11ea_8056_0242ac1c0002row14_col0\" class=\"data row14 col0\" >0.950892</td>\n",
              "                        <td id=\"T_15a04594_26ef_11ea_8056_0242ac1c0002row14_col1\" class=\"data row14 col1\" >0.340233</td>\n",
              "                        <td id=\"T_15a04594_26ef_11ea_8056_0242ac1c0002row14_col2\" class=\"data row14 col2\" >0.054152</td>\n",
              "            </tr>\n",
              "            <tr>\n",
              "                        <th id=\"T_15a04594_26ef_11ea_8056_0242ac1c0002level0_row15\" class=\"row_heading level0 row15\" >C9NP</th>\n",
              "                        <td id=\"T_15a04594_26ef_11ea_8056_0242ac1c0002row15_col0\" class=\"data row15 col0\" >0.94319</td>\n",
              "                        <td id=\"T_15a04594_26ef_11ea_8056_0242ac1c0002row15_col1\" class=\"data row15 col1\" >0.341726</td>\n",
              "                        <td id=\"T_15a04594_26ef_11ea_8056_0242ac1c0002row15_col2\" class=\"data row15 col2\" >0.776522</td>\n",
              "            </tr>\n",
              "            <tr>\n",
              "                        <th id=\"T_15a04594_26ef_11ea_8056_0242ac1c0002level0_row16\" class=\"row_heading level0 row16\" >C9IP</th>\n",
              "                        <td id=\"T_15a04594_26ef_11ea_8056_0242ac1c0002row16_col0\" class=\"data row16 col0\" >0.951781</td>\n",
              "                        <td id=\"T_15a04594_26ef_11ea_8056_0242ac1c0002row16_col1\" class=\"data row16 col1\" >0.456499</td>\n",
              "                        <td id=\"T_15a04594_26ef_11ea_8056_0242ac1c0002row16_col2\" class=\"data row16 col2\" >0.0574882</td>\n",
              "            </tr>\n",
              "            <tr>\n",
              "                        <th id=\"T_15a04594_26ef_11ea_8056_0242ac1c0002level0_row17\" class=\"row_heading level0 row17\" >C9N</th>\n",
              "                        <td id=\"T_15a04594_26ef_11ea_8056_0242ac1c0002row17_col0\" class=\"data row17 col0\" >0.948417</td>\n",
              "                        <td id=\"T_15a04594_26ef_11ea_8056_0242ac1c0002row17_col1\" class=\"data row17 col1\" >0.337752</td>\n",
              "                        <td id=\"T_15a04594_26ef_11ea_8056_0242ac1c0002row17_col2\" class=\"data row17 col2\" >0.0746024</td>\n",
              "            </tr>\n",
              "            <tr>\n",
              "                        <th id=\"T_15a04594_26ef_11ea_8056_0242ac1c0002level0_row18\" class=\"row_heading level0 row18\" >C9A</th>\n",
              "                        <td id=\"T_15a04594_26ef_11ea_8056_0242ac1c0002row18_col0\" class=\"data row18 col0\" >0.965057</td>\n",
              "                        <td id=\"T_15a04594_26ef_11ea_8056_0242ac1c0002row18_col1\" class=\"data row18 col1\" >0.184019</td>\n",
              "                        <td id=\"T_15a04594_26ef_11ea_8056_0242ac1c0002row18_col2\" class=\"data row18 col2\" >0.0910275</td>\n",
              "            </tr>\n",
              "            <tr>\n",
              "                        <th id=\"T_15a04594_26ef_11ea_8056_0242ac1c0002level0_row19\" class=\"row_heading level0 row19\" >C10NP</th>\n",
              "                        <td id=\"T_15a04594_26ef_11ea_8056_0242ac1c0002row19_col0\" class=\"data row19 col0\" >0.979777</td>\n",
              "                        <td id=\"T_15a04594_26ef_11ea_8056_0242ac1c0002row19_col1\" class=\"data row19 col1\" >0.125374</td>\n",
              "                        <td id=\"T_15a04594_26ef_11ea_8056_0242ac1c0002row19_col2\" class=\"data row19 col2\" >0.249866</td>\n",
              "            </tr>\n",
              "            <tr>\n",
              "                        <th id=\"T_15a04594_26ef_11ea_8056_0242ac1c0002level0_row20\" class=\"row_heading level0 row20\" >C10IP</th>\n",
              "                        <td id=\"T_15a04594_26ef_11ea_8056_0242ac1c0002row20_col0\" class=\"data row20 col0\" >0.965459</td>\n",
              "                        <td id=\"T_15a04594_26ef_11ea_8056_0242ac1c0002row20_col1\" class=\"data row20 col1\" >0.280635</td>\n",
              "                        <td id=\"T_15a04594_26ef_11ea_8056_0242ac1c0002row20_col2\" class=\"data row20 col2\" >0.113015</td>\n",
              "            </tr>\n",
              "            <tr>\n",
              "                        <th id=\"T_15a04594_26ef_11ea_8056_0242ac1c0002level0_row21\" class=\"row_heading level0 row21\" >C10N</th>\n",
              "                        <td id=\"T_15a04594_26ef_11ea_8056_0242ac1c0002row21_col0\" class=\"data row21 col0\" >0.940602</td>\n",
              "                        <td id=\"T_15a04594_26ef_11ea_8056_0242ac1c0002row21_col1\" class=\"data row21 col1\" >0.0723832</td>\n",
              "                        <td id=\"T_15a04594_26ef_11ea_8056_0242ac1c0002row21_col2\" class=\"data row21 col2\" >0.360453</td>\n",
              "            </tr>\n",
              "            <tr>\n",
              "                        <th id=\"T_15a04594_26ef_11ea_8056_0242ac1c0002level0_row22\" class=\"row_heading level0 row22\" >C10A</th>\n",
              "                        <td id=\"T_15a04594_26ef_11ea_8056_0242ac1c0002row22_col0\" class=\"data row22 col0\" >0.983901</td>\n",
              "                        <td id=\"T_15a04594_26ef_11ea_8056_0242ac1c0002row22_col1\" class=\"data row22 col1\" >0.115893</td>\n",
              "                        <td id=\"T_15a04594_26ef_11ea_8056_0242ac1c0002row22_col2\" class=\"data row22 col2\" >0.252057</td>\n",
              "            </tr>\n",
              "            <tr>\n",
              "                        <th id=\"T_15a04594_26ef_11ea_8056_0242ac1c0002level0_row23\" class=\"row_heading level0 row23\" >AVG</th>\n",
              "                        <td id=\"T_15a04594_26ef_11ea_8056_0242ac1c0002row23_col0\" class=\"data row23 col0\" >0.970671</td>\n",
              "                        <td id=\"T_15a04594_26ef_11ea_8056_0242ac1c0002row23_col1\" class=\"data row23 col1\" >0.276588</td>\n",
              "                        <td id=\"T_15a04594_26ef_11ea_8056_0242ac1c0002row23_col2\" class=\"data row23 col2\" >0.202382</td>\n",
              "            </tr>\n",
              "    </tbody></table>"
            ],
            "text/plain": [
              "<pandas.io.formats.style.Styler at 0x7fafcc8f5c50>"
            ]
          },
          "metadata": {
            "tags": []
          },
          "execution_count": 18
        }
      ]
    },
    {
      "cell_type": "code",
      "metadata": {
        "id": "VuP8us67U18q",
        "colab_type": "code",
        "outputId": "b6ffe184-ecbf-40c3-a6ab-024cb47a1a93",
        "colab": {
          "base_uri": "https://localhost:8080/",
          "height": 542
        }
      },
      "source": [
        "res = pd.DataFrame()\n",
        "for y_name in y_columns:\n",
        "  res = res.append(metric(y_test[y_name],y_pred[y_name],y_name))\n",
        "res.loc['AVG'] = res.mean()\n",
        "res.style.background_gradient()"
      ],
      "execution_count": 19,
      "outputs": [
        {
          "output_type": "execute_result",
          "data": {
            "text/html": [
              "<style  type=\"text/css\" >\n",
              "    #T_15aed26c_26ef_11ea_8056_0242ac1c0002row0_col0 {\n",
              "            background-color:  #03476f;\n",
              "            color:  #f1f1f1;\n",
              "        }    #T_15aed26c_26ef_11ea_8056_0242ac1c0002row0_col1 {\n",
              "            background-color:  #b1c2de;\n",
              "            color:  #000000;\n",
              "        }    #T_15aed26c_26ef_11ea_8056_0242ac1c0002row0_col2 {\n",
              "            background-color:  #d8d7e9;\n",
              "            color:  #000000;\n",
              "        }    #T_15aed26c_26ef_11ea_8056_0242ac1c0002row1_col0 {\n",
              "            background-color:  #03456c;\n",
              "            color:  #f1f1f1;\n",
              "        }    #T_15aed26c_26ef_11ea_8056_0242ac1c0002row1_col1 {\n",
              "            background-color:  #e5e1ef;\n",
              "            color:  #000000;\n",
              "        }    #T_15aed26c_26ef_11ea_8056_0242ac1c0002row1_col2 {\n",
              "            background-color:  #d9d8ea;\n",
              "            color:  #000000;\n",
              "        }    #T_15aed26c_26ef_11ea_8056_0242ac1c0002row2_col0 {\n",
              "            background-color:  #034e7b;\n",
              "            color:  #f1f1f1;\n",
              "        }    #T_15aed26c_26ef_11ea_8056_0242ac1c0002row2_col1 {\n",
              "            background-color:  #fff7fb;\n",
              "            color:  #000000;\n",
              "        }    #T_15aed26c_26ef_11ea_8056_0242ac1c0002row2_col2 {\n",
              "            background-color:  #d9d8ea;\n",
              "            color:  #000000;\n",
              "        }    #T_15aed26c_26ef_11ea_8056_0242ac1c0002row3_col0 {\n",
              "            background-color:  #034e7b;\n",
              "            color:  #f1f1f1;\n",
              "        }    #T_15aed26c_26ef_11ea_8056_0242ac1c0002row3_col1 {\n",
              "            background-color:  #d3d4e7;\n",
              "            color:  #000000;\n",
              "        }    #T_15aed26c_26ef_11ea_8056_0242ac1c0002row3_col2 {\n",
              "            background-color:  #c9cee4;\n",
              "            color:  #000000;\n",
              "        }    #T_15aed26c_26ef_11ea_8056_0242ac1c0002row4_col0 {\n",
              "            background-color:  #03517e;\n",
              "            color:  #f1f1f1;\n",
              "        }    #T_15aed26c_26ef_11ea_8056_0242ac1c0002row4_col1 {\n",
              "            background-color:  #d0d1e6;\n",
              "            color:  #000000;\n",
              "        }    #T_15aed26c_26ef_11ea_8056_0242ac1c0002row4_col2 {\n",
              "            background-color:  #e0deed;\n",
              "            color:  #000000;\n",
              "        }    #T_15aed26c_26ef_11ea_8056_0242ac1c0002row5_col0 {\n",
              "            background-color:  #1278b4;\n",
              "            color:  #f1f1f1;\n",
              "        }    #T_15aed26c_26ef_11ea_8056_0242ac1c0002row5_col1 {\n",
              "            background-color:  #0a73b2;\n",
              "            color:  #f1f1f1;\n",
              "        }    #T_15aed26c_26ef_11ea_8056_0242ac1c0002row5_col2 {\n",
              "            background-color:  #d2d2e7;\n",
              "            color:  #000000;\n",
              "        }    #T_15aed26c_26ef_11ea_8056_0242ac1c0002row6_col0 {\n",
              "            background-color:  #faf3f9;\n",
              "            color:  #000000;\n",
              "        }    #T_15aed26c_26ef_11ea_8056_0242ac1c0002row6_col1 {\n",
              "            background-color:  #f2ecf5;\n",
              "            color:  #000000;\n",
              "        }    #T_15aed26c_26ef_11ea_8056_0242ac1c0002row6_col2 {\n",
              "            background-color:  #1b7eb7;\n",
              "            color:  #000000;\n",
              "        }    #T_15aed26c_26ef_11ea_8056_0242ac1c0002row7_col0 {\n",
              "            background-color:  #0f76b3;\n",
              "            color:  #f1f1f1;\n",
              "        }    #T_15aed26c_26ef_11ea_8056_0242ac1c0002row7_col1 {\n",
              "            background-color:  #e1dfed;\n",
              "            color:  #000000;\n",
              "        }    #T_15aed26c_26ef_11ea_8056_0242ac1c0002row7_col2 {\n",
              "            background-color:  #fff7fb;\n",
              "            color:  #000000;\n",
              "        }    #T_15aed26c_26ef_11ea_8056_0242ac1c0002row8_col0 {\n",
              "            background-color:  #034d79;\n",
              "            color:  #f1f1f1;\n",
              "        }    #T_15aed26c_26ef_11ea_8056_0242ac1c0002row8_col1 {\n",
              "            background-color:  #bdc8e1;\n",
              "            color:  #000000;\n",
              "        }    #T_15aed26c_26ef_11ea_8056_0242ac1c0002row8_col2 {\n",
              "            background-color:  #faf3f9;\n",
              "            color:  #000000;\n",
              "        }    #T_15aed26c_26ef_11ea_8056_0242ac1c0002row9_col0 {\n",
              "            background-color:  #034973;\n",
              "            color:  #f1f1f1;\n",
              "        }    #T_15aed26c_26ef_11ea_8056_0242ac1c0002row9_col1 {\n",
              "            background-color:  #045f95;\n",
              "            color:  #f1f1f1;\n",
              "        }    #T_15aed26c_26ef_11ea_8056_0242ac1c0002row9_col2 {\n",
              "            background-color:  #fbf4f9;\n",
              "            color:  #000000;\n",
              "        }    #T_15aed26c_26ef_11ea_8056_0242ac1c0002row10_col0 {\n",
              "            background-color:  #197db7;\n",
              "            color:  #000000;\n",
              "        }    #T_15aed26c_26ef_11ea_8056_0242ac1c0002row10_col1 {\n",
              "            background-color:  #99b8d8;\n",
              "            color:  #000000;\n",
              "        }    #T_15aed26c_26ef_11ea_8056_0242ac1c0002row10_col2 {\n",
              "            background-color:  #e7e3f0;\n",
              "            color:  #000000;\n",
              "        }    #T_15aed26c_26ef_11ea_8056_0242ac1c0002row11_col0 {\n",
              "            background-color:  #045687;\n",
              "            color:  #f1f1f1;\n",
              "        }    #T_15aed26c_26ef_11ea_8056_0242ac1c0002row11_col1 {\n",
              "            background-color:  #bfc9e1;\n",
              "            color:  #000000;\n",
              "        }    #T_15aed26c_26ef_11ea_8056_0242ac1c0002row11_col2 {\n",
              "            background-color:  #f4eef6;\n",
              "            color:  #000000;\n",
              "        }    #T_15aed26c_26ef_11ea_8056_0242ac1c0002row12_col0 {\n",
              "            background-color:  #046299;\n",
              "            color:  #f1f1f1;\n",
              "        }    #T_15aed26c_26ef_11ea_8056_0242ac1c0002row12_col1 {\n",
              "            background-color:  #0f76b3;\n",
              "            color:  #f1f1f1;\n",
              "        }    #T_15aed26c_26ef_11ea_8056_0242ac1c0002row12_col2 {\n",
              "            background-color:  #cacee5;\n",
              "            color:  #000000;\n",
              "        }    #T_15aed26c_26ef_11ea_8056_0242ac1c0002row13_col0 {\n",
              "            background-color:  #84b0d3;\n",
              "            color:  #000000;\n",
              "        }    #T_15aed26c_26ef_11ea_8056_0242ac1c0002row13_col1 {\n",
              "            background-color:  #023858;\n",
              "            color:  #f1f1f1;\n",
              "        }    #T_15aed26c_26ef_11ea_8056_0242ac1c0002row13_col2 {\n",
              "            background-color:  #ece7f2;\n",
              "            color:  #000000;\n",
              "        }    #T_15aed26c_26ef_11ea_8056_0242ac1c0002row14_col0 {\n",
              "            background-color:  #045a8d;\n",
              "            color:  #f1f1f1;\n",
              "        }    #T_15aed26c_26ef_11ea_8056_0242ac1c0002row14_col1 {\n",
              "            background-color:  #a7bddb;\n",
              "            color:  #000000;\n",
              "        }    #T_15aed26c_26ef_11ea_8056_0242ac1c0002row14_col2 {\n",
              "            background-color:  #f1ebf5;\n",
              "            color:  #000000;\n",
              "        }    #T_15aed26c_26ef_11ea_8056_0242ac1c0002row15_col0 {\n",
              "            background-color:  #023858;\n",
              "            color:  #f1f1f1;\n",
              "        }    #T_15aed26c_26ef_11ea_8056_0242ac1c0002row15_col1 {\n",
              "            background-color:  #eee8f3;\n",
              "            color:  #000000;\n",
              "        }    #T_15aed26c_26ef_11ea_8056_0242ac1c0002row15_col2 {\n",
              "            background-color:  #f7f0f7;\n",
              "            color:  #000000;\n",
              "        }    #T_15aed26c_26ef_11ea_8056_0242ac1c0002row16_col0 {\n",
              "            background-color:  #8eb3d5;\n",
              "            color:  #000000;\n",
              "        }    #T_15aed26c_26ef_11ea_8056_0242ac1c0002row16_col1 {\n",
              "            background-color:  #80aed2;\n",
              "            color:  #000000;\n",
              "        }    #T_15aed26c_26ef_11ea_8056_0242ac1c0002row16_col2 {\n",
              "            background-color:  #f5eef6;\n",
              "            color:  #000000;\n",
              "        }    #T_15aed26c_26ef_11ea_8056_0242ac1c0002row17_col0 {\n",
              "            background-color:  #fff7fb;\n",
              "            color:  #000000;\n",
              "        }    #T_15aed26c_26ef_11ea_8056_0242ac1c0002row17_col1 {\n",
              "            background-color:  #8fb4d6;\n",
              "            color:  #000000;\n",
              "        }    #T_15aed26c_26ef_11ea_8056_0242ac1c0002row17_col2 {\n",
              "            background-color:  #e5e1ef;\n",
              "            color:  #000000;\n",
              "        }    #T_15aed26c_26ef_11ea_8056_0242ac1c0002row18_col0 {\n",
              "            background-color:  #1077b4;\n",
              "            color:  #f1f1f1;\n",
              "        }    #T_15aed26c_26ef_11ea_8056_0242ac1c0002row18_col1 {\n",
              "            background-color:  #dcdaeb;\n",
              "            color:  #000000;\n",
              "        }    #T_15aed26c_26ef_11ea_8056_0242ac1c0002row18_col2 {\n",
              "            background-color:  #eae6f1;\n",
              "            color:  #000000;\n",
              "        }    #T_15aed26c_26ef_11ea_8056_0242ac1c0002row19_col0 {\n",
              "            background-color:  #2786bb;\n",
              "            color:  #000000;\n",
              "        }    #T_15aed26c_26ef_11ea_8056_0242ac1c0002row19_col1 {\n",
              "            background-color:  #d9d8ea;\n",
              "            color:  #000000;\n",
              "        }    #T_15aed26c_26ef_11ea_8056_0242ac1c0002row19_col2 {\n",
              "            background-color:  #2d8abd;\n",
              "            color:  #000000;\n",
              "        }    #T_15aed26c_26ef_11ea_8056_0242ac1c0002row20_col0 {\n",
              "            background-color:  #fff7fb;\n",
              "            color:  #000000;\n",
              "        }    #T_15aed26c_26ef_11ea_8056_0242ac1c0002row20_col1 {\n",
              "            background-color:  #a1bbda;\n",
              "            color:  #000000;\n",
              "        }    #T_15aed26c_26ef_11ea_8056_0242ac1c0002row20_col2 {\n",
              "            background-color:  #cdd0e5;\n",
              "            color:  #000000;\n",
              "        }    #T_15aed26c_26ef_11ea_8056_0242ac1c0002row21_col0 {\n",
              "            background-color:  #7bacd1;\n",
              "            color:  #000000;\n",
              "        }    #T_15aed26c_26ef_11ea_8056_0242ac1c0002row21_col1 {\n",
              "            background-color:  #f5eff6;\n",
              "            color:  #000000;\n",
              "        }    #T_15aed26c_26ef_11ea_8056_0242ac1c0002row21_col2 {\n",
              "            background-color:  #4897c4;\n",
              "            color:  #000000;\n",
              "        }    #T_15aed26c_26ef_11ea_8056_0242ac1c0002row22_col0 {\n",
              "            background-color:  #62a2cb;\n",
              "            color:  #000000;\n",
              "        }    #T_15aed26c_26ef_11ea_8056_0242ac1c0002row22_col1 {\n",
              "            background-color:  #d6d6e9;\n",
              "            color:  #000000;\n",
              "        }    #T_15aed26c_26ef_11ea_8056_0242ac1c0002row22_col2 {\n",
              "            background-color:  #023858;\n",
              "            color:  #f1f1f1;\n",
              "        }    #T_15aed26c_26ef_11ea_8056_0242ac1c0002row23_col0 {\n",
              "            background-color:  #2182b9;\n",
              "            color:  #000000;\n",
              "        }    #T_15aed26c_26ef_11ea_8056_0242ac1c0002row23_col1 {\n",
              "            background-color:  #afc1dd;\n",
              "            color:  #000000;\n",
              "        }    #T_15aed26c_26ef_11ea_8056_0242ac1c0002row23_col2 {\n",
              "            background-color:  #d1d2e6;\n",
              "            color:  #000000;\n",
              "        }</style><table id=\"T_15aed26c_26ef_11ea_8056_0242ac1c0002\" ><thead>    <tr>        <th class=\"blank level0\" ></th>        <th class=\"col_heading level0 col0\" >R2</th>        <th class=\"col_heading level0 col1\" >RMSE</th>        <th class=\"col_heading level0 col2\" >MAPE</th>    </tr></thead><tbody>\n",
              "                <tr>\n",
              "                        <th id=\"T_15aed26c_26ef_11ea_8056_0242ac1c0002level0_row0\" class=\"row_heading level0 row0\" >C5NP</th>\n",
              "                        <td id=\"T_15aed26c_26ef_11ea_8056_0242ac1c0002row0_col0\" class=\"data row0 col0\" >0.894938</td>\n",
              "                        <td id=\"T_15aed26c_26ef_11ea_8056_0242ac1c0002row0_col1\" class=\"data row0 col1\" >0.646986</td>\n",
              "                        <td id=\"T_15aed26c_26ef_11ea_8056_0242ac1c0002row0_col2\" class=\"data row0 col2\" >0.181496</td>\n",
              "            </tr>\n",
              "            <tr>\n",
              "                        <th id=\"T_15aed26c_26ef_11ea_8056_0242ac1c0002level0_row1\" class=\"row_heading level0 row1\" >C5IP</th>\n",
              "                        <td id=\"T_15aed26c_26ef_11ea_8056_0242ac1c0002row1_col0\" class=\"data row1 col0\" >0.902325</td>\n",
              "                        <td id=\"T_15aed26c_26ef_11ea_8056_0242ac1c0002row1_col1\" class=\"data row1 col1\" >0.329203</td>\n",
              "                        <td id=\"T_15aed26c_26ef_11ea_8056_0242ac1c0002row1_col2\" class=\"data row1 col2\" >0.175745</td>\n",
              "            </tr>\n",
              "            <tr>\n",
              "                        <th id=\"T_15aed26c_26ef_11ea_8056_0242ac1c0002level0_row2\" class=\"row_heading level0 row2\" >C5N</th>\n",
              "                        <td id=\"T_15aed26c_26ef_11ea_8056_0242ac1c0002row2_col0\" class=\"data row2 col0\" >0.870943</td>\n",
              "                        <td id=\"T_15aed26c_26ef_11ea_8056_0242ac1c0002row2_col1\" class=\"data row2 col1\" >0.0546429</td>\n",
              "                        <td id=\"T_15aed26c_26ef_11ea_8056_0242ac1c0002row2_col2\" class=\"data row2 col2\" >0.176971</td>\n",
              "            </tr>\n",
              "            <tr>\n",
              "                        <th id=\"T_15aed26c_26ef_11ea_8056_0242ac1c0002level0_row3\" class=\"row_heading level0 row3\" >C6NP</th>\n",
              "                        <td id=\"T_15aed26c_26ef_11ea_8056_0242ac1c0002row3_col0\" class=\"data row3 col0\" >0.8703</td>\n",
              "                        <td id=\"T_15aed26c_26ef_11ea_8056_0242ac1c0002row3_col1\" class=\"data row3 col1\" >0.465045</td>\n",
              "                        <td id=\"T_15aed26c_26ef_11ea_8056_0242ac1c0002row3_col2\" class=\"data row3 col2\" >0.216604</td>\n",
              "            </tr>\n",
              "            <tr>\n",
              "                        <th id=\"T_15aed26c_26ef_11ea_8056_0242ac1c0002level0_row4\" class=\"row_heading level0 row4\" >C6IP</th>\n",
              "                        <td id=\"T_15aed26c_26ef_11ea_8056_0242ac1c0002row4_col0\" class=\"data row4 col0\" >0.863366</td>\n",
              "                        <td id=\"T_15aed26c_26ef_11ea_8056_0242ac1c0002row4_col1\" class=\"data row4 col1\" >0.49211</td>\n",
              "                        <td id=\"T_15aed26c_26ef_11ea_8056_0242ac1c0002row4_col2\" class=\"data row4 col2\" >0.155746</td>\n",
              "            </tr>\n",
              "            <tr>\n",
              "                        <th id=\"T_15aed26c_26ef_11ea_8056_0242ac1c0002level0_row5\" class=\"row_heading level0 row5\" >C6N</th>\n",
              "                        <td id=\"T_15aed26c_26ef_11ea_8056_0242ac1c0002row5_col0\" class=\"data row5 col0\" >0.679123</td>\n",
              "                        <td id=\"T_15aed26c_26ef_11ea_8056_0242ac1c0002row5_col1\" class=\"data row5 col1\" >1.32842</td>\n",
              "                        <td id=\"T_15aed26c_26ef_11ea_8056_0242ac1c0002row5_col2\" class=\"data row5 col2\" >0.199913</td>\n",
              "            </tr>\n",
              "            <tr>\n",
              "                        <th id=\"T_15aed26c_26ef_11ea_8056_0242ac1c0002level0_row6\" class=\"row_heading level0 row6\" >C6A</th>\n",
              "                        <td id=\"T_15aed26c_26ef_11ea_8056_0242ac1c0002row6_col0\" class=\"data row6 col0\" >0.0322429</td>\n",
              "                        <td id=\"T_15aed26c_26ef_11ea_8056_0242ac1c0002row6_col1\" class=\"data row6 col1\" >0.206374</td>\n",
              "                        <td id=\"T_15aed26c_26ef_11ea_8056_0242ac1c0002row6_col2\" class=\"data row6 col2\" >0.487946</td>\n",
              "            </tr>\n",
              "            <tr>\n",
              "                        <th id=\"T_15aed26c_26ef_11ea_8056_0242ac1c0002level0_row7\" class=\"row_heading level0 row7\" >C7NP</th>\n",
              "                        <td id=\"T_15aed26c_26ef_11ea_8056_0242ac1c0002row7_col0\" class=\"data row7 col0\" >0.687687</td>\n",
              "                        <td id=\"T_15aed26c_26ef_11ea_8056_0242ac1c0002row7_col1\" class=\"data row7 col1\" >0.358005</td>\n",
              "                        <td id=\"T_15aed26c_26ef_11ea_8056_0242ac1c0002row7_col2\" class=\"data row7 col2\" >0.0431979</td>\n",
              "            </tr>\n",
              "            <tr>\n",
              "                        <th id=\"T_15aed26c_26ef_11ea_8056_0242ac1c0002level0_row8\" class=\"row_heading level0 row8\" >C7IP</th>\n",
              "                        <td id=\"T_15aed26c_26ef_11ea_8056_0242ac1c0002row8_col0\" class=\"data row8 col0\" >0.874023</td>\n",
              "                        <td id=\"T_15aed26c_26ef_11ea_8056_0242ac1c0002row8_col1\" class=\"data row8 col1\" >0.5839</td>\n",
              "                        <td id=\"T_15aed26c_26ef_11ea_8056_0242ac1c0002row8_col2\" class=\"data row8 col2\" >0.0648048</td>\n",
              "            </tr>\n",
              "            <tr>\n",
              "                        <th id=\"T_15aed26c_26ef_11ea_8056_0242ac1c0002level0_row9\" class=\"row_heading level0 row9\" >C7N</th>\n",
              "                        <td id=\"T_15aed26c_26ef_11ea_8056_0242ac1c0002row9_col0\" class=\"data row9 col0\" >0.887621</td>\n",
              "                        <td id=\"T_15aed26c_26ef_11ea_8056_0242ac1c0002row9_col1\" class=\"data row9 col1\" >1.51649</td>\n",
              "                        <td id=\"T_15aed26c_26ef_11ea_8056_0242ac1c0002row9_col2\" class=\"data row9 col2\" >0.0592122</td>\n",
              "            </tr>\n",
              "            <tr>\n",
              "                        <th id=\"T_15aed26c_26ef_11ea_8056_0242ac1c0002level0_row10\" class=\"row_heading level0 row10\" >C7A</th>\n",
              "                        <td id=\"T_15aed26c_26ef_11ea_8056_0242ac1c0002row10_col0\" class=\"data row10 col0\" >0.659992</td>\n",
              "                        <td id=\"T_15aed26c_26ef_11ea_8056_0242ac1c0002row10_col1\" class=\"data row10 col1\" >0.764206</td>\n",
              "                        <td id=\"T_15aed26c_26ef_11ea_8056_0242ac1c0002row10_col2\" class=\"data row10 col2\" >0.138609</td>\n",
              "            </tr>\n",
              "            <tr>\n",
              "                        <th id=\"T_15aed26c_26ef_11ea_8056_0242ac1c0002level0_row11\" class=\"row_heading level0 row11\" >C8NP</th>\n",
              "                        <td id=\"T_15aed26c_26ef_11ea_8056_0242ac1c0002row11_col0\" class=\"data row11 col0\" >0.842027</td>\n",
              "                        <td id=\"T_15aed26c_26ef_11ea_8056_0242ac1c0002row11_col1\" class=\"data row11 col1\" >0.580229</td>\n",
              "                        <td id=\"T_15aed26c_26ef_11ea_8056_0242ac1c0002row11_col2\" class=\"data row11 col2\" >0.0882812</td>\n",
              "            </tr>\n",
              "            <tr>\n",
              "                        <th id=\"T_15aed26c_26ef_11ea_8056_0242ac1c0002level0_row12\" class=\"row_heading level0 row12\" >C8IP</th>\n",
              "                        <td id=\"T_15aed26c_26ef_11ea_8056_0242ac1c0002row12_col0\" class=\"data row12 col0\" >0.788186</td>\n",
              "                        <td id=\"T_15aed26c_26ef_11ea_8056_0242ac1c0002row12_col1\" class=\"data row12 col1\" >1.31257</td>\n",
              "                        <td id=\"T_15aed26c_26ef_11ea_8056_0242ac1c0002row12_col2\" class=\"data row12 col2\" >0.21445</td>\n",
              "            </tr>\n",
              "            <tr>\n",
              "                        <th id=\"T_15aed26c_26ef_11ea_8056_0242ac1c0002level0_row13\" class=\"row_heading level0 row13\" >C8N</th>\n",
              "                        <td id=\"T_15aed26c_26ef_11ea_8056_0242ac1c0002row13_col0\" class=\"data row13 col0\" >0.434907</td>\n",
              "                        <td id=\"T_15aed26c_26ef_11ea_8056_0242ac1c0002row13_col1\" class=\"data row13 col1\" >1.7861</td>\n",
              "                        <td id=\"T_15aed26c_26ef_11ea_8056_0242ac1c0002row13_col2\" class=\"data row13 col2\" >0.124694</td>\n",
              "            </tr>\n",
              "            <tr>\n",
              "                        <th id=\"T_15aed26c_26ef_11ea_8056_0242ac1c0002level0_row14\" class=\"row_heading level0 row14\" >C8A</th>\n",
              "                        <td id=\"T_15aed26c_26ef_11ea_8056_0242ac1c0002row14_col0\" class=\"data row14 col0\" >0.827054</td>\n",
              "                        <td id=\"T_15aed26c_26ef_11ea_8056_0242ac1c0002row14_col1\" class=\"data row14 col1\" >0.699206</td>\n",
              "                        <td id=\"T_15aed26c_26ef_11ea_8056_0242ac1c0002row14_col2\" class=\"data row14 col2\" >0.100798</td>\n",
              "            </tr>\n",
              "            <tr>\n",
              "                        <th id=\"T_15aed26c_26ef_11ea_8056_0242ac1c0002level0_row15\" class=\"row_heading level0 row15\" >C9NP</th>\n",
              "                        <td id=\"T_15aed26c_26ef_11ea_8056_0242ac1c0002row15_col0\" class=\"data row15 col0\" >0.94909</td>\n",
              "                        <td id=\"T_15aed26c_26ef_11ea_8056_0242ac1c0002row15_col1\" class=\"data row15 col1\" >0.252406</td>\n",
              "                        <td id=\"T_15aed26c_26ef_11ea_8056_0242ac1c0002row15_col2\" class=\"data row15 col2\" >0.0800525</td>\n",
              "            </tr>\n",
              "            <tr>\n",
              "                        <th id=\"T_15aed26c_26ef_11ea_8056_0242ac1c0002level0_row16\" class=\"row_heading level0 row16\" >C9IP</th>\n",
              "                        <td id=\"T_15aed26c_26ef_11ea_8056_0242ac1c0002row16_col0\" class=\"data row16 col0\" >0.414073</td>\n",
              "                        <td id=\"T_15aed26c_26ef_11ea_8056_0242ac1c0002row16_col1\" class=\"data row16 col1\" >0.872787</td>\n",
              "                        <td id=\"T_15aed26c_26ef_11ea_8056_0242ac1c0002row16_col2\" class=\"data row16 col2\" >0.0865792</td>\n",
              "            </tr>\n",
              "            <tr>\n",
              "                        <th id=\"T_15aed26c_26ef_11ea_8056_0242ac1c0002level0_row17\" class=\"row_heading level0 row17\" >C9N</th>\n",
              "                        <td id=\"T_15aed26c_26ef_11ea_8056_0242ac1c0002row17_col0\" class=\"data row17 col0\" >0</td>\n",
              "                        <td id=\"T_15aed26c_26ef_11ea_8056_0242ac1c0002row17_col1\" class=\"data row17 col1\" >0.801615</td>\n",
              "                        <td id=\"T_15aed26c_26ef_11ea_8056_0242ac1c0002row17_col2\" class=\"data row17 col2\" >0.143749</td>\n",
              "            </tr>\n",
              "            <tr>\n",
              "                        <th id=\"T_15aed26c_26ef_11ea_8056_0242ac1c0002level0_row18\" class=\"row_heading level0 row18\" >C9A</th>\n",
              "                        <td id=\"T_15aed26c_26ef_11ea_8056_0242ac1c0002row18_col0\" class=\"data row18 col0\" >0.682235</td>\n",
              "                        <td id=\"T_15aed26c_26ef_11ea_8056_0242ac1c0002row18_col1\" class=\"data row18 col1\" >0.397483</td>\n",
              "                        <td id=\"T_15aed26c_26ef_11ea_8056_0242ac1c0002row18_col2\" class=\"data row18 col2\" >0.128642</td>\n",
              "            </tr>\n",
              "            <tr>\n",
              "                        <th id=\"T_15aed26c_26ef_11ea_8056_0242ac1c0002level0_row19\" class=\"row_heading level0 row19\" >C10NP</th>\n",
              "                        <td id=\"T_15aed26c_26ef_11ea_8056_0242ac1c0002row19_col0\" class=\"data row19 col0\" >0.62854</td>\n",
              "                        <td id=\"T_15aed26c_26ef_11ea_8056_0242ac1c0002row19_col1\" class=\"data row19 col1\" >0.416507</td>\n",
              "                        <td id=\"T_15aed26c_26ef_11ea_8056_0242ac1c0002row19_col2\" class=\"data row19 col2\" >0.456831</td>\n",
              "            </tr>\n",
              "            <tr>\n",
              "                        <th id=\"T_15aed26c_26ef_11ea_8056_0242ac1c0002level0_row20\" class=\"row_heading level0 row20\" >C10IP</th>\n",
              "                        <td id=\"T_15aed26c_26ef_11ea_8056_0242ac1c0002row20_col0\" class=\"data row20 col0\" >0</td>\n",
              "                        <td id=\"T_15aed26c_26ef_11ea_8056_0242ac1c0002row20_col1\" class=\"data row20 col1\" >0.724464</td>\n",
              "                        <td id=\"T_15aed26c_26ef_11ea_8056_0242ac1c0002row20_col2\" class=\"data row20 col2\" >0.209986</td>\n",
              "            </tr>\n",
              "            <tr>\n",
              "                        <th id=\"T_15aed26c_26ef_11ea_8056_0242ac1c0002level0_row21\" class=\"row_heading level0 row21\" >C10N</th>\n",
              "                        <td id=\"T_15aed26c_26ef_11ea_8056_0242ac1c0002row21_col0\" class=\"data row21 col0\" >0.456815</td>\n",
              "                        <td id=\"T_15aed26c_26ef_11ea_8056_0242ac1c0002row21_col1\" class=\"data row21 col1\" >0.165022</td>\n",
              "                        <td id=\"T_15aed26c_26ef_11ea_8056_0242ac1c0002row21_col2\" class=\"data row21 col2\" >0.420127</td>\n",
              "            </tr>\n",
              "            <tr>\n",
              "                        <th id=\"T_15aed26c_26ef_11ea_8056_0242ac1c0002level0_row22\" class=\"row_heading level0 row22\" >C10A</th>\n",
              "                        <td id=\"T_15aed26c_26ef_11ea_8056_0242ac1c0002row22_col0\" class=\"data row22 col0\" >0.511099</td>\n",
              "                        <td id=\"T_15aed26c_26ef_11ea_8056_0242ac1c0002row22_col1\" class=\"data row22 col1\" >0.441661</td>\n",
              "                        <td id=\"T_15aed26c_26ef_11ea_8056_0242ac1c0002row22_col2\" class=\"data row22 col2\" >0.683033</td>\n",
              "            </tr>\n",
              "            <tr>\n",
              "                        <th id=\"T_15aed26c_26ef_11ea_8056_0242ac1c0002level0_row23\" class=\"row_heading level0 row23\" >AVG</th>\n",
              "                        <td id=\"T_15aed26c_26ef_11ea_8056_0242ac1c0002row23_col0\" class=\"data row23 col0\" >0.641591</td>\n",
              "                        <td id=\"T_15aed26c_26ef_11ea_8056_0242ac1c0002row23_col1\" class=\"data row23 col1\" >0.660671</td>\n",
              "                        <td id=\"T_15aed26c_26ef_11ea_8056_0242ac1c0002row23_col2\" class=\"data row23 col2\" >0.201629</td>\n",
              "            </tr>\n",
              "    </tbody></table>"
            ],
            "text/plain": [
              "<pandas.io.formats.style.Styler at 0x7fafc8ebef98>"
            ]
          },
          "metadata": {
            "tags": []
          },
          "execution_count": 19
        }
      ]
    },
    {
      "cell_type": "markdown",
      "metadata": {
        "id": "6-gLrUdpVURE",
        "colab_type": "text"
      },
      "source": [
        "# loss analysis"
      ]
    },
    {
      "cell_type": "code",
      "metadata": {
        "id": "3XEXeYFnXC9C",
        "colab_type": "code",
        "colab": {}
      },
      "source": [
        "y_name = 'C7N'"
      ],
      "execution_count": 0,
      "outputs": []
    },
    {
      "cell_type": "code",
      "metadata": {
        "id": "WcyZ75UulQCb",
        "colab_type": "code",
        "outputId": "699adee6-e8f5-484c-8195-13ad1646fc62",
        "colab": {
          "base_uri": "https://localhost:8080/",
          "height": 198
        }
      },
      "source": [
        "square_error = (y_pred[y_name]-y_test[y_name])**2\n",
        "plot_data = pd.DataFrame()\n",
        "plot_data[y_name] = y_test[y_name]\n",
        "plot_data[y_name+'_pred'] = y_pred[y_name]\n",
        "plot_data['loss'] = square_error\n",
        "plot_data.sort_values(by='loss',ascending=False).head()"
      ],
      "execution_count": 21,
      "outputs": [
        {
          "output_type": "execute_result",
          "data": {
            "text/html": [
              "<div>\n",
              "<style scoped>\n",
              "    .dataframe tbody tr th:only-of-type {\n",
              "        vertical-align: middle;\n",
              "    }\n",
              "\n",
              "    .dataframe tbody tr th {\n",
              "        vertical-align: top;\n",
              "    }\n",
              "\n",
              "    .dataframe thead th {\n",
              "        text-align: right;\n",
              "    }\n",
              "</style>\n",
              "<table border=\"1\" class=\"dataframe\">\n",
              "  <thead>\n",
              "    <tr style=\"text-align: right;\">\n",
              "      <th></th>\n",
              "      <th>C7N</th>\n",
              "      <th>C7N_pred</th>\n",
              "      <th>loss</th>\n",
              "    </tr>\n",
              "  </thead>\n",
              "  <tbody>\n",
              "    <tr>\n",
              "      <th>145</th>\n",
              "      <td>17.906555</td>\n",
              "      <td>13.760428</td>\n",
              "      <td>17.190373</td>\n",
              "    </tr>\n",
              "    <tr>\n",
              "      <th>135</th>\n",
              "      <td>18.577741</td>\n",
              "      <td>15.137259</td>\n",
              "      <td>11.836920</td>\n",
              "    </tr>\n",
              "    <tr>\n",
              "      <th>200</th>\n",
              "      <td>14.437906</td>\n",
              "      <td>11.766543</td>\n",
              "      <td>7.136183</td>\n",
              "    </tr>\n",
              "    <tr>\n",
              "      <th>155</th>\n",
              "      <td>17.918637</td>\n",
              "      <td>15.386679</td>\n",
              "      <td>6.410809</td>\n",
              "    </tr>\n",
              "    <tr>\n",
              "      <th>120</th>\n",
              "      <td>20.558219</td>\n",
              "      <td>18.864802</td>\n",
              "      <td>2.867661</td>\n",
              "    </tr>\n",
              "  </tbody>\n",
              "</table>\n",
              "</div>"
            ],
            "text/plain": [
              "           C7N   C7N_pred       loss\n",
              "145  17.906555  13.760428  17.190373\n",
              "135  18.577741  15.137259  11.836920\n",
              "200  14.437906  11.766543   7.136183\n",
              "155  17.918637  15.386679   6.410809\n",
              "120  20.558219  18.864802   2.867661"
            ]
          },
          "metadata": {
            "tags": []
          },
          "execution_count": 21
        }
      ]
    },
    {
      "cell_type": "code",
      "metadata": {
        "id": "tradnTaRcAZk",
        "colab_type": "code",
        "outputId": "b1e82904-8ecf-4d46-db32-d0b9d02c95ff",
        "colab": {
          "base_uri": "https://localhost:8080/",
          "height": 280
        }
      },
      "source": [
        "sns.distplot(square_error)\n",
        "plt.xlabel(y_name+'_loss')\n",
        "plt.ylabel('density')\n",
        "plt.show()"
      ],
      "execution_count": 22,
      "outputs": [
        {
          "output_type": "display_data",
          "data": {
            "image/png": "[encoded data removed]",
            "text/plain": [
              "<Figure size 432x288 with 1 Axes>"
            ]
          },
          "metadata": {
            "tags": []
          }
        }
      ]
    },
    {
      "cell_type": "code",
      "metadata": {
        "id": "EbnhYjXeZmzS",
        "colab_type": "code",
        "outputId": "9970df14-08a1-4755-eba5-1933ac20b917",
        "colab": {
          "base_uri": "https://localhost:8080/",
          "height": 298
        }
      },
      "source": [
        "plt.plot(plot_data.index,[0 for i in range(len(plot_data))])\n",
        "plt.scatter(plot_data.index,plot_data.loss,color='black')\n",
        "plt.xlabel('index')\n",
        "plt.ylabel('square_error')"
      ],
      "execution_count": 23,
      "outputs": [
        {
          "output_type": "execute_result",
          "data": {
            "text/plain": [
              "Text(0, 0.5, 'square_error')"
            ]
          },
          "metadata": {
            "tags": []
          },
          "execution_count": 23
        },
        {
          "output_type": "display_data",
          "data": {
            "image/png": "[encoded data removed]",
            "text/plain": [
              "<Figure size 432x288 with 1 Axes>"
            ]
          },
          "metadata": {
            "tags": []
          }
        }
      ]
    },
    {
      "cell_type": "code",
      "metadata": {
        "id": "XYy2D_7Kg2VU",
        "colab_type": "code",
        "colab": {}
      },
      "source": [
        ""
      ],
      "execution_count": 0,
      "outputs": []
    }
  ]
}
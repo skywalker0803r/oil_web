{
  "nbformat": 4,
  "nbformat_minor": 0,
  "metadata": {
    "colab": {
      "name": "輕油案子_交叉驗證_選模.ipynb",
      "provenance": [],
      "collapsed_sections": [],
      "include_colab_link": true
    },
    "kernelspec": {
      "name": "python3",
      "display_name": "Python 3"
    },
    "accelerator": "GPU"
  },
  "cells": [
    {
      "cell_type": "markdown",
      "metadata": {
        "id": "view-in-github",
        "colab_type": "text"
      },
      "source": [
        "<a href=\"https://colab.research.google.com/github/skywalker0803r/oil_web/blob/master/%E8%BC%95%E6%B2%B9%E6%A1%88%E5%AD%90_modeling%E6%B5%81%E7%A8%8B_v2.ipynb\" target=\"_parent\"><img src=\"https://colab.research.google.com/assets/colab-badge.svg\" alt=\"Open In Colab\"/></a>"
      ]
    },
    {
      "cell_type": "code",
      "metadata": {
        "id": "nHozv94dryCb",
        "colab_type": "code",
        "outputId": "3c93c489-ab58-48c3-c7b3-76d707e662a6",
        "colab": {
          "base_uri": "https://localhost:8080/",
          "height": 36
        }
      },
      "source": [
        "#!pip install catboost\n",
        "from google.colab import drive\n",
        "drive.mount('/content/drive')\n",
        "from sklearn.multioutput import MultiOutputRegressor\n",
        "import pandas as pd\n",
        "from sklearn.model_selection import train_test_split\n",
        "import numpy as np\n",
        "import warnings;warnings.simplefilter('ignore')\n",
        "from sklearn.ensemble import RandomForestRegressor\n",
        "from sklearn.svm import SVR\n",
        "from sklearn.neural_network import MLPRegressor\n",
        "from sklearn.model_selection import cross_validate\n",
        "from sklearn.linear_model import BayesianRidge, LinearRegression,Lasso,Ridge\n",
        "from xgboost import XGBRegressor\n",
        "from catboost import CatBoostRegressor\n",
        "from lightgbm import LGBMRegressor\n",
        "from sklearn.preprocessing import StandardScaler\n",
        "from sklearn.metrics import r2_score,mean_squared_error,mean_absolute_error,max_error,make_scorer\n",
        "from math import sqrt\n",
        "from sklearn.manifold import isomap\n",
        "from numpy import sqrt\n",
        "import plotly.express as px\n",
        "import plotly\n",
        "import matplotlib.pyplot as plt\n",
        "import seaborn as sns\n",
        "from mlxtend.regressor import StackingCVRegressor\n",
        "from sklearn.linear_model import Lasso\n",
        "from sklearn.feature_selection import SelectFromModel\n",
        "from sklearn.pipeline import Pipeline\n",
        "from sklearn.decomposition import PCA\n",
        "from sklearn.mixture import GaussianMixture"
      ],
      "execution_count": 1,
      "outputs": [
        {
          "output_type": "stream",
          "text": [
            "Drive already mounted at /content/drive; to attempt to forcibly remount, call drive.mount(\"/content/drive\", force_remount=True).\n"
          ],
          "name": "stdout"
        }
      ]
    },
    {
      "cell_type": "markdown",
      "metadata": {
        "id": "b3Hu0GOruzAy",
        "colab_type": "text"
      },
      "source": [
        "# some function"
      ]
    },
    {
      "cell_type": "code",
      "metadata": {
        "id": "4zGiVpXYtnP4",
        "colab_type": "code",
        "colab": {}
      },
      "source": [
        "def mape(a, b):\n",
        "    a = np.array(a)\n",
        "    b = np.array(b)\n",
        "    mask = a != 0\n",
        "    return (np.fabs(a-b)/a)[mask].mean()\n",
        "\n",
        "def metric(y_t,y_p,name):\n",
        "  res = {'R2' : max(r2_score(y_t,y_p), 0),\n",
        "         'RMSE': sqrt(mean_squared_error(y_t,y_p)),\n",
        "         'MAPE': mape(y_t,y_p)}\n",
        "  return pd.DataFrame(res,index=[name])"
      ],
      "execution_count": 0,
      "outputs": []
    },
    {
      "cell_type": "markdown",
      "metadata": {
        "id": "OMYvLpGxtxts",
        "colab_type": "text"
      },
      "source": [
        "# load data"
      ]
    },
    {
      "cell_type": "code",
      "metadata": {
        "id": "yL-N58Lkr6VK",
        "colab_type": "code",
        "outputId": "879cf5f3-7a19-47b5-bdc8-3a44866c931a",
        "colab": {
          "base_uri": "https://localhost:8080/",
          "height": 55
        }
      },
      "source": [
        "data = pd.read_csv('/content/drive/My Drive/台塑輕油案子/data/test_250.csv',index_col=0)\n",
        "train = data.loc[data.index %5 != 0]\n",
        "test = data.loc[data.index %5 == 0]\n",
        "test = test.drop(95,axis=0)\n",
        "print(train.shape)\n",
        "print(test.shape)"
      ],
      "execution_count": 3,
      "outputs": [
        {
          "output_type": "stream",
          "text": [
            "(200, 31)\n",
            "(49, 31)\n"
          ],
          "name": "stdout"
        }
      ]
    },
    {
      "cell_type": "markdown",
      "metadata": {
        "id": "9aaTV87PYJlt",
        "colab_type": "text"
      },
      "source": [
        "# select N+A >= 36"
      ]
    },
    {
      "cell_type": "code",
      "metadata": {
        "id": "2G6fKoJXYJvd",
        "colab_type": "code",
        "outputId": "95764c98-5c5c-4b4c-9782-10e4637bf44f",
        "colab": {
          "base_uri": "https://localhost:8080/",
          "height": 55
        }
      },
      "source": [
        "def select_NaddA(df):\n",
        "  condition=(df['N+A']>=36)\n",
        "  return df.loc[condition]\n",
        "train = select_NaddA(train)\n",
        "test = select_NaddA(test)\n",
        "print(train.shape)\n",
        "print(test.shape)"
      ],
      "execution_count": 4,
      "outputs": [
        {
          "output_type": "stream",
          "text": [
            "(182, 31)\n",
            "(43, 31)\n"
          ],
          "name": "stdout"
        }
      ]
    },
    {
      "cell_type": "markdown",
      "metadata": {
        "id": "xYpSRh192hDr",
        "colab_type": "text"
      },
      "source": [
        "# 定義欄位"
      ]
    },
    {
      "cell_type": "code",
      "metadata": {
        "id": "GjQqWiqz2hL_",
        "colab_type": "code",
        "colab": {}
      },
      "source": [
        "features = ['T10','T50','T90','N+A']\n",
        "y_columns = ['C5NP', 'C5IP', 'C5N', \n",
        "             'C6NP', 'C6IP', 'C6N', 'C6A', \n",
        "             'C7NP', 'C7IP', 'C7N', 'C7A', \n",
        "             'C8NP', 'C8IP', 'C8N', 'C8A', \n",
        "             'C9NP', 'C9IP', 'C9N', 'C9A', \n",
        "             'C10NP', 'C10IP', 'C10N', 'C10A']"
      ],
      "execution_count": 0,
      "outputs": []
    },
    {
      "cell_type": "code",
      "metadata": {
        "id": "8Irv8IoE2lql",
        "colab_type": "code",
        "colab": {
          "base_uri": "https://localhost:8080/",
          "height": 55
        },
        "outputId": "20d74785-329f-437e-99f3-aa9e4852f481"
      },
      "source": [
        "train = train[features+y_columns]\n",
        "test = test[features+y_columns]\n",
        "print(train.shape)\n",
        "print(test.shape)"
      ],
      "execution_count": 6,
      "outputs": [
        {
          "output_type": "stream",
          "text": [
            "(182, 27)\n",
            "(43, 27)\n"
          ],
          "name": "stdout"
        }
      ]
    },
    {
      "cell_type": "markdown",
      "metadata": {
        "id": "jdadY7XY2CH3",
        "colab_type": "text"
      },
      "source": [
        "# gau"
      ]
    },
    {
      "cell_type": "code",
      "metadata": {
        "id": "73e3_6dw2CV5",
        "colab_type": "code",
        "colab": {
          "base_uri": "https://localhost:8080/",
          "height": 94
        },
        "outputId": "92d9067d-97b0-4fe5-ac7f-ed73b22e2a0f"
      },
      "source": [
        "full = train.append(test)\n",
        "gau = GaussianMixture(n_components=3)\n",
        "gau.fit(full)\n",
        "full['gau'] = gau.predict(full)\n",
        "train = full[:200]\n",
        "test = full[200:]\n",
        "print(full.gau.value_counts())"
      ],
      "execution_count": 7,
      "outputs": [
        {
          "output_type": "stream",
          "text": [
            "0    152\n",
            "1     40\n",
            "2     33\n",
            "Name: gau, dtype: int64\n"
          ],
          "name": "stdout"
        }
      ]
    },
    {
      "cell_type": "markdown",
      "metadata": {
        "id": "VSIAqhjUSmpa",
        "colab_type": "text"
      },
      "source": [
        "# 定義x,y"
      ]
    },
    {
      "cell_type": "code",
      "metadata": {
        "id": "6SGE09AzSmyN",
        "colab_type": "code",
        "colab": {}
      },
      "source": [
        "features.append('gau')\n",
        "X_train = train[features]\n",
        "X_test = test[features]\n",
        "y_train = train[y_columns]\n",
        "y_test = test[y_columns]"
      ],
      "execution_count": 0,
      "outputs": []
    },
    {
      "cell_type": "markdown",
      "metadata": {
        "id": "ditYKrHJ_HAX",
        "colab_type": "text"
      },
      "source": [
        "# 特徵縮放"
      ]
    },
    {
      "cell_type": "code",
      "metadata": {
        "id": "8QwMB6lJ_HIv",
        "colab_type": "code",
        "colab": {}
      },
      "source": [
        "#scaler_x = StandardScaler()\n",
        "#X_train[:] = scaler_x.fit_transform(X_train[:])\n",
        "#X_test[:] = scaler_x.transform(X_test[:])"
      ],
      "execution_count": 0,
      "outputs": []
    },
    {
      "cell_type": "markdown",
      "metadata": {
        "id": "TPZAaNaY3PHG",
        "colab_type": "text"
      },
      "source": [
        "# 降維萃取特徵"
      ]
    },
    {
      "cell_type": "code",
      "metadata": {
        "id": "f2jI_zhe3PQk",
        "colab_type": "code",
        "colab": {}
      },
      "source": [
        "#for i,t in zip(['iso1','iso2','iso3'],['T10','T50','T90']):\n",
        "#  iso = isomap.Isomap(n_components=1)\n",
        "#  X_train[i] = iso.fit_transform(X_train[[t,'N+A']]) \n",
        "#  X_test[i] = iso.transform(X_test[[t,'N+A']]) "
      ],
      "execution_count": 0,
      "outputs": []
    },
    {
      "cell_type": "markdown",
      "metadata": {
        "id": "8yCOYyDkRknM",
        "colab_type": "text"
      },
      "source": [
        "# 產生溫差特徵"
      ]
    },
    {
      "cell_type": "code",
      "metadata": {
        "id": "5fb5oIQGRku4",
        "colab_type": "code",
        "colab": {}
      },
      "source": [
        "#for df in [X_train,X_test]:\n",
        "#  df['T90-T50'] = df['T90']-df['T50']\n",
        "#  df['T50-T10'] = df['T50']-df['T10']\n",
        "#  df['T90-T10'] = df['T90']-df['T10']"
      ],
      "execution_count": 0,
      "outputs": []
    },
    {
      "cell_type": "markdown",
      "metadata": {
        "id": "65YRKP6TU0iW",
        "colab_type": "text"
      },
      "source": [
        "# 平方特徵"
      ]
    },
    {
      "cell_type": "code",
      "metadata": {
        "id": "wixGRVswT35x",
        "colab_type": "code",
        "colab": {}
      },
      "source": [
        "#for df in [X_train,X_test]:\n",
        "#  df['T10_s2'] = df['T10']**2\n",
        "#  df['T50_s2'] = df['T50']**2\n",
        "#  df['T90_s2'] = df['T90']**2\n",
        "#  df['N+A_s2'] = df['N+A']**2"
      ],
      "execution_count": 0,
      "outputs": []
    },
    {
      "cell_type": "markdown",
      "metadata": {
        "id": "ht2BjY0FTK9M",
        "colab_type": "text"
      },
      "source": [
        "# 產生交互作用項"
      ]
    },
    {
      "cell_type": "code",
      "metadata": {
        "id": "T7jg1HYGTLK-",
        "colab_type": "code",
        "colab": {}
      },
      "source": [
        "#from sklearn.preprocessing import PolynomialFeatures\n",
        "#interaction = PolynomialFeatures(2, interaction_only=True, include_bias=False)\n",
        "#X_train = interaction.fit_transform(X_train)\n",
        "#X_train = pd.DataFrame(X_train,columns=interaction.get_feature_names())\n",
        "#X_test = interaction.transform(X_test)\n",
        "#X_test = pd.DataFrame(X_test,columns=interaction.get_feature_names())"
      ],
      "execution_count": 0,
      "outputs": []
    },
    {
      "cell_type": "markdown",
      "metadata": {
        "id": "1EDg_bxW4UYw",
        "colab_type": "text"
      },
      "source": [
        "# 特徵篩選"
      ]
    },
    {
      "cell_type": "code",
      "metadata": {
        "id": "fJpNDwVP4Ug2",
        "colab_type": "code",
        "colab": {}
      },
      "source": [
        "features = X_train.columns.tolist()\n",
        "train = X_train.join(y_train)\n",
        "test = X_test.join(y_test)\n",
        "full = train.append(test)\n",
        "\n",
        "def features_selected():\n",
        "  features_map = {}\n",
        "  for y_name in y_columns:\n",
        "    best_feature = abs(full.corr(method='pearson')).loc[features,[y_name]].sort_values(by=y_name,ascending=False).index.tolist()[1:2]\n",
        "    if best_feature not in ['T10','T50','T90','N+A']:\n",
        "      features_map[y_name] =  ['T10','T50','T90','N+A'] + best_feature\n",
        "    else:\n",
        "      features_map[y_name] =  ['T10','T50','T90','N+A']\n",
        "    features_map[y_name] =  ['T10','T50','T90','N+A','gau']\n",
        "  return features_map"
      ],
      "execution_count": 0,
      "outputs": []
    },
    {
      "cell_type": "code",
      "metadata": {
        "id": "P2D6Un0M6DIr",
        "colab_type": "code",
        "colab": {
          "base_uri": "https://localhost:8080/",
          "height": 738
        },
        "outputId": "94a6f7af-8101-48fd-b79b-e3495bf8b453"
      },
      "source": [
        "features_map = features_selected()\n",
        "res = pd.DataFrame()\n",
        "for y_name in y_columns:\n",
        "  res.loc[y_name,'features'] = str(features_map[y_name])\n",
        "res"
      ],
      "execution_count": 15,
      "outputs": [
        {
          "output_type": "execute_result",
          "data": {
            "text/html": [
              "<div>\n",
              "<style scoped>\n",
              "    .dataframe tbody tr th:only-of-type {\n",
              "        vertical-align: middle;\n",
              "    }\n",
              "\n",
              "    .dataframe tbody tr th {\n",
              "        vertical-align: top;\n",
              "    }\n",
              "\n",
              "    .dataframe thead th {\n",
              "        text-align: right;\n",
              "    }\n",
              "</style>\n",
              "<table border=\"1\" class=\"dataframe\">\n",
              "  <thead>\n",
              "    <tr style=\"text-align: right;\">\n",
              "      <th></th>\n",
              "      <th>features</th>\n",
              "    </tr>\n",
              "  </thead>\n",
              "  <tbody>\n",
              "    <tr>\n",
              "      <th>C5NP</th>\n",
              "      <td>['T10', 'T50', 'T90', 'N+A', 'gau']</td>\n",
              "    </tr>\n",
              "    <tr>\n",
              "      <th>C5IP</th>\n",
              "      <td>['T10', 'T50', 'T90', 'N+A', 'gau']</td>\n",
              "    </tr>\n",
              "    <tr>\n",
              "      <th>C5N</th>\n",
              "      <td>['T10', 'T50', 'T90', 'N+A', 'gau']</td>\n",
              "    </tr>\n",
              "    <tr>\n",
              "      <th>C6NP</th>\n",
              "      <td>['T10', 'T50', 'T90', 'N+A', 'gau']</td>\n",
              "    </tr>\n",
              "    <tr>\n",
              "      <th>C6IP</th>\n",
              "      <td>['T10', 'T50', 'T90', 'N+A', 'gau']</td>\n",
              "    </tr>\n",
              "    <tr>\n",
              "      <th>C6N</th>\n",
              "      <td>['T10', 'T50', 'T90', 'N+A', 'gau']</td>\n",
              "    </tr>\n",
              "    <tr>\n",
              "      <th>C6A</th>\n",
              "      <td>['T10', 'T50', 'T90', 'N+A', 'gau']</td>\n",
              "    </tr>\n",
              "    <tr>\n",
              "      <th>C7NP</th>\n",
              "      <td>['T10', 'T50', 'T90', 'N+A', 'gau']</td>\n",
              "    </tr>\n",
              "    <tr>\n",
              "      <th>C7IP</th>\n",
              "      <td>['T10', 'T50', 'T90', 'N+A', 'gau']</td>\n",
              "    </tr>\n",
              "    <tr>\n",
              "      <th>C7N</th>\n",
              "      <td>['T10', 'T50', 'T90', 'N+A', 'gau']</td>\n",
              "    </tr>\n",
              "    <tr>\n",
              "      <th>C7A</th>\n",
              "      <td>['T10', 'T50', 'T90', 'N+A', 'gau']</td>\n",
              "    </tr>\n",
              "    <tr>\n",
              "      <th>C8NP</th>\n",
              "      <td>['T10', 'T50', 'T90', 'N+A', 'gau']</td>\n",
              "    </tr>\n",
              "    <tr>\n",
              "      <th>C8IP</th>\n",
              "      <td>['T10', 'T50', 'T90', 'N+A', 'gau']</td>\n",
              "    </tr>\n",
              "    <tr>\n",
              "      <th>C8N</th>\n",
              "      <td>['T10', 'T50', 'T90', 'N+A', 'gau']</td>\n",
              "    </tr>\n",
              "    <tr>\n",
              "      <th>C8A</th>\n",
              "      <td>['T10', 'T50', 'T90', 'N+A', 'gau']</td>\n",
              "    </tr>\n",
              "    <tr>\n",
              "      <th>C9NP</th>\n",
              "      <td>['T10', 'T50', 'T90', 'N+A', 'gau']</td>\n",
              "    </tr>\n",
              "    <tr>\n",
              "      <th>C9IP</th>\n",
              "      <td>['T10', 'T50', 'T90', 'N+A', 'gau']</td>\n",
              "    </tr>\n",
              "    <tr>\n",
              "      <th>C9N</th>\n",
              "      <td>['T10', 'T50', 'T90', 'N+A', 'gau']</td>\n",
              "    </tr>\n",
              "    <tr>\n",
              "      <th>C9A</th>\n",
              "      <td>['T10', 'T50', 'T90', 'N+A', 'gau']</td>\n",
              "    </tr>\n",
              "    <tr>\n",
              "      <th>C10NP</th>\n",
              "      <td>['T10', 'T50', 'T90', 'N+A', 'gau']</td>\n",
              "    </tr>\n",
              "    <tr>\n",
              "      <th>C10IP</th>\n",
              "      <td>['T10', 'T50', 'T90', 'N+A', 'gau']</td>\n",
              "    </tr>\n",
              "    <tr>\n",
              "      <th>C10N</th>\n",
              "      <td>['T10', 'T50', 'T90', 'N+A', 'gau']</td>\n",
              "    </tr>\n",
              "    <tr>\n",
              "      <th>C10A</th>\n",
              "      <td>['T10', 'T50', 'T90', 'N+A', 'gau']</td>\n",
              "    </tr>\n",
              "  </tbody>\n",
              "</table>\n",
              "</div>"
            ],
            "text/plain": [
              "                                  features\n",
              "C5NP   ['T10', 'T50', 'T90', 'N+A', 'gau']\n",
              "C5IP   ['T10', 'T50', 'T90', 'N+A', 'gau']\n",
              "C5N    ['T10', 'T50', 'T90', 'N+A', 'gau']\n",
              "C6NP   ['T10', 'T50', 'T90', 'N+A', 'gau']\n",
              "C6IP   ['T10', 'T50', 'T90', 'N+A', 'gau']\n",
              "C6N    ['T10', 'T50', 'T90', 'N+A', 'gau']\n",
              "C6A    ['T10', 'T50', 'T90', 'N+A', 'gau']\n",
              "C7NP   ['T10', 'T50', 'T90', 'N+A', 'gau']\n",
              "C7IP   ['T10', 'T50', 'T90', 'N+A', 'gau']\n",
              "C7N    ['T10', 'T50', 'T90', 'N+A', 'gau']\n",
              "C7A    ['T10', 'T50', 'T90', 'N+A', 'gau']\n",
              "C8NP   ['T10', 'T50', 'T90', 'N+A', 'gau']\n",
              "C8IP   ['T10', 'T50', 'T90', 'N+A', 'gau']\n",
              "C8N    ['T10', 'T50', 'T90', 'N+A', 'gau']\n",
              "C8A    ['T10', 'T50', 'T90', 'N+A', 'gau']\n",
              "C9NP   ['T10', 'T50', 'T90', 'N+A', 'gau']\n",
              "C9IP   ['T10', 'T50', 'T90', 'N+A', 'gau']\n",
              "C9N    ['T10', 'T50', 'T90', 'N+A', 'gau']\n",
              "C9A    ['T10', 'T50', 'T90', 'N+A', 'gau']\n",
              "C10NP  ['T10', 'T50', 'T90', 'N+A', 'gau']\n",
              "C10IP  ['T10', 'T50', 'T90', 'N+A', 'gau']\n",
              "C10N   ['T10', 'T50', 'T90', 'N+A', 'gau']\n",
              "C10A   ['T10', 'T50', 'T90', 'N+A', 'gau']"
            ]
          },
          "metadata": {
            "tags": []
          },
          "execution_count": 15
        }
      ]
    },
    {
      "cell_type": "markdown",
      "metadata": {
        "id": "LZYStMoAACM-",
        "colab_type": "text"
      },
      "source": [
        "# models"
      ]
    },
    {
      "cell_type": "code",
      "metadata": {
        "id": "3t28VwFXmADX",
        "colab_type": "code",
        "colab": {}
      },
      "source": [
        "svr = Pipeline([('scaler',StandardScaler()),('regressor',SVR(C=15))])\n",
        "cgb = CatBoostRegressor(n_estimators = 100,learning_rate = 0.1,verbose=False)\n",
        "lr = Pipeline([('scaler',StandardScaler()),('regressor',LinearRegression())])\n",
        "ridge = Pipeline([('scaler',StandardScaler()),('regressor',Ridge())])"
      ],
      "execution_count": 0,
      "outputs": []
    },
    {
      "cell_type": "markdown",
      "metadata": {
        "id": "_CxZjurydlgd",
        "colab_type": "text"
      },
      "source": [
        "# define model"
      ]
    },
    {
      "cell_type": "markdown",
      "metadata": {
        "id": "udMDC9i-t5U7",
        "colab_type": "text"
      },
      "source": [
        "# 測試"
      ]
    },
    {
      "cell_type": "code",
      "metadata": {
        "id": "R0l-FrhkU-pB",
        "colab_type": "code",
        "colab": {
          "base_uri": "https://localhost:8080/",
          "height": 218
        },
        "outputId": "13763abb-5866-479c-d435-1cf3f8b5b376"
      },
      "source": [
        "y_train_pred = pd.DataFrame(index = y_train.index,columns = y_columns)\n",
        "y_pred = pd.DataFrame(index = y_test.index,columns = y_columns)\n",
        "\n",
        "for y_name in y_columns:\n",
        "  \n",
        "  model = cgb\n",
        "  model.fit(X_train[features_map[y_name]].values,y_train[y_name].values)\n",
        "\n",
        "  y_train_pred[y_name] = model.predict(X_train[features_map[y_name]].values)\n",
        "  y_pred[y_name] = model.predict(X_test[features_map[y_name]].values)\n",
        "\n",
        "y_pred.head()  "
      ],
      "execution_count": 17,
      "outputs": [
        {
          "output_type": "execute_result",
          "data": {
            "text/html": [
              "<div>\n",
              "<style scoped>\n",
              "    .dataframe tbody tr th:only-of-type {\n",
              "        vertical-align: middle;\n",
              "    }\n",
              "\n",
              "    .dataframe tbody tr th {\n",
              "        vertical-align: top;\n",
              "    }\n",
              "\n",
              "    .dataframe thead th {\n",
              "        text-align: right;\n",
              "    }\n",
              "</style>\n",
              "<table border=\"1\" class=\"dataframe\">\n",
              "  <thead>\n",
              "    <tr style=\"text-align: right;\">\n",
              "      <th></th>\n",
              "      <th>C5NP</th>\n",
              "      <th>C5IP</th>\n",
              "      <th>C5N</th>\n",
              "      <th>C6NP</th>\n",
              "      <th>C6IP</th>\n",
              "      <th>C6N</th>\n",
              "      <th>C6A</th>\n",
              "      <th>C7NP</th>\n",
              "      <th>C7IP</th>\n",
              "      <th>C7N</th>\n",
              "      <th>C7A</th>\n",
              "      <th>C8NP</th>\n",
              "      <th>C8IP</th>\n",
              "      <th>C8N</th>\n",
              "      <th>C8A</th>\n",
              "      <th>C9NP</th>\n",
              "      <th>C9IP</th>\n",
              "      <th>C9N</th>\n",
              "      <th>C9A</th>\n",
              "      <th>C10NP</th>\n",
              "      <th>C10IP</th>\n",
              "      <th>C10N</th>\n",
              "      <th>C10A</th>\n",
              "    </tr>\n",
              "  </thead>\n",
              "  <tbody>\n",
              "    <tr>\n",
              "      <th>120</th>\n",
              "      <td>1.641890</td>\n",
              "      <td>1.057666</td>\n",
              "      <td>0.313020</td>\n",
              "      <td>3.104367</td>\n",
              "      <td>3.003040</td>\n",
              "      <td>6.194348</td>\n",
              "      <td>0.542752</td>\n",
              "      <td>5.236287</td>\n",
              "      <td>4.547948</td>\n",
              "      <td>18.709633</td>\n",
              "      <td>3.952896</td>\n",
              "      <td>6.999171</td>\n",
              "      <td>9.582560</td>\n",
              "      <td>9.338747</td>\n",
              "      <td>5.944836</td>\n",
              "      <td>3.861792</td>\n",
              "      <td>5.721447</td>\n",
              "      <td>4.083445</td>\n",
              "      <td>2.356433</td>\n",
              "      <td>1.033167</td>\n",
              "      <td>2.306894</td>\n",
              "      <td>0.385406</td>\n",
              "      <td>0.618350</td>\n",
              "    </tr>\n",
              "    <tr>\n",
              "      <th>125</th>\n",
              "      <td>1.807722</td>\n",
              "      <td>1.069676</td>\n",
              "      <td>0.330051</td>\n",
              "      <td>3.197231</td>\n",
              "      <td>3.095727</td>\n",
              "      <td>6.256499</td>\n",
              "      <td>0.527394</td>\n",
              "      <td>5.317145</td>\n",
              "      <td>4.491426</td>\n",
              "      <td>18.306230</td>\n",
              "      <td>3.604501</td>\n",
              "      <td>6.293094</td>\n",
              "      <td>9.360252</td>\n",
              "      <td>9.036276</td>\n",
              "      <td>5.245386</td>\n",
              "      <td>3.832512</td>\n",
              "      <td>5.644549</td>\n",
              "      <td>4.143022</td>\n",
              "      <td>2.479435</td>\n",
              "      <td>1.636212</td>\n",
              "      <td>2.845714</td>\n",
              "      <td>0.527149</td>\n",
              "      <td>1.137058</td>\n",
              "    </tr>\n",
              "    <tr>\n",
              "      <th>130</th>\n",
              "      <td>1.865228</td>\n",
              "      <td>1.136984</td>\n",
              "      <td>0.344121</td>\n",
              "      <td>3.122419</td>\n",
              "      <td>3.110165</td>\n",
              "      <td>6.205473</td>\n",
              "      <td>0.559952</td>\n",
              "      <td>5.299866</td>\n",
              "      <td>4.528448</td>\n",
              "      <td>18.706156</td>\n",
              "      <td>3.527170</td>\n",
              "      <td>6.072341</td>\n",
              "      <td>9.204695</td>\n",
              "      <td>9.140946</td>\n",
              "      <td>5.106274</td>\n",
              "      <td>3.822861</td>\n",
              "      <td>5.741507</td>\n",
              "      <td>4.180721</td>\n",
              "      <td>2.452160</td>\n",
              "      <td>1.383449</td>\n",
              "      <td>2.818178</td>\n",
              "      <td>0.480092</td>\n",
              "      <td>0.992397</td>\n",
              "    </tr>\n",
              "    <tr>\n",
              "      <th>135</th>\n",
              "      <td>0.949798</td>\n",
              "      <td>0.748726</td>\n",
              "      <td>0.216311</td>\n",
              "      <td>2.741838</td>\n",
              "      <td>2.335519</td>\n",
              "      <td>5.121142</td>\n",
              "      <td>0.595968</td>\n",
              "      <td>4.985652</td>\n",
              "      <td>4.775285</td>\n",
              "      <td>14.668557</td>\n",
              "      <td>4.043913</td>\n",
              "      <td>6.312032</td>\n",
              "      <td>8.671196</td>\n",
              "      <td>9.946124</td>\n",
              "      <td>5.904767</td>\n",
              "      <td>4.372643</td>\n",
              "      <td>7.586125</td>\n",
              "      <td>5.432854</td>\n",
              "      <td>3.387687</td>\n",
              "      <td>1.259632</td>\n",
              "      <td>3.840337</td>\n",
              "      <td>0.578751</td>\n",
              "      <td>0.986120</td>\n",
              "    </tr>\n",
              "    <tr>\n",
              "      <th>140</th>\n",
              "      <td>0.412194</td>\n",
              "      <td>0.240477</td>\n",
              "      <td>0.061396</td>\n",
              "      <td>0.951798</td>\n",
              "      <td>0.904522</td>\n",
              "      <td>5.673874</td>\n",
              "      <td>0.675749</td>\n",
              "      <td>6.553102</td>\n",
              "      <td>8.022211</td>\n",
              "      <td>26.574359</td>\n",
              "      <td>5.459215</td>\n",
              "      <td>5.084544</td>\n",
              "      <td>8.144873</td>\n",
              "      <td>9.200193</td>\n",
              "      <td>4.915230</td>\n",
              "      <td>2.152194</td>\n",
              "      <td>6.132764</td>\n",
              "      <td>4.235815</td>\n",
              "      <td>1.674051</td>\n",
              "      <td>0.524549</td>\n",
              "      <td>2.028791</td>\n",
              "      <td>0.425316</td>\n",
              "      <td>0.685395</td>\n",
              "    </tr>\n",
              "  </tbody>\n",
              "</table>\n",
              "</div>"
            ],
            "text/plain": [
              "         C5NP      C5IP       C5N  ...     C10IP      C10N      C10A\n",
              "120  1.641890  1.057666  0.313020  ...  2.306894  0.385406  0.618350\n",
              "125  1.807722  1.069676  0.330051  ...  2.845714  0.527149  1.137058\n",
              "130  1.865228  1.136984  0.344121  ...  2.818178  0.480092  0.992397\n",
              "135  0.949798  0.748726  0.216311  ...  3.840337  0.578751  0.986120\n",
              "140  0.412194  0.240477  0.061396  ...  2.028791  0.425316  0.685395\n",
              "\n",
              "[5 rows x 23 columns]"
            ]
          },
          "metadata": {
            "tags": []
          },
          "execution_count": 17
        }
      ]
    },
    {
      "cell_type": "code",
      "metadata": {
        "id": "_IOXUwtFY-dn",
        "colab_type": "code",
        "outputId": "86440a9d-2fcb-4bd2-831c-7e43a4c80d11",
        "colab": {
          "base_uri": "https://localhost:8080/",
          "height": 542
        }
      },
      "source": [
        "res = pd.DataFrame()\n",
        "for y_name in y_columns:\n",
        "  res = res.append(metric(y_train[y_name],y_train_pred[y_name],y_name))\n",
        "res.loc['AVG'] = res.mean()\n",
        "res.style.background_gradient()"
      ],
      "execution_count": 18,
      "outputs": [
        {
          "output_type": "execute_result",
          "data": {
            "text/html": [
              "<style  type=\"text/css\" >\n",
              "    #T_5b623536_2624_11ea_bf89_0242ac1c0002row0_col0 {\n",
              "            background-color:  #023858;\n",
              "            color:  #f1f1f1;\n",
              "        }    #T_5b623536_2624_11ea_bf89_0242ac1c0002row0_col1 {\n",
              "            background-color:  #a9bfdc;\n",
              "            color:  #000000;\n",
              "        }    #T_5b623536_2624_11ea_bf89_0242ac1c0002row0_col2 {\n",
              "            background-color:  #04649e;\n",
              "            color:  #f1f1f1;\n",
              "        }    #T_5b623536_2624_11ea_bf89_0242ac1c0002row1_col0 {\n",
              "            background-color:  #02395a;\n",
              "            color:  #f1f1f1;\n",
              "        }    #T_5b623536_2624_11ea_bf89_0242ac1c0002row1_col1 {\n",
              "            background-color:  #c8cde4;\n",
              "            color:  #000000;\n",
              "        }    #T_5b623536_2624_11ea_bf89_0242ac1c0002row1_col2 {\n",
              "            background-color:  #023858;\n",
              "            color:  #f1f1f1;\n",
              "        }    #T_5b623536_2624_11ea_bf89_0242ac1c0002row2_col0 {\n",
              "            background-color:  #023f64;\n",
              "            color:  #f1f1f1;\n",
              "        }    #T_5b623536_2624_11ea_bf89_0242ac1c0002row2_col1 {\n",
              "            background-color:  #fff7fb;\n",
              "            color:  #000000;\n",
              "        }    #T_5b623536_2624_11ea_bf89_0242ac1c0002row2_col2 {\n",
              "            background-color:  #dad9ea;\n",
              "            color:  #000000;\n",
              "        }    #T_5b623536_2624_11ea_bf89_0242ac1c0002row3_col0 {\n",
              "            background-color:  #045585;\n",
              "            color:  #f1f1f1;\n",
              "        }    #T_5b623536_2624_11ea_bf89_0242ac1c0002row3_col1 {\n",
              "            background-color:  #c2cbe2;\n",
              "            color:  #000000;\n",
              "        }    #T_5b623536_2624_11ea_bf89_0242ac1c0002row3_col2 {\n",
              "            background-color:  #dedcec;\n",
              "            color:  #000000;\n",
              "        }    #T_5b623536_2624_11ea_bf89_0242ac1c0002row4_col0 {\n",
              "            background-color:  #023f64;\n",
              "            color:  #f1f1f1;\n",
              "        }    #T_5b623536_2624_11ea_bf89_0242ac1c0002row4_col1 {\n",
              "            background-color:  #c5cce3;\n",
              "            color:  #000000;\n",
              "        }    #T_5b623536_2624_11ea_bf89_0242ac1c0002row4_col2 {\n",
              "            background-color:  #c8cde4;\n",
              "            color:  #000000;\n",
              "        }    #T_5b623536_2624_11ea_bf89_0242ac1c0002row5_col0 {\n",
              "            background-color:  #1b7eb7;\n",
              "            color:  #000000;\n",
              "        }    #T_5b623536_2624_11ea_bf89_0242ac1c0002row5_col1 {\n",
              "            background-color:  #8bb2d4;\n",
              "            color:  #000000;\n",
              "        }    #T_5b623536_2624_11ea_bf89_0242ac1c0002row5_col2 {\n",
              "            background-color:  #fbf4f9;\n",
              "            color:  #000000;\n",
              "        }    #T_5b623536_2624_11ea_bf89_0242ac1c0002row6_col0 {\n",
              "            background-color:  #187cb6;\n",
              "            color:  #000000;\n",
              "        }    #T_5b623536_2624_11ea_bf89_0242ac1c0002row6_col1 {\n",
              "            background-color:  #ced0e6;\n",
              "            color:  #000000;\n",
              "        }    #T_5b623536_2624_11ea_bf89_0242ac1c0002row6_col2 {\n",
              "            background-color:  #c0c9e2;\n",
              "            color:  #000000;\n",
              "        }    #T_5b623536_2624_11ea_bf89_0242ac1c0002row7_col0 {\n",
              "            background-color:  #88b1d4;\n",
              "            color:  #000000;\n",
              "        }    #T_5b623536_2624_11ea_bf89_0242ac1c0002row7_col1 {\n",
              "            background-color:  #c6cce3;\n",
              "            color:  #000000;\n",
              "        }    #T_5b623536_2624_11ea_bf89_0242ac1c0002row7_col2 {\n",
              "            background-color:  #fff7fb;\n",
              "            color:  #000000;\n",
              "        }    #T_5b623536_2624_11ea_bf89_0242ac1c0002row8_col0 {\n",
              "            background-color:  #529bc7;\n",
              "            color:  #000000;\n",
              "        }    #T_5b623536_2624_11ea_bf89_0242ac1c0002row8_col1 {\n",
              "            background-color:  #a9bfdc;\n",
              "            color:  #000000;\n",
              "        }    #T_5b623536_2624_11ea_bf89_0242ac1c0002row8_col2 {\n",
              "            background-color:  #fef6fb;\n",
              "            color:  #000000;\n",
              "        }    #T_5b623536_2624_11ea_bf89_0242ac1c0002row9_col0 {\n",
              "            background-color:  #046096;\n",
              "            color:  #f1f1f1;\n",
              "        }    #T_5b623536_2624_11ea_bf89_0242ac1c0002row9_col1 {\n",
              "            background-color:  #023858;\n",
              "            color:  #f1f1f1;\n",
              "        }    #T_5b623536_2624_11ea_bf89_0242ac1c0002row9_col2 {\n",
              "            background-color:  #fef6fa;\n",
              "            color:  #000000;\n",
              "        }    #T_5b623536_2624_11ea_bf89_0242ac1c0002row10_col0 {\n",
              "            background-color:  #fff7fb;\n",
              "            color:  #000000;\n",
              "        }    #T_5b623536_2624_11ea_bf89_0242ac1c0002row10_col1 {\n",
              "            background-color:  #7bacd1;\n",
              "            color:  #000000;\n",
              "        }    #T_5b623536_2624_11ea_bf89_0242ac1c0002row10_col2 {\n",
              "            background-color:  #f9f2f8;\n",
              "            color:  #000000;\n",
              "        }    #T_5b623536_2624_11ea_bf89_0242ac1c0002row11_col0 {\n",
              "            background-color:  #358fc0;\n",
              "            color:  #000000;\n",
              "        }    #T_5b623536_2624_11ea_bf89_0242ac1c0002row11_col1 {\n",
              "            background-color:  #acc0dd;\n",
              "            color:  #000000;\n",
              "        }    #T_5b623536_2624_11ea_bf89_0242ac1c0002row11_col2 {\n",
              "            background-color:  #fef6fa;\n",
              "            color:  #000000;\n",
              "        }    #T_5b623536_2624_11ea_bf89_0242ac1c0002row12_col0 {\n",
              "            background-color:  #9cb9d9;\n",
              "            color:  #000000;\n",
              "        }    #T_5b623536_2624_11ea_bf89_0242ac1c0002row12_col1 {\n",
              "            background-color:  #056ead;\n",
              "            color:  #f1f1f1;\n",
              "        }    #T_5b623536_2624_11ea_bf89_0242ac1c0002row12_col2 {\n",
              "            background-color:  #f7f0f7;\n",
              "            color:  #000000;\n",
              "        }    #T_5b623536_2624_11ea_bf89_0242ac1c0002row13_col0 {\n",
              "            background-color:  #65a3cb;\n",
              "            color:  #000000;\n",
              "        }    #T_5b623536_2624_11ea_bf89_0242ac1c0002row13_col1 {\n",
              "            background-color:  #034e7b;\n",
              "            color:  #f1f1f1;\n",
              "        }    #T_5b623536_2624_11ea_bf89_0242ac1c0002row13_col2 {\n",
              "            background-color:  #faf2f8;\n",
              "            color:  #000000;\n",
              "        }    #T_5b623536_2624_11ea_bf89_0242ac1c0002row14_col0 {\n",
              "            background-color:  #d2d3e7;\n",
              "            color:  #000000;\n",
              "        }    #T_5b623536_2624_11ea_bf89_0242ac1c0002row14_col1 {\n",
              "            background-color:  #75a9cf;\n",
              "            color:  #000000;\n",
              "        }    #T_5b623536_2624_11ea_bf89_0242ac1c0002row14_col2 {\n",
              "            background-color:  #fbf3f9;\n",
              "            color:  #000000;\n",
              "        }    #T_5b623536_2624_11ea_bf89_0242ac1c0002row15_col0 {\n",
              "            background-color:  #cccfe5;\n",
              "            color:  #000000;\n",
              "        }    #T_5b623536_2624_11ea_bf89_0242ac1c0002row15_col1 {\n",
              "            background-color:  #86b0d3;\n",
              "            color:  #000000;\n",
              "        }    #T_5b623536_2624_11ea_bf89_0242ac1c0002row15_col2 {\n",
              "            background-color:  #03466e;\n",
              "            color:  #f1f1f1;\n",
              "        }    #T_5b623536_2624_11ea_bf89_0242ac1c0002row16_col0 {\n",
              "            background-color:  #a7bddb;\n",
              "            color:  #000000;\n",
              "        }    #T_5b623536_2624_11ea_bf89_0242ac1c0002row16_col1 {\n",
              "            background-color:  #348ebf;\n",
              "            color:  #000000;\n",
              "        }    #T_5b623536_2624_11ea_bf89_0242ac1c0002row16_col2 {\n",
              "            background-color:  #faf3f9;\n",
              "            color:  #000000;\n",
              "        }    #T_5b623536_2624_11ea_bf89_0242ac1c0002row17_col0 {\n",
              "            background-color:  #e1dfed;\n",
              "            color:  #000000;\n",
              "        }    #T_5b623536_2624_11ea_bf89_0242ac1c0002row17_col1 {\n",
              "            background-color:  #73a9cf;\n",
              "            color:  #000000;\n",
              "        }    #T_5b623536_2624_11ea_bf89_0242ac1c0002row17_col2 {\n",
              "            background-color:  #f7f0f7;\n",
              "            color:  #000000;\n",
              "        }    #T_5b623536_2624_11ea_bf89_0242ac1c0002row18_col0 {\n",
              "            background-color:  #69a5cc;\n",
              "            color:  #000000;\n",
              "        }    #T_5b623536_2624_11ea_bf89_0242ac1c0002row18_col1 {\n",
              "            background-color:  #d2d3e7;\n",
              "            color:  #000000;\n",
              "        }    #T_5b623536_2624_11ea_bf89_0242ac1c0002row18_col2 {\n",
              "            background-color:  #f4edf6;\n",
              "            color:  #000000;\n",
              "        }    #T_5b623536_2624_11ea_bf89_0242ac1c0002row19_col0 {\n",
              "            background-color:  #0570b0;\n",
              "            color:  #f1f1f1;\n",
              "        }    #T_5b623536_2624_11ea_bf89_0242ac1c0002row19_col1 {\n",
              "            background-color:  #e6e2ef;\n",
              "            color:  #000000;\n",
              "        }    #T_5b623536_2624_11ea_bf89_0242ac1c0002row19_col2 {\n",
              "            background-color:  #c2cbe2;\n",
              "            color:  #000000;\n",
              "        }    #T_5b623536_2624_11ea_bf89_0242ac1c0002row20_col0 {\n",
              "            background-color:  #5c9fc9;\n",
              "            color:  #000000;\n",
              "        }    #T_5b623536_2624_11ea_bf89_0242ac1c0002row20_col1 {\n",
              "            background-color:  #a4bcda;\n",
              "            color:  #000000;\n",
              "        }    #T_5b623536_2624_11ea_bf89_0242ac1c0002row20_col2 {\n",
              "            background-color:  #f0eaf4;\n",
              "            color:  #000000;\n",
              "        }    #T_5b623536_2624_11ea_bf89_0242ac1c0002row21_col0 {\n",
              "            background-color:  #e6e2ef;\n",
              "            color:  #000000;\n",
              "        }    #T_5b623536_2624_11ea_bf89_0242ac1c0002row21_col1 {\n",
              "            background-color:  #f5eef6;\n",
              "            color:  #000000;\n",
              "        }    #T_5b623536_2624_11ea_bf89_0242ac1c0002row21_col2 {\n",
              "            background-color:  #9ebad9;\n",
              "            color:  #000000;\n",
              "        }    #T_5b623536_2624_11ea_bf89_0242ac1c0002row22_col0 {\n",
              "            background-color:  #0567a1;\n",
              "            color:  #f1f1f1;\n",
              "        }    #T_5b623536_2624_11ea_bf89_0242ac1c0002row22_col1 {\n",
              "            background-color:  #e8e4f0;\n",
              "            color:  #000000;\n",
              "        }    #T_5b623536_2624_11ea_bf89_0242ac1c0002row22_col2 {\n",
              "            background-color:  #b8c6e0;\n",
              "            color:  #000000;\n",
              "        }    #T_5b623536_2624_11ea_bf89_0242ac1c0002row23_col0 {\n",
              "            background-color:  #4a98c5;\n",
              "            color:  #000000;\n",
              "        }    #T_5b623536_2624_11ea_bf89_0242ac1c0002row23_col1 {\n",
              "            background-color:  #9ebad9;\n",
              "            color:  #000000;\n",
              "        }    #T_5b623536_2624_11ea_bf89_0242ac1c0002row23_col2 {\n",
              "            background-color:  #d5d5e8;\n",
              "            color:  #000000;\n",
              "        }</style><table id=\"T_5b623536_2624_11ea_bf89_0242ac1c0002\" ><thead>    <tr>        <th class=\"blank level0\" ></th>        <th class=\"col_heading level0 col0\" >R2</th>        <th class=\"col_heading level0 col1\" >RMSE</th>        <th class=\"col_heading level0 col2\" >MAPE</th>    </tr></thead><tbody>\n",
              "                <tr>\n",
              "                        <th id=\"T_5b623536_2624_11ea_bf89_0242ac1c0002level0_row0\" class=\"row_heading level0 row0\" >C5NP</th>\n",
              "                        <td id=\"T_5b623536_2624_11ea_bf89_0242ac1c0002row0_col0\" class=\"data row0 col0\" >0.991939</td>\n",
              "                        <td id=\"T_5b623536_2624_11ea_bf89_0242ac1c0002row0_col1\" class=\"data row0 col1\" >0.358683</td>\n",
              "                        <td id=\"T_5b623536_2624_11ea_bf89_0242ac1c0002row0_col2\" class=\"data row0 col2\" >0.925357</td>\n",
              "            </tr>\n",
              "            <tr>\n",
              "                        <th id=\"T_5b623536_2624_11ea_bf89_0242ac1c0002level0_row1\" class=\"row_heading level0 row1\" >C5IP</th>\n",
              "                        <td id=\"T_5b623536_2624_11ea_bf89_0242ac1c0002row1_col0\" class=\"data row1 col0\" >0.991476</td>\n",
              "                        <td id=\"T_5b623536_2624_11ea_bf89_0242ac1c0002row1_col1\" class=\"data row1 col1\" >0.279912</td>\n",
              "                        <td id=\"T_5b623536_2624_11ea_bf89_0242ac1c0002row1_col2\" class=\"data row1 col2\" >1.12533</td>\n",
              "            </tr>\n",
              "            <tr>\n",
              "                        <th id=\"T_5b623536_2624_11ea_bf89_0242ac1c0002level0_row2\" class=\"row_heading level0 row2\" >C5N</th>\n",
              "                        <td id=\"T_5b623536_2624_11ea_bf89_0242ac1c0002row2_col0\" class=\"data row2 col0\" >0.988554</td>\n",
              "                        <td id=\"T_5b623536_2624_11ea_bf89_0242ac1c0002row2_col1\" class=\"data row2 col1\" >0.0360244</td>\n",
              "                        <td id=\"T_5b623536_2624_11ea_bf89_0242ac1c0002row2_col2\" class=\"data row2 col2\" >0.262956</td>\n",
              "            </tr>\n",
              "            <tr>\n",
              "                        <th id=\"T_5b623536_2624_11ea_bf89_0242ac1c0002level0_row3\" class=\"row_heading level0 row3\" >C6NP</th>\n",
              "                        <td id=\"T_5b623536_2624_11ea_bf89_0242ac1c0002row3_col0\" class=\"data row3 col0\" >0.979241</td>\n",
              "                        <td id=\"T_5b623536_2624_11ea_bf89_0242ac1c0002row3_col1\" class=\"data row3 col1\" >0.293099</td>\n",
              "                        <td id=\"T_5b623536_2624_11ea_bf89_0242ac1c0002row3_col2\" class=\"data row3 col2\" >0.246605</td>\n",
              "            </tr>\n",
              "            <tr>\n",
              "                        <th id=\"T_5b623536_2624_11ea_bf89_0242ac1c0002level0_row4\" class=\"row_heading level0 row4\" >C6IP</th>\n",
              "                        <td id=\"T_5b623536_2624_11ea_bf89_0242ac1c0002row4_col0\" class=\"data row4 col0\" >0.988484</td>\n",
              "                        <td id=\"T_5b623536_2624_11ea_bf89_0242ac1c0002row4_col1\" class=\"data row4 col1\" >0.287278</td>\n",
              "                        <td id=\"T_5b623536_2624_11ea_bf89_0242ac1c0002row4_col2\" class=\"data row4 col2\" >0.339216</td>\n",
              "            </tr>\n",
              "            <tr>\n",
              "                        <th id=\"T_5b623536_2624_11ea_bf89_0242ac1c0002level0_row5\" class=\"row_heading level0 row5\" >C6N</th>\n",
              "                        <td id=\"T_5b623536_2624_11ea_bf89_0242ac1c0002row5_col0\" class=\"data row5 col0\" >0.955935</td>\n",
              "                        <td id=\"T_5b623536_2624_11ea_bf89_0242ac1c0002row5_col1\" class=\"data row5 col1\" >0.428502</td>\n",
              "                        <td id=\"T_5b623536_2624_11ea_bf89_0242ac1c0002row5_col2\" class=\"data row5 col2\" >0.0662054</td>\n",
              "            </tr>\n",
              "            <tr>\n",
              "                        <th id=\"T_5b623536_2624_11ea_bf89_0242ac1c0002level0_row6\" class=\"row_heading level0 row6\" >C6A</th>\n",
              "                        <td id=\"T_5b623536_2624_11ea_bf89_0242ac1c0002row6_col0\" class=\"data row6 col0\" >0.957026</td>\n",
              "                        <td id=\"T_5b623536_2624_11ea_bf89_0242ac1c0002row6_col1\" class=\"data row6 col1\" >0.262956</td>\n",
              "                        <td id=\"T_5b623536_2624_11ea_bf89_0242ac1c0002row6_col2\" class=\"data row6 col2\" >0.361498</td>\n",
              "            </tr>\n",
              "            <tr>\n",
              "                        <th id=\"T_5b623536_2624_11ea_bf89_0242ac1c0002level0_row7\" class=\"row_heading level0 row7\" >C7NP</th>\n",
              "                        <td id=\"T_5b623536_2624_11ea_bf89_0242ac1c0002row7_col0\" class=\"data row7 col0\" >0.927854</td>\n",
              "                        <td id=\"T_5b623536_2624_11ea_bf89_0242ac1c0002row7_col1\" class=\"data row7 col1\" >0.283147</td>\n",
              "                        <td id=\"T_5b623536_2624_11ea_bf89_0242ac1c0002row7_col2\" class=\"data row7 col2\" >0.0387101</td>\n",
              "            </tr>\n",
              "            <tr>\n",
              "                        <th id=\"T_5b623536_2624_11ea_bf89_0242ac1c0002level0_row8\" class=\"row_heading level0 row8\" >C7IP</th>\n",
              "                        <td id=\"T_5b623536_2624_11ea_bf89_0242ac1c0002row8_col0\" class=\"data row8 col0\" >0.941313</td>\n",
              "                        <td id=\"T_5b623536_2624_11ea_bf89_0242ac1c0002row8_col1\" class=\"data row8 col1\" >0.360411</td>\n",
              "                        <td id=\"T_5b623536_2624_11ea_bf89_0242ac1c0002row8_col2\" class=\"data row8 col2\" >0.0470493</td>\n",
              "            </tr>\n",
              "            <tr>\n",
              "                        <th id=\"T_5b623536_2624_11ea_bf89_0242ac1c0002level0_row9\" class=\"row_heading level0 row9\" >C7N</th>\n",
              "                        <td id=\"T_5b623536_2624_11ea_bf89_0242ac1c0002row9_col0\" class=\"data row9 col0\" >0.973435</td>\n",
              "                        <td id=\"T_5b623536_2624_11ea_bf89_0242ac1c0002row9_col1\" class=\"data row9 col1\" >0.920669</td>\n",
              "                        <td id=\"T_5b623536_2624_11ea_bf89_0242ac1c0002row9_col2\" class=\"data row9 col2\" >0.0502708</td>\n",
              "            </tr>\n",
              "            <tr>\n",
              "                        <th id=\"T_5b623536_2624_11ea_bf89_0242ac1c0002level0_row10\" class=\"row_heading level0 row10\" >C7A</th>\n",
              "                        <td id=\"T_5b623536_2624_11ea_bf89_0242ac1c0002row10_col0\" class=\"data row10 col0\" >0.875093</td>\n",
              "                        <td id=\"T_5b623536_2624_11ea_bf89_0242ac1c0002row10_col1\" class=\"data row10 col1\" >0.462755</td>\n",
              "                        <td id=\"T_5b623536_2624_11ea_bf89_0242ac1c0002row10_col2\" class=\"data row10 col2\" >0.0846872</td>\n",
              "            </tr>\n",
              "            <tr>\n",
              "                        <th id=\"T_5b623536_2624_11ea_bf89_0242ac1c0002level0_row11\" class=\"row_heading level0 row11\" >C8NP</th>\n",
              "                        <td id=\"T_5b623536_2624_11ea_bf89_0242ac1c0002row11_col0\" class=\"data row11 col0\" >0.948371</td>\n",
              "                        <td id=\"T_5b623536_2624_11ea_bf89_0242ac1c0002row11_col1\" class=\"data row11 col1\" >0.352951</td>\n",
              "                        <td id=\"T_5b623536_2624_11ea_bf89_0242ac1c0002row11_col2\" class=\"data row11 col2\" >0.0500601</td>\n",
              "            </tr>\n",
              "            <tr>\n",
              "                        <th id=\"T_5b623536_2624_11ea_bf89_0242ac1c0002level0_row12\" class=\"row_heading level0 row12\" >C8IP</th>\n",
              "                        <td id=\"T_5b623536_2624_11ea_bf89_0242ac1c0002row12_col0\" class=\"data row12 col0\" >0.922043</td>\n",
              "                        <td id=\"T_5b623536_2624_11ea_bf89_0242ac1c0002row12_col1\" class=\"data row12 col1\" >0.706793</td>\n",
              "                        <td id=\"T_5b623536_2624_11ea_bf89_0242ac1c0002row12_col2\" class=\"data row12 col2\" >0.0982255</td>\n",
              "            </tr>\n",
              "            <tr>\n",
              "                        <th id=\"T_5b623536_2624_11ea_bf89_0242ac1c0002level0_row13\" class=\"row_heading level0 row13\" >C8N</th>\n",
              "                        <td id=\"T_5b623536_2624_11ea_bf89_0242ac1c0002row13_col0\" class=\"data row13 col0\" >0.936961</td>\n",
              "                        <td id=\"T_5b623536_2624_11ea_bf89_0242ac1c0002row13_col1\" class=\"data row13 col1\" >0.84475</td>\n",
              "                        <td id=\"T_5b623536_2624_11ea_bf89_0242ac1c0002row13_col2\" class=\"data row13 col2\" >0.0803963</td>\n",
              "            </tr>\n",
              "            <tr>\n",
              "                        <th id=\"T_5b623536_2624_11ea_bf89_0242ac1c0002level0_row14\" class=\"row_heading level0 row14\" >C8A</th>\n",
              "                        <td id=\"T_5b623536_2624_11ea_bf89_0242ac1c0002row14_col0\" class=\"data row14 col0\" >0.903015</td>\n",
              "                        <td id=\"T_5b623536_2624_11ea_bf89_0242ac1c0002row14_col1\" class=\"data row14 col1\" >0.478136</td>\n",
              "                        <td id=\"T_5b623536_2624_11ea_bf89_0242ac1c0002row14_col2\" class=\"data row14 col2\" >0.0719866</td>\n",
              "            </tr>\n",
              "            <tr>\n",
              "                        <th id=\"T_5b623536_2624_11ea_bf89_0242ac1c0002level0_row15\" class=\"row_heading level0 row15\" >C9NP</th>\n",
              "                        <td id=\"T_5b623536_2624_11ea_bf89_0242ac1c0002row15_col0\" class=\"data row15 col0\" >0.906112</td>\n",
              "                        <td id=\"T_5b623536_2624_11ea_bf89_0242ac1c0002row15_col1\" class=\"data row15 col1\" >0.439311</td>\n",
              "                        <td id=\"T_5b623536_2624_11ea_bf89_0242ac1c0002row15_col2\" class=\"data row15 col2\" >1.06954</td>\n",
              "            </tr>\n",
              "            <tr>\n",
              "                        <th id=\"T_5b623536_2624_11ea_bf89_0242ac1c0002level0_row16\" class=\"row_heading level0 row16\" >C9IP</th>\n",
              "                        <td id=\"T_5b623536_2624_11ea_bf89_0242ac1c0002row16_col0\" class=\"data row16 col0\" >0.918454</td>\n",
              "                        <td id=\"T_5b623536_2624_11ea_bf89_0242ac1c0002row16_col1\" class=\"data row16 col1\" >0.593649</td>\n",
              "                        <td id=\"T_5b623536_2624_11ea_bf89_0242ac1c0002row16_col2\" class=\"data row16 col2\" >0.0726944</td>\n",
              "            </tr>\n",
              "            <tr>\n",
              "                        <th id=\"T_5b623536_2624_11ea_bf89_0242ac1c0002level0_row17\" class=\"row_heading level0 row17\" >C9N</th>\n",
              "                        <td id=\"T_5b623536_2624_11ea_bf89_0242ac1c0002row17_col0\" class=\"data row17 col0\" >0.895301</td>\n",
              "                        <td id=\"T_5b623536_2624_11ea_bf89_0242ac1c0002row17_col1\" class=\"data row17 col1\" >0.481191</td>\n",
              "                        <td id=\"T_5b623536_2624_11ea_bf89_0242ac1c0002row17_col2\" class=\"data row17 col2\" >0.0975654</td>\n",
              "            </tr>\n",
              "            <tr>\n",
              "                        <th id=\"T_5b623536_2624_11ea_bf89_0242ac1c0002level0_row18\" class=\"row_heading level0 row18\" >C9A</th>\n",
              "                        <td id=\"T_5b623536_2624_11ea_bf89_0242ac1c0002row18_col0\" class=\"data row18 col0\" >0.936219</td>\n",
              "                        <td id=\"T_5b623536_2624_11ea_bf89_0242ac1c0002row18_col1\" class=\"data row18 col1\" >0.248615</td>\n",
              "                        <td id=\"T_5b623536_2624_11ea_bf89_0242ac1c0002row18_col2\" class=\"data row18 col2\" >0.122841</td>\n",
              "            </tr>\n",
              "            <tr>\n",
              "                        <th id=\"T_5b623536_2624_11ea_bf89_0242ac1c0002level0_row19\" class=\"row_heading level0 row19\" >C10NP</th>\n",
              "                        <td id=\"T_5b623536_2624_11ea_bf89_0242ac1c0002row19_col0\" class=\"data row19 col0\" >0.962392</td>\n",
              "                        <td id=\"T_5b623536_2624_11ea_bf89_0242ac1c0002row19_col1\" class=\"data row19 col1\" >0.170971</td>\n",
              "                        <td id=\"T_5b623536_2624_11ea_bf89_0242ac1c0002row19_col2\" class=\"data row19 col2\" >0.353607</td>\n",
              "            </tr>\n",
              "            <tr>\n",
              "                        <th id=\"T_5b623536_2624_11ea_bf89_0242ac1c0002level0_row20\" class=\"row_heading level0 row20\" >C10IP</th>\n",
              "                        <td id=\"T_5b623536_2624_11ea_bf89_0242ac1c0002row20_col0\" class=\"data row20 col0\" >0.939275</td>\n",
              "                        <td id=\"T_5b623536_2624_11ea_bf89_0242ac1c0002row20_col1\" class=\"data row20 col1\" >0.372097</td>\n",
              "                        <td id=\"T_5b623536_2624_11ea_bf89_0242ac1c0002row20_col2\" class=\"data row20 col2\" >0.147527</td>\n",
              "            </tr>\n",
              "            <tr>\n",
              "                        <th id=\"T_5b623536_2624_11ea_bf89_0242ac1c0002level0_row21\" class=\"row_heading level0 row21\" >C10N</th>\n",
              "                        <td id=\"T_5b623536_2624_11ea_bf89_0242ac1c0002row21_col0\" class=\"data row21 col0\" >0.893127</td>\n",
              "                        <td id=\"T_5b623536_2624_11ea_bf89_0242ac1c0002row21_col1\" class=\"data row21 col1\" >0.0970928</td>\n",
              "                        <td id=\"T_5b623536_2624_11ea_bf89_0242ac1c0002row21_col2\" class=\"data row21 col2\" >0.469413</td>\n",
              "            </tr>\n",
              "            <tr>\n",
              "                        <th id=\"T_5b623536_2624_11ea_bf89_0242ac1c0002level0_row22\" class=\"row_heading level0 row22\" >C10A</th>\n",
              "                        <td id=\"T_5b623536_2624_11ea_bf89_0242ac1c0002row22_col0\" class=\"data row22 col0\" >0.968772</td>\n",
              "                        <td id=\"T_5b623536_2624_11ea_bf89_0242ac1c0002row22_col1\" class=\"data row22 col1\" >0.161409</td>\n",
              "                        <td id=\"T_5b623536_2624_11ea_bf89_0242ac1c0002row22_col2\" class=\"data row22 col2\" >0.387021</td>\n",
              "            </tr>\n",
              "            <tr>\n",
              "                        <th id=\"T_5b623536_2624_11ea_bf89_0242ac1c0002level0_row23\" class=\"row_heading level0 row23\" >AVG</th>\n",
              "                        <td id=\"T_5b623536_2624_11ea_bf89_0242ac1c0002row23_col0\" class=\"data row23 col0\" >0.943495</td>\n",
              "                        <td id=\"T_5b623536_2624_11ea_bf89_0242ac1c0002row23_col1\" class=\"data row23 col1\" >0.387844</td>\n",
              "                        <td id=\"T_5b623536_2624_11ea_bf89_0242ac1c0002row23_col2\" class=\"data row23 col2\" >0.285598</td>\n",
              "            </tr>\n",
              "    </tbody></table>"
            ],
            "text/plain": [
              "<pandas.io.formats.style.Styler at 0x7fe1a9ef6b00>"
            ]
          },
          "metadata": {
            "tags": []
          },
          "execution_count": 18
        }
      ]
    },
    {
      "cell_type": "code",
      "metadata": {
        "id": "VuP8us67U18q",
        "colab_type": "code",
        "outputId": "d98180c6-1330-4f12-de3a-8ac1e026beaf",
        "colab": {
          "base_uri": "https://localhost:8080/",
          "height": 542
        }
      },
      "source": [
        "res = pd.DataFrame()\n",
        "for y_name in y_columns:\n",
        "  res = res.append(metric(y_test[y_name],y_pred[y_name],y_name))\n",
        "res.loc['AVG'] = res.mean()\n",
        "res.style.background_gradient()"
      ],
      "execution_count": 19,
      "outputs": [
        {
          "output_type": "execute_result",
          "data": {
            "text/html": [
              "<style  type=\"text/css\" >\n",
              "    #T_5b70af94_2624_11ea_bf89_0242ac1c0002row0_col0 {\n",
              "            background-color:  #023f64;\n",
              "            color:  #f1f1f1;\n",
              "        }    #T_5b70af94_2624_11ea_bf89_0242ac1c0002row0_col1 {\n",
              "            background-color:  #b9c6e0;\n",
              "            color:  #000000;\n",
              "        }    #T_5b70af94_2624_11ea_bf89_0242ac1c0002row0_col2 {\n",
              "            background-color:  #d8d7e9;\n",
              "            color:  #000000;\n",
              "        }    #T_5b70af94_2624_11ea_bf89_0242ac1c0002row1_col0 {\n",
              "            background-color:  #023858;\n",
              "            color:  #f1f1f1;\n",
              "        }    #T_5b70af94_2624_11ea_bf89_0242ac1c0002row1_col1 {\n",
              "            background-color:  #ede8f3;\n",
              "            color:  #000000;\n",
              "        }    #T_5b70af94_2624_11ea_bf89_0242ac1c0002row1_col2 {\n",
              "            background-color:  #e1dfed;\n",
              "            color:  #000000;\n",
              "        }    #T_5b70af94_2624_11ea_bf89_0242ac1c0002row2_col0 {\n",
              "            background-color:  #034871;\n",
              "            color:  #f1f1f1;\n",
              "        }    #T_5b70af94_2624_11ea_bf89_0242ac1c0002row2_col1 {\n",
              "            background-color:  #fff7fb;\n",
              "            color:  #000000;\n",
              "        }    #T_5b70af94_2624_11ea_bf89_0242ac1c0002row2_col2 {\n",
              "            background-color:  #dfddec;\n",
              "            color:  #000000;\n",
              "        }    #T_5b70af94_2624_11ea_bf89_0242ac1c0002row3_col0 {\n",
              "            background-color:  #034c78;\n",
              "            color:  #f1f1f1;\n",
              "        }    #T_5b70af94_2624_11ea_bf89_0242ac1c0002row3_col1 {\n",
              "            background-color:  #d1d2e6;\n",
              "            color:  #000000;\n",
              "        }    #T_5b70af94_2624_11ea_bf89_0242ac1c0002row3_col2 {\n",
              "            background-color:  #c6cce3;\n",
              "            color:  #000000;\n",
              "        }    #T_5b70af94_2624_11ea_bf89_0242ac1c0002row4_col0 {\n",
              "            background-color:  #045585;\n",
              "            color:  #f1f1f1;\n",
              "        }    #T_5b70af94_2624_11ea_bf89_0242ac1c0002row4_col1 {\n",
              "            background-color:  #c4cbe3;\n",
              "            color:  #000000;\n",
              "        }    #T_5b70af94_2624_11ea_bf89_0242ac1c0002row4_col2 {\n",
              "            background-color:  #dcdaeb;\n",
              "            color:  #000000;\n",
              "        }    #T_5b70af94_2624_11ea_bf89_0242ac1c0002row5_col0 {\n",
              "            background-color:  #0d75b3;\n",
              "            color:  #f1f1f1;\n",
              "        }    #T_5b70af94_2624_11ea_bf89_0242ac1c0002row5_col1 {\n",
              "            background-color:  #056fae;\n",
              "            color:  #f1f1f1;\n",
              "        }    #T_5b70af94_2624_11ea_bf89_0242ac1c0002row5_col2 {\n",
              "            background-color:  #cccfe5;\n",
              "            color:  #000000;\n",
              "        }    #T_5b70af94_2624_11ea_bf89_0242ac1c0002row6_col0 {\n",
              "            background-color:  #fbf3f9;\n",
              "            color:  #000000;\n",
              "        }    #T_5b70af94_2624_11ea_bf89_0242ac1c0002row6_col1 {\n",
              "            background-color:  #f1ebf5;\n",
              "            color:  #000000;\n",
              "        }    #T_5b70af94_2624_11ea_bf89_0242ac1c0002row6_col2 {\n",
              "            background-color:  #1c7fb8;\n",
              "            color:  #000000;\n",
              "        }    #T_5b70af94_2624_11ea_bf89_0242ac1c0002row7_col0 {\n",
              "            background-color:  #056caa;\n",
              "            color:  #f1f1f1;\n",
              "        }    #T_5b70af94_2624_11ea_bf89_0242ac1c0002row7_col1 {\n",
              "            background-color:  #e2dfee;\n",
              "            color:  #000000;\n",
              "        }    #T_5b70af94_2624_11ea_bf89_0242ac1c0002row7_col2 {\n",
              "            background-color:  #fff7fb;\n",
              "            color:  #000000;\n",
              "        }    #T_5b70af94_2624_11ea_bf89_0242ac1c0002row8_col0 {\n",
              "            background-color:  #03446a;\n",
              "            color:  #f1f1f1;\n",
              "        }    #T_5b70af94_2624_11ea_bf89_0242ac1c0002row8_col1 {\n",
              "            background-color:  #c6cce3;\n",
              "            color:  #000000;\n",
              "        }    #T_5b70af94_2624_11ea_bf89_0242ac1c0002row8_col2 {\n",
              "            background-color:  #fbf3f9;\n",
              "            color:  #000000;\n",
              "        }    #T_5b70af94_2624_11ea_bf89_0242ac1c0002row9_col0 {\n",
              "            background-color:  #034b76;\n",
              "            color:  #f1f1f1;\n",
              "        }    #T_5b70af94_2624_11ea_bf89_0242ac1c0002row9_col1 {\n",
              "            background-color:  #034d79;\n",
              "            color:  #f1f1f1;\n",
              "        }    #T_5b70af94_2624_11ea_bf89_0242ac1c0002row9_col2 {\n",
              "            background-color:  #fbf3f9;\n",
              "            color:  #000000;\n",
              "        }    #T_5b70af94_2624_11ea_bf89_0242ac1c0002row10_col0 {\n",
              "            background-color:  #056faf;\n",
              "            color:  #f1f1f1;\n",
              "        }    #T_5b70af94_2624_11ea_bf89_0242ac1c0002row10_col1 {\n",
              "            background-color:  #9fbad9;\n",
              "            color:  #000000;\n",
              "        }    #T_5b70af94_2624_11ea_bf89_0242ac1c0002row10_col2 {\n",
              "            background-color:  #ebe6f2;\n",
              "            color:  #000000;\n",
              "        }    #T_5b70af94_2624_11ea_bf89_0242ac1c0002row11_col0 {\n",
              "            background-color:  #046299;\n",
              "            color:  #f1f1f1;\n",
              "        }    #T_5b70af94_2624_11ea_bf89_0242ac1c0002row11_col1 {\n",
              "            background-color:  #a5bddb;\n",
              "            color:  #000000;\n",
              "        }    #T_5b70af94_2624_11ea_bf89_0242ac1c0002row11_col2 {\n",
              "            background-color:  #f1ebf4;\n",
              "            color:  #000000;\n",
              "        }    #T_5b70af94_2624_11ea_bf89_0242ac1c0002row12_col0 {\n",
              "            background-color:  #046198;\n",
              "            color:  #f1f1f1;\n",
              "        }    #T_5b70af94_2624_11ea_bf89_0242ac1c0002row12_col1 {\n",
              "            background-color:  #056fae;\n",
              "            color:  #f1f1f1;\n",
              "        }    #T_5b70af94_2624_11ea_bf89_0242ac1c0002row12_col2 {\n",
              "            background-color:  #c6cce3;\n",
              "            color:  #000000;\n",
              "        }    #T_5b70af94_2624_11ea_bf89_0242ac1c0002row13_col0 {\n",
              "            background-color:  #71a8ce;\n",
              "            color:  #000000;\n",
              "        }    #T_5b70af94_2624_11ea_bf89_0242ac1c0002row13_col1 {\n",
              "            background-color:  #023858;\n",
              "            color:  #f1f1f1;\n",
              "        }    #T_5b70af94_2624_11ea_bf89_0242ac1c0002row13_col2 {\n",
              "            background-color:  #eee8f3;\n",
              "            color:  #000000;\n",
              "        }    #T_5b70af94_2624_11ea_bf89_0242ac1c0002row14_col0 {\n",
              "            background-color:  #045e94;\n",
              "            color:  #f1f1f1;\n",
              "        }    #T_5b70af94_2624_11ea_bf89_0242ac1c0002row14_col1 {\n",
              "            background-color:  #96b6d7;\n",
              "            color:  #000000;\n",
              "        }    #T_5b70af94_2624_11ea_bf89_0242ac1c0002row14_col2 {\n",
              "            background-color:  #f2ecf5;\n",
              "            color:  #000000;\n",
              "        }    #T_5b70af94_2624_11ea_bf89_0242ac1c0002row15_col0 {\n",
              "            background-color:  #023858;\n",
              "            color:  #f1f1f1;\n",
              "        }    #T_5b70af94_2624_11ea_bf89_0242ac1c0002row15_col1 {\n",
              "            background-color:  #eae6f1;\n",
              "            color:  #000000;\n",
              "        }    #T_5b70af94_2624_11ea_bf89_0242ac1c0002row15_col2 {\n",
              "            background-color:  #f4eef6;\n",
              "            color:  #000000;\n",
              "        }    #T_5b70af94_2624_11ea_bf89_0242ac1c0002row16_col0 {\n",
              "            background-color:  #abbfdc;\n",
              "            color:  #000000;\n",
              "        }    #T_5b70af94_2624_11ea_bf89_0242ac1c0002row16_col1 {\n",
              "            background-color:  #67a4cc;\n",
              "            color:  #000000;\n",
              "        }    #T_5b70af94_2624_11ea_bf89_0242ac1c0002row16_col2 {\n",
              "            background-color:  #f3edf5;\n",
              "            color:  #000000;\n",
              "        }    #T_5b70af94_2624_11ea_bf89_0242ac1c0002row17_col0 {\n",
              "            background-color:  #fff7fb;\n",
              "            color:  #000000;\n",
              "        }    #T_5b70af94_2624_11ea_bf89_0242ac1c0002row17_col1 {\n",
              "            background-color:  #8cb3d5;\n",
              "            color:  #000000;\n",
              "        }    #T_5b70af94_2624_11ea_bf89_0242ac1c0002row17_col2 {\n",
              "            background-color:  #e5e1ef;\n",
              "            color:  #000000;\n",
              "        }    #T_5b70af94_2624_11ea_bf89_0242ac1c0002row18_col0 {\n",
              "            background-color:  #2383ba;\n",
              "            color:  #000000;\n",
              "        }    #T_5b70af94_2624_11ea_bf89_0242ac1c0002row18_col1 {\n",
              "            background-color:  #d6d6e9;\n",
              "            color:  #000000;\n",
              "        }    #T_5b70af94_2624_11ea_bf89_0242ac1c0002row18_col2 {\n",
              "            background-color:  #e7e3f0;\n",
              "            color:  #000000;\n",
              "        }    #T_5b70af94_2624_11ea_bf89_0242ac1c0002row19_col0 {\n",
              "            background-color:  #3d93c2;\n",
              "            color:  #000000;\n",
              "        }    #T_5b70af94_2624_11ea_bf89_0242ac1c0002row19_col1 {\n",
              "            background-color:  #d3d4e7;\n",
              "            color:  #000000;\n",
              "        }    #T_5b70af94_2624_11ea_bf89_0242ac1c0002row19_col2 {\n",
              "            background-color:  #2786bb;\n",
              "            color:  #000000;\n",
              "        }    #T_5b70af94_2624_11ea_bf89_0242ac1c0002row20_col0 {\n",
              "            background-color:  #fff7fb;\n",
              "            color:  #000000;\n",
              "        }    #T_5b70af94_2624_11ea_bf89_0242ac1c0002row20_col1 {\n",
              "            background-color:  #89b1d4;\n",
              "            color:  #000000;\n",
              "        }    #T_5b70af94_2624_11ea_bf89_0242ac1c0002row20_col2 {\n",
              "            background-color:  #bcc7e1;\n",
              "            color:  #000000;\n",
              "        }    #T_5b70af94_2624_11ea_bf89_0242ac1c0002row21_col0 {\n",
              "            background-color:  #89b1d4;\n",
              "            color:  #000000;\n",
              "        }    #T_5b70af94_2624_11ea_bf89_0242ac1c0002row21_col1 {\n",
              "            background-color:  #f4eef6;\n",
              "            color:  #000000;\n",
              "        }    #T_5b70af94_2624_11ea_bf89_0242ac1c0002row21_col2 {\n",
              "            background-color:  #358fc0;\n",
              "            color:  #000000;\n",
              "        }    #T_5b70af94_2624_11ea_bf89_0242ac1c0002row22_col0 {\n",
              "            background-color:  #569dc8;\n",
              "            color:  #000000;\n",
              "        }    #T_5b70af94_2624_11ea_bf89_0242ac1c0002row22_col1 {\n",
              "            background-color:  #d5d5e8;\n",
              "            color:  #000000;\n",
              "        }    #T_5b70af94_2624_11ea_bf89_0242ac1c0002row22_col2 {\n",
              "            background-color:  #023858;\n",
              "            color:  #f1f1f1;\n",
              "        }    #T_5b70af94_2624_11ea_bf89_0242ac1c0002row23_col0 {\n",
              "            background-color:  #2182b9;\n",
              "            color:  #000000;\n",
              "        }    #T_5b70af94_2624_11ea_bf89_0242ac1c0002row23_col1 {\n",
              "            background-color:  #a9bfdc;\n",
              "            color:  #000000;\n",
              "        }    #T_5b70af94_2624_11ea_bf89_0242ac1c0002row23_col2 {\n",
              "            background-color:  #d0d1e6;\n",
              "            color:  #000000;\n",
              "        }</style><table id=\"T_5b70af94_2624_11ea_bf89_0242ac1c0002\" ><thead>    <tr>        <th class=\"blank level0\" ></th>        <th class=\"col_heading level0 col0\" >R2</th>        <th class=\"col_heading level0 col1\" >RMSE</th>        <th class=\"col_heading level0 col2\" >MAPE</th>    </tr></thead><tbody>\n",
              "                <tr>\n",
              "                        <th id=\"T_5b70af94_2624_11ea_bf89_0242ac1c0002level0_row0\" class=\"row_heading level0 row0\" >C5NP</th>\n",
              "                        <td id=\"T_5b70af94_2624_11ea_bf89_0242ac1c0002row0_col0\" class=\"data row0 col0\" >0.91551</td>\n",
              "                        <td id=\"T_5b70af94_2624_11ea_bf89_0242ac1c0002row0_col1\" class=\"data row0 col1\" >0.580197</td>\n",
              "                        <td id=\"T_5b70af94_2624_11ea_bf89_0242ac1c0002row0_col2\" class=\"data row0 col2\" >0.178511</td>\n",
              "            </tr>\n",
              "            <tr>\n",
              "                        <th id=\"T_5b70af94_2624_11ea_bf89_0242ac1c0002level0_row1\" class=\"row_heading level0 row1\" >C5IP</th>\n",
              "                        <td id=\"T_5b70af94_2624_11ea_bf89_0242ac1c0002row1_col0\" class=\"data row1 col0\" >0.942896</td>\n",
              "                        <td id=\"T_5b70af94_2624_11ea_bf89_0242ac1c0002row1_col1\" class=\"data row1 col1\" >0.251712</td>\n",
              "                        <td id=\"T_5b70af94_2624_11ea_bf89_0242ac1c0002row1_col2\" class=\"data row1 col2\" >0.152072</td>\n",
              "            </tr>\n",
              "            <tr>\n",
              "                        <th id=\"T_5b70af94_2624_11ea_bf89_0242ac1c0002level0_row2\" class=\"row_heading level0 row2\" >C5N</th>\n",
              "                        <td id=\"T_5b70af94_2624_11ea_bf89_0242ac1c0002row2_col0\" class=\"data row2 col0\" >0.885381</td>\n",
              "                        <td id=\"T_5b70af94_2624_11ea_bf89_0242ac1c0002row2_col1\" class=\"data row2 col1\" >0.0514957</td>\n",
              "                        <td id=\"T_5b70af94_2624_11ea_bf89_0242ac1c0002row2_col2\" class=\"data row2 col2\" >0.160309</td>\n",
              "            </tr>\n",
              "            <tr>\n",
              "                        <th id=\"T_5b70af94_2624_11ea_bf89_0242ac1c0002level0_row3\" class=\"row_heading level0 row3\" >C6NP</th>\n",
              "                        <td id=\"T_5b70af94_2624_11ea_bf89_0242ac1c0002row3_col0\" class=\"data row3 col0\" >0.871724</td>\n",
              "                        <td id=\"T_5b70af94_2624_11ea_bf89_0242ac1c0002row3_col1\" class=\"data row3 col1\" >0.462486</td>\n",
              "                        <td id=\"T_5b70af94_2624_11ea_bf89_0242ac1c0002row3_col2\" class=\"data row3 col2\" >0.217421</td>\n",
              "            </tr>\n",
              "            <tr>\n",
              "                        <th id=\"T_5b70af94_2624_11ea_bf89_0242ac1c0002level0_row4\" class=\"row_heading level0 row4\" >C6IP</th>\n",
              "                        <td id=\"T_5b70af94_2624_11ea_bf89_0242ac1c0002row4_col0\" class=\"data row4 col0\" >0.841243</td>\n",
              "                        <td id=\"T_5b70af94_2624_11ea_bf89_0242ac1c0002row4_col1\" class=\"data row4 col1\" >0.530455</td>\n",
              "                        <td id=\"T_5b70af94_2624_11ea_bf89_0242ac1c0002row4_col2\" class=\"data row4 col2\" >0.167883</td>\n",
              "            </tr>\n",
              "            <tr>\n",
              "                        <th id=\"T_5b70af94_2624_11ea_bf89_0242ac1c0002level0_row5\" class=\"row_heading level0 row5\" >C6N</th>\n",
              "                        <td id=\"T_5b70af94_2624_11ea_bf89_0242ac1c0002row5_col0\" class=\"data row5 col0\" >0.687507</td>\n",
              "                        <td id=\"T_5b70af94_2624_11ea_bf89_0242ac1c0002row5_col1\" class=\"data row5 col1\" >1.31095</td>\n",
              "                        <td id=\"T_5b70af94_2624_11ea_bf89_0242ac1c0002row5_col2\" class=\"data row5 col2\" >0.207667</td>\n",
              "            </tr>\n",
              "            <tr>\n",
              "                        <th id=\"T_5b70af94_2624_11ea_bf89_0242ac1c0002level0_row6\" class=\"row_heading level0 row6\" >C6A</th>\n",
              "                        <td id=\"T_5b70af94_2624_11ea_bf89_0242ac1c0002row6_col0\" class=\"data row6 col0\" >0.0287173</td>\n",
              "                        <td id=\"T_5b70af94_2624_11ea_bf89_0242ac1c0002row6_col1\" class=\"data row6 col1\" >0.206749</td>\n",
              "                        <td id=\"T_5b70af94_2624_11ea_bf89_0242ac1c0002row6_col2\" class=\"data row6 col2\" >0.474843</td>\n",
              "            </tr>\n",
              "            <tr>\n",
              "                        <th id=\"T_5b70af94_2624_11ea_bf89_0242ac1c0002level0_row7\" class=\"row_heading level0 row7\" >C7NP</th>\n",
              "                        <td id=\"T_5b70af94_2624_11ea_bf89_0242ac1c0002row7_col0\" class=\"data row7 col0\" >0.729185</td>\n",
              "                        <td id=\"T_5b70af94_2624_11ea_bf89_0242ac1c0002row7_col1\" class=\"data row7 col1\" >0.333373</td>\n",
              "                        <td id=\"T_5b70af94_2624_11ea_bf89_0242ac1c0002row7_col2\" class=\"data row7 col2\" >0.0432135</td>\n",
              "            </tr>\n",
              "            <tr>\n",
              "                        <th id=\"T_5b70af94_2624_11ea_bf89_0242ac1c0002level0_row8\" class=\"row_heading level0 row8\" >C7IP</th>\n",
              "                        <td id=\"T_5b70af94_2624_11ea_bf89_0242ac1c0002row8_col0\" class=\"data row8 col0\" >0.900337</td>\n",
              "                        <td id=\"T_5b70af94_2624_11ea_bf89_0242ac1c0002row8_col1\" class=\"data row8 col1\" >0.51935</td>\n",
              "                        <td id=\"T_5b70af94_2624_11ea_bf89_0242ac1c0002row8_col2\" class=\"data row8 col2\" >0.0624674</td>\n",
              "            </tr>\n",
              "            <tr>\n",
              "                        <th id=\"T_5b70af94_2624_11ea_bf89_0242ac1c0002level0_row9\" class=\"row_heading level0 row9\" >C7N</th>\n",
              "                        <td id=\"T_5b70af94_2624_11ea_bf89_0242ac1c0002row9_col0\" class=\"data row9 col0\" >0.876414</td>\n",
              "                        <td id=\"T_5b70af94_2624_11ea_bf89_0242ac1c0002row9_col1\" class=\"data row9 col1\" >1.59031</td>\n",
              "                        <td id=\"T_5b70af94_2624_11ea_bf89_0242ac1c0002row9_col2\" class=\"data row9 col2\" >0.061148</td>\n",
              "            </tr>\n",
              "            <tr>\n",
              "                        <th id=\"T_5b70af94_2624_11ea_bf89_0242ac1c0002level0_row10\" class=\"row_heading level0 row10\" >C7A</th>\n",
              "                        <td id=\"T_5b70af94_2624_11ea_bf89_0242ac1c0002row10_col0\" class=\"data row10 col0\" >0.707213</td>\n",
              "                        <td id=\"T_5b70af94_2624_11ea_bf89_0242ac1c0002row10_col1\" class=\"data row10 col1\" >0.709157</td>\n",
              "                        <td id=\"T_5b70af94_2624_11ea_bf89_0242ac1c0002row10_col2\" class=\"data row10 col2\" >0.126073</td>\n",
              "            </tr>\n",
              "            <tr>\n",
              "                        <th id=\"T_5b70af94_2624_11ea_bf89_0242ac1c0002level0_row11\" class=\"row_heading level0 row11\" >C8NP</th>\n",
              "                        <td id=\"T_5b70af94_2624_11ea_bf89_0242ac1c0002row11_col0\" class=\"data row11 col0\" >0.783179</td>\n",
              "                        <td id=\"T_5b70af94_2624_11ea_bf89_0242ac1c0002row11_col1\" class=\"data row11 col1\" >0.679765</td>\n",
              "                        <td id=\"T_5b70af94_2624_11ea_bf89_0242ac1c0002row11_col2\" class=\"data row11 col2\" >0.10269</td>\n",
              "            </tr>\n",
              "            <tr>\n",
              "                        <th id=\"T_5b70af94_2624_11ea_bf89_0242ac1c0002level0_row12\" class=\"row_heading level0 row12\" >C8IP</th>\n",
              "                        <td id=\"T_5b70af94_2624_11ea_bf89_0242ac1c0002row12_col0\" class=\"data row12 col0\" >0.787226</td>\n",
              "                        <td id=\"T_5b70af94_2624_11ea_bf89_0242ac1c0002row12_col1\" class=\"data row12 col1\" >1.31553</td>\n",
              "                        <td id=\"T_5b70af94_2624_11ea_bf89_0242ac1c0002row12_col2\" class=\"data row12 col2\" >0.217326</td>\n",
              "            </tr>\n",
              "            <tr>\n",
              "                        <th id=\"T_5b70af94_2624_11ea_bf89_0242ac1c0002level0_row13\" class=\"row_heading level0 row13\" >C8N</th>\n",
              "                        <td id=\"T_5b70af94_2624_11ea_bf89_0242ac1c0002row13_col0\" class=\"data row13 col0\" >0.47548</td>\n",
              "                        <td id=\"T_5b70af94_2624_11ea_bf89_0242ac1c0002row13_col1\" class=\"data row13 col1\" >1.72079</td>\n",
              "                        <td id=\"T_5b70af94_2624_11ea_bf89_0242ac1c0002row13_col2\" class=\"data row13 col2\" >0.114362</td>\n",
              "            </tr>\n",
              "            <tr>\n",
              "                        <th id=\"T_5b70af94_2624_11ea_bf89_0242ac1c0002level0_row14\" class=\"row_heading level0 row14\" >C8A</th>\n",
              "                        <td id=\"T_5b70af94_2624_11ea_bf89_0242ac1c0002row14_col0\" class=\"data row14 col0\" >0.801837</td>\n",
              "                        <td id=\"T_5b70af94_2624_11ea_bf89_0242ac1c0002row14_col1\" class=\"data row14 col1\" >0.748447</td>\n",
              "                        <td id=\"T_5b70af94_2624_11ea_bf89_0242ac1c0002row14_col2\" class=\"data row14 col2\" >0.0963776</td>\n",
              "            </tr>\n",
              "            <tr>\n",
              "                        <th id=\"T_5b70af94_2624_11ea_bf89_0242ac1c0002level0_row15\" class=\"row_heading level0 row15\" >C9NP</th>\n",
              "                        <td id=\"T_5b70af94_2624_11ea_bf89_0242ac1c0002row15_col0\" class=\"data row15 col0\" >0.939341</td>\n",
              "                        <td id=\"T_5b70af94_2624_11ea_bf89_0242ac1c0002row15_col1\" class=\"data row15 col1\" >0.275516</td>\n",
              "                        <td id=\"T_5b70af94_2624_11ea_bf89_0242ac1c0002row15_col2\" class=\"data row15 col2\" >0.0879036</td>\n",
              "            </tr>\n",
              "            <tr>\n",
              "                        <th id=\"T_5b70af94_2624_11ea_bf89_0242ac1c0002level0_row16\" class=\"row_heading level0 row16\" >C9IP</th>\n",
              "                        <td id=\"T_5b70af94_2624_11ea_bf89_0242ac1c0002row16_col0\" class=\"data row16 col0\" >0.341352</td>\n",
              "                        <td id=\"T_5b70af94_2624_11ea_bf89_0242ac1c0002row16_col1\" class=\"data row16 col1\" >0.925365</td>\n",
              "                        <td id=\"T_5b70af94_2624_11ea_bf89_0242ac1c0002row16_col2\" class=\"data row16 col2\" >0.0930316</td>\n",
              "            </tr>\n",
              "            <tr>\n",
              "                        <th id=\"T_5b70af94_2624_11ea_bf89_0242ac1c0002level0_row17\" class=\"row_heading level0 row17\" >C9N</th>\n",
              "                        <td id=\"T_5b70af94_2624_11ea_bf89_0242ac1c0002row17_col0\" class=\"data row17 col0\" >0</td>\n",
              "                        <td id=\"T_5b70af94_2624_11ea_bf89_0242ac1c0002row17_col1\" class=\"data row17 col1\" >0.788124</td>\n",
              "                        <td id=\"T_5b70af94_2624_11ea_bf89_0242ac1c0002row17_col2\" class=\"data row17 col2\" >0.142791</td>\n",
              "            </tr>\n",
              "            <tr>\n",
              "                        <th id=\"T_5b70af94_2624_11ea_bf89_0242ac1c0002level0_row18\" class=\"row_heading level0 row18\" >C9A</th>\n",
              "                        <td id=\"T_5b70af94_2624_11ea_bf89_0242ac1c0002row18_col0\" class=\"data row18 col0\" >0.634312</td>\n",
              "                        <td id=\"T_5b70af94_2624_11ea_bf89_0242ac1c0002row18_col1\" class=\"data row18 col1\" >0.426404</td>\n",
              "                        <td id=\"T_5b70af94_2624_11ea_bf89_0242ac1c0002row18_col2\" class=\"data row18 col2\" >0.138558</td>\n",
              "            </tr>\n",
              "            <tr>\n",
              "                        <th id=\"T_5b70af94_2624_11ea_bf89_0242ac1c0002level0_row19\" class=\"row_heading level0 row19\" >C10NP</th>\n",
              "                        <td id=\"T_5b70af94_2624_11ea_bf89_0242ac1c0002row19_col0\" class=\"data row19 col0\" >0.578193</td>\n",
              "                        <td id=\"T_5b70af94_2624_11ea_bf89_0242ac1c0002row19_col1\" class=\"data row19 col1\" >0.443837</td>\n",
              "                        <td id=\"T_5b70af94_2624_11ea_bf89_0242ac1c0002row19_col2\" class=\"data row19 col2\" >0.458153</td>\n",
              "            </tr>\n",
              "            <tr>\n",
              "                        <th id=\"T_5b70af94_2624_11ea_bf89_0242ac1c0002level0_row20\" class=\"row_heading level0 row20\" >C10IP</th>\n",
              "                        <td id=\"T_5b70af94_2624_11ea_bf89_0242ac1c0002row20_col0\" class=\"data row20 col0\" >0</td>\n",
              "                        <td id=\"T_5b70af94_2624_11ea_bf89_0242ac1c0002row20_col1\" class=\"data row20 col1\" >0.801327</td>\n",
              "                        <td id=\"T_5b70af94_2624_11ea_bf89_0242ac1c0002row20_col2\" class=\"data row20 col2\" >0.236922</td>\n",
              "            </tr>\n",
              "            <tr>\n",
              "                        <th id=\"T_5b70af94_2624_11ea_bf89_0242ac1c0002level0_row21\" class=\"row_heading level0 row21\" >C10N</th>\n",
              "                        <td id=\"T_5b70af94_2624_11ea_bf89_0242ac1c0002row21_col0\" class=\"data row21 col0\" >0.421092</td>\n",
              "                        <td id=\"T_5b70af94_2624_11ea_bf89_0242ac1c0002row21_col1\" class=\"data row21 col1\" >0.170362</td>\n",
              "                        <td id=\"T_5b70af94_2624_11ea_bf89_0242ac1c0002row21_col2\" class=\"data row21 col2\" >0.436657</td>\n",
              "            </tr>\n",
              "            <tr>\n",
              "                        <th id=\"T_5b70af94_2624_11ea_bf89_0242ac1c0002level0_row22\" class=\"row_heading level0 row22\" >C10A</th>\n",
              "                        <td id=\"T_5b70af94_2624_11ea_bf89_0242ac1c0002row22_col0\" class=\"data row22 col0\" >0.528471</td>\n",
              "                        <td id=\"T_5b70af94_2624_11ea_bf89_0242ac1c0002row22_col1\" class=\"data row22 col1\" >0.433743</td>\n",
              "                        <td id=\"T_5b70af94_2624_11ea_bf89_0242ac1c0002row22_col2\" class=\"data row22 col2\" >0.670278</td>\n",
              "            </tr>\n",
              "            <tr>\n",
              "                        <th id=\"T_5b70af94_2624_11ea_bf89_0242ac1c0002level0_row23\" class=\"row_heading level0 row23\" >AVG</th>\n",
              "                        <td id=\"T_5b70af94_2624_11ea_bf89_0242ac1c0002row23_col0\" class=\"data row23 col0\" >0.638114</td>\n",
              "                        <td id=\"T_5b70af94_2624_11ea_bf89_0242ac1c0002row23_col1\" class=\"data row23 col1\" >0.66415</td>\n",
              "                        <td id=\"T_5b70af94_2624_11ea_bf89_0242ac1c0002row23_col2\" class=\"data row23 col2\" >0.202029</td>\n",
              "            </tr>\n",
              "    </tbody></table>"
            ],
            "text/plain": [
              "<pandas.io.formats.style.Styler at 0x7fe1a64c5d30>"
            ]
          },
          "metadata": {
            "tags": []
          },
          "execution_count": 19
        }
      ]
    },
    {
      "cell_type": "markdown",
      "metadata": {
        "id": "6-gLrUdpVURE",
        "colab_type": "text"
      },
      "source": [
        "# loss analysis"
      ]
    },
    {
      "cell_type": "code",
      "metadata": {
        "id": "3XEXeYFnXC9C",
        "colab_type": "code",
        "colab": {}
      },
      "source": [
        "y_name = 'C7N'"
      ],
      "execution_count": 0,
      "outputs": []
    },
    {
      "cell_type": "code",
      "metadata": {
        "id": "WcyZ75UulQCb",
        "colab_type": "code",
        "outputId": "37003c1b-dcb8-47dd-da6e-111f37a7bcdc",
        "colab": {
          "base_uri": "https://localhost:8080/",
          "height": 198
        }
      },
      "source": [
        "square_error = (y_pred[y_name]-y_test[y_name])**2\n",
        "plot_data = pd.DataFrame()\n",
        "plot_data[y_name] = y_test[y_name]\n",
        "plot_data[y_name+'_pred'] = y_pred[y_name]\n",
        "plot_data['loss'] = square_error\n",
        "plot_data.sort_values(by='loss',ascending=False).head()"
      ],
      "execution_count": 21,
      "outputs": [
        {
          "output_type": "execute_result",
          "data": {
            "text/html": [
              "<div>\n",
              "<style scoped>\n",
              "    .dataframe tbody tr th:only-of-type {\n",
              "        vertical-align: middle;\n",
              "    }\n",
              "\n",
              "    .dataframe tbody tr th {\n",
              "        vertical-align: top;\n",
              "    }\n",
              "\n",
              "    .dataframe thead th {\n",
              "        text-align: right;\n",
              "    }\n",
              "</style>\n",
              "<table border=\"1\" class=\"dataframe\">\n",
              "  <thead>\n",
              "    <tr style=\"text-align: right;\">\n",
              "      <th></th>\n",
              "      <th>C7N</th>\n",
              "      <th>C7N_pred</th>\n",
              "      <th>loss</th>\n",
              "    </tr>\n",
              "  </thead>\n",
              "  <tbody>\n",
              "    <tr>\n",
              "      <th>145</th>\n",
              "      <td>17.906555</td>\n",
              "      <td>13.575891</td>\n",
              "      <td>18.754649</td>\n",
              "    </tr>\n",
              "    <tr>\n",
              "      <th>135</th>\n",
              "      <td>18.577741</td>\n",
              "      <td>14.668557</td>\n",
              "      <td>15.281721</td>\n",
              "    </tr>\n",
              "    <tr>\n",
              "      <th>155</th>\n",
              "      <td>17.918637</td>\n",
              "      <td>15.605377</td>\n",
              "      <td>5.351168</td>\n",
              "    </tr>\n",
              "    <tr>\n",
              "      <th>200</th>\n",
              "      <td>14.437906</td>\n",
              "      <td>12.394780</td>\n",
              "      <td>4.174365</td>\n",
              "    </tr>\n",
              "    <tr>\n",
              "      <th>120</th>\n",
              "      <td>20.558219</td>\n",
              "      <td>18.709633</td>\n",
              "      <td>3.417269</td>\n",
              "    </tr>\n",
              "  </tbody>\n",
              "</table>\n",
              "</div>"
            ],
            "text/plain": [
              "           C7N   C7N_pred       loss\n",
              "145  17.906555  13.575891  18.754649\n",
              "135  18.577741  14.668557  15.281721\n",
              "155  17.918637  15.605377   5.351168\n",
              "200  14.437906  12.394780   4.174365\n",
              "120  20.558219  18.709633   3.417269"
            ]
          },
          "metadata": {
            "tags": []
          },
          "execution_count": 21
        }
      ]
    },
    {
      "cell_type": "code",
      "metadata": {
        "id": "tradnTaRcAZk",
        "colab_type": "code",
        "outputId": "4f0849ea-5b3f-4de0-c6ba-75900b2f357e",
        "colab": {
          "base_uri": "https://localhost:8080/",
          "height": 283
        }
      },
      "source": [
        "sns.distplot(square_error)\n",
        "plt.xlabel(y_name+'_loss')\n",
        "plt.ylabel('density')\n",
        "plt.show()"
      ],
      "execution_count": 22,
      "outputs": [
        {
          "output_type": "display_data",
          "data": {
            "image/png": "[encoded data removed]",
            "text/plain": [
              "<Figure size 432x288 with 1 Axes>"
            ]
          },
          "metadata": {
            "tags": []
          }
        }
      ]
    },
    {
      "cell_type": "code",
      "metadata": {
        "id": "EbnhYjXeZmzS",
        "colab_type": "code",
        "outputId": "dd73ef1e-7084-4f67-f17b-de8ddf9adc69",
        "colab": {
          "base_uri": "https://localhost:8080/",
          "height": 298
        }
      },
      "source": [
        "plt.plot(plot_data.index,[0 for i in range(len(plot_data))])\n",
        "plt.scatter(plot_data.index,plot_data.loss,color='black')\n",
        "plt.xlabel('index')\n",
        "plt.ylabel('square_error')"
      ],
      "execution_count": 23,
      "outputs": [
        {
          "output_type": "execute_result",
          "data": {
            "text/plain": [
              "Text(0, 0.5, 'square_error')"
            ]
          },
          "metadata": {
            "tags": []
          },
          "execution_count": 23
        },
        {
          "output_type": "display_data",
          "data": {
            "image/png": "[encoded data removed]",
            "text/plain": [
              "<Figure size 432x288 with 1 Axes>"
            ]
          },
          "metadata": {
            "tags": []
          }
        }
      ]
    },
    {
      "cell_type": "code",
      "metadata": {
        "id": "XYy2D_7Kg2VU",
        "colab_type": "code",
        "colab": {}
      },
      "source": [
        ""
      ],
      "execution_count": 0,
      "outputs": []
    }
  ]
}